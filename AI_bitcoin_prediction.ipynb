{
 "cells": [
  {
   "cell_type": "code",
   "execution_count": 1,
   "id": "b22f52a8",
   "metadata": {},
   "outputs": [],
   "source": [
    "# !pip install numpy"
   ]
  },
  {
   "cell_type": "markdown",
   "id": "099e86e0",
   "metadata": {},
   "source": [
    "##### Bitcoin price download: https://finance.yahoo.com/quote/BTC-USD/history?p=BTC-USD\n",
    "##### talib whl 檔案下載位置:  https://www.lfd.uci.edu/~gohlke/pythonlibs/#ta-lib\n",
    "##### talib 安裝中文說明 (不一定能用 ):  https://www.lfd.uci.edu/~gohlke/pythonlibs/#ta-lib\n",
    "##### talib 安裝指令: pip install TA_Lib-0.4.20-cp38-cp38-win_amd64.whl\n",
    "##### talib 使用方式: http://mrjbq7.github.io/ta-lib/"
   ]
  },
  {
   "cell_type": "code",
   "execution_count": 2,
   "id": "7490292f",
   "metadata": {},
   "outputs": [],
   "source": [
    "import pandas as pd\n",
    "import numpy as np"
   ]
  },
  {
   "cell_type": "code",
   "execution_count": 3,
   "id": "3279e3f1",
   "metadata": {},
   "outputs": [
    {
     "name": "stdout",
     "output_type": "stream",
     "text": [
      "[       nan        nan        nan        nan        nan        nan\n",
      "        nan        nan        nan        nan        nan        nan\n",
      "        nan        nan        nan        nan        nan        nan\n",
      "        nan        nan        nan        nan        nan        nan\n",
      " 0.45781578 0.47028608 0.4723607  0.48104856 0.47197217 0.47534055\n",
      " 0.46333709 0.4921709  0.49555115 0.47201504 0.47454032 0.47564872\n",
      " 0.48307858 0.49349862 0.50117191 0.50708604 0.5054701  0.52769052\n",
      " 0.51160677 0.51964885 0.48893393 0.48596379 0.49895338 0.49714966\n",
      " 0.50487102 0.49649492 0.47567875 0.50137355 0.51657324 0.54041288\n",
      " 0.53546906 0.53382311 0.49843876 0.49205702 0.5074696  0.53348456\n",
      " 0.51810892 0.50217799 0.50137338 0.46981305 0.45575193 0.47658843\n",
      " 0.49278285 0.50669626 0.50835764 0.52421138 0.52292044 0.52333458\n",
      " 0.48634183 0.47258283 0.47245706 0.48557632 0.47937512 0.46295827\n",
      " 0.45267751 0.43709527 0.45961827 0.4613302  0.49126341 0.48229871\n",
      " 0.46873486 0.45495878 0.45225671 0.45546308 0.48765946 0.50853371\n",
      " 0.50582392 0.49057279 0.48125539 0.48430066 0.47621561 0.50995267\n",
      " 0.49911211 0.52627567 0.51462677 0.51143837]\n",
      "100\n",
      "           0\n",
      "24  0.457816\n",
      "25  0.470286\n",
      "26  0.472361\n",
      "27  0.481049\n",
      "28  0.471972\n",
      "..       ...\n",
      "95  0.509953\n",
      "96  0.499112\n",
      "97  0.526276\n",
      "98  0.514627\n",
      "99  0.511438\n",
      "\n",
      "[76 rows x 1 columns]\n",
      "(76, 1)\n"
     ]
    }
   ],
   "source": [
    "# note that all ndarrays must be the same length!\n",
    "inputs = {\n",
    "    'open': np.random.random(100),\n",
    "    'high': np.random.random(100),\n",
    "    'low': np.random.random(100),\n",
    "    'close': np.random.random(100),\n",
    "    'volume': np.random.random(100)\n",
    "}\n",
    "\n",
    "from talib.abstract import *\n",
    "output = SMA(inputs, timeperiod=25) # calculate on close prices by default\n",
    "print(output)\n",
    "print(len(list(output)))\n",
    "print(pd.DataFrame(output).dropna())\n",
    "print(pd.DataFrame(output).dropna().shape)\n",
    "\n",
    "# output = SMA(inputs, timeperiod=25, price='open') # calculate on opens\n",
    "# print(output)\n",
    "# upper, middle, lower = BBANDS(inputs, 20, 2, 2)\n",
    "# print(upper, middle, lower)\n",
    "# slowk, slowd = STOCH(inputs, 5, 3, 0, 3, 0) # uses high, low, close by default\n",
    "# print(slowk, slowd)\n",
    "# slowk, slowd = STOCH(inputs, 5, 3, 0, 3, 0, prices=['high', 'low', 'open'])\n",
    "# print(slowk, slowd)"
   ]
  },
  {
   "cell_type": "code",
   "execution_count": null,
   "id": "3a5ae6ee",
   "metadata": {},
   "outputs": [],
   "source": []
  },
  {
   "cell_type": "code",
   "execution_count": null,
   "id": "6beecf45",
   "metadata": {},
   "outputs": [],
   "source": [
    "import pandas as pd"
   ]
  },
  {
   "cell_type": "code",
   "execution_count": null,
   "id": "5e073be1",
   "metadata": {},
   "outputs": [],
   "source": [
    "pd.read_excel(\"BTC-USD.xlsx\").head()"
   ]
  },
  {
   "cell_type": "code",
   "execution_count": null,
   "id": "57ded707",
   "metadata": {},
   "outputs": [],
   "source": [
    "BTC = pd.read_excel(\"BTC-USD.xlsx\")"
   ]
  },
  {
   "cell_type": "code",
   "execution_count": null,
   "id": "b3c5b029",
   "metadata": {},
   "outputs": [],
   "source": [
    "BTC"
   ]
  },
  {
   "cell_type": "code",
   "execution_count": null,
   "id": "afca910f",
   "metadata": {},
   "outputs": [],
   "source": [
    "BTC.shape"
   ]
  }
 ],
 "metadata": {
  "kernelspec": {
   "display_name": "Python 3",
   "language": "python",
   "name": "python3"
  },
  "language_info": {
   "codemirror_mode": {
    "name": "ipython",
    "version": 3
   },
   "file_extension": ".py",
   "mimetype": "text/x-python",
   "name": "python",
   "nbconvert_exporter": "python",
   "pygments_lexer": "ipython3",
   "version": "3.8.8"
  }
 },
 "nbformat": 4,
 "nbformat_minor": 5
}
