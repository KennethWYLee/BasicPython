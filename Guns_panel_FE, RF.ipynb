{
 "cells": [
  {
   "cell_type": "code",
   "execution_count": 3,
   "metadata": {},
   "outputs": [],
   "source": [
    "# Import and preprocess data\n",
    "import pandas as pd"
   ]
  },
  {
   "cell_type": "code",
   "execution_count": 18,
   "metadata": {},
   "outputs": [],
   "source": [
    "dataset = pd.read_csv('Guns.csv', usecols = ['state', 'year', 'income', 'violent','prisoners'], \\\n",
    "                      index_col = ['state', 'year'])"
   ]
  },
  {
   "cell_type": "code",
   "execution_count": 19,
   "metadata": {},
   "outputs": [],
   "source": [
    "years = dataset.index.get_level_values('year').to_list()\n",
    "dataset['year'] = pd.Categorical(years)"
   ]
  },
  {
   "cell_type": "code",
   "execution_count": 20,
   "metadata": {},
   "outputs": [
    {
     "data": {
      "text/plain": [
       "state    year\n",
       "Alabama  1977    1977\n",
       "         1978    1978\n",
       "         1979    1979\n",
       "         1980    1980\n",
       "         1981    1981\n",
       "                 ... \n",
       "Wyoming  1995    1995\n",
       "         1996    1996\n",
       "         1997    1997\n",
       "         1998    1998\n",
       "         1999    1999\n",
       "Name: year, Length: 1173, dtype: category\n",
       "Categories (23, int64): [1977, 1978, 1979, 1980, ..., 1996, 1997, 1998, 1999]"
      ]
     },
     "execution_count": 20,
     "metadata": {},
     "output_type": "execute_result"
    }
   ],
   "source": [
    "dataset['year']"
   ]
  },
  {
   "cell_type": "code",
   "execution_count": 21,
   "metadata": {},
   "outputs": [],
   "source": [
    "from linearmodels import PooledOLS\n",
    "import statsmodels.api as sm"
   ]
  },
  {
   "cell_type": "code",
   "execution_count": 22,
   "metadata": {},
   "outputs": [],
   "source": [
    "exog = sm.tools.tools.add_constant(dataset['income'])\n",
    "endog = dataset['violent']\n",
    "mod = PooledOLS(endog, exog)\n",
    "pooledOLS_res = mod.fit(cov_type='clustered', cluster_entity=True)\n",
    "# Store values for checking homoskedasticity graphically\n",
    "fittedvals_pooled_OLS = pooledOLS_res.predict().fitted_values\n",
    "residuals_pooled_OLS = pooledOLS_res.resids"
   ]
  },
  {
   "cell_type": "code",
   "execution_count": 23,
   "metadata": {},
   "outputs": [
    {
     "data": {
      "image/png": "[encoded data removed]",
      "text/plain": [
       "<Figure size 432x288 with 1 Axes>"
      ]
     },
     "metadata": {
      "needs_background": "light"
     },
     "output_type": "display_data"
    }
   ],
   "source": [
    "# 3A. Homoskedasticity\n",
    "import matplotlib.pyplot as plt\n",
    " # 3A.1 Residuals-Plot for growing Variance Detection\n",
    "fig, ax = plt.subplots()\n",
    "ax.scatter(fittedvals_pooled_OLS, residuals_pooled_OLS, color = 'blue')\n",
    "ax.axhline(0, color = 'r', ls = '--')\n",
    "ax.set_xlabel('Predicted Values', fontsize = 15)\n",
    "ax.set_ylabel('Residuals', fontsize = 15)\n",
    "ax.set_title('Homoskedasticity Test', fontsize = 30)\n",
    "plt.show()"
   ]
  },
  {
   "cell_type": "code",
   "execution_count": null,
   "metadata": {},
   "outputs": [],
   "source": []
  },
  {
   "cell_type": "code",
   "execution_count": 24,
   "metadata": {},
   "outputs": [
    {
     "name": "stdout",
     "output_type": "stream",
     "text": [
      "{'LM-Stat': 200.15502156044568, 'LM p-val': 3.442621728588946e-44, 'F-Stat': 120.35903993735407, 'F p-val': 2.925453555717697e-48}\n",
      "{'LM-Stat': 110.96166044221745, 'LM p-val': 6.032616972194349e-26, 'F-Stat': 122.34596392437228, 'F p-val': 4.048137598792713e-27}\n"
     ]
    }
   ],
   "source": [
    "# 3A.2 White-Test\n",
    "from statsmodels.stats.diagnostic import het_white, het_breuschpagan\n",
    "pooled_OLS_dataset = pd.concat([dataset, residuals_pooled_OLS], axis=1)\n",
    "pooled_OLS_dataset = pooled_OLS_dataset.drop(['year'], axis = 1).fillna(0)\n",
    "exog = sm.tools.tools.add_constant(dataset['income']).fillna(0)\n",
    "white_test_results = het_white(pooled_OLS_dataset['residual'], exog)\n",
    "labels = ['LM-Stat', 'LM p-val', 'F-Stat', 'F p-val'] \n",
    "print(dict(zip(labels, white_test_results)))\n",
    "# 3A.3 Breusch-Pagan-Test\n",
    "breusch_pagan_test_results = het_breuschpagan(pooled_OLS_dataset['residual'], exog)\n",
    "labels = ['LM-Stat', 'LM p-val', 'F-Stat', 'F p-val'] \n",
    "print(dict(zip(labels, breusch_pagan_test_results)))"
   ]
  },
  {
   "cell_type": "code",
   "execution_count": 25,
   "metadata": {},
   "outputs": [
    {
     "name": "stdout",
     "output_type": "stream",
     "text": [
      "0.08937264851640213\n"
     ]
    }
   ],
   "source": [
    "# 3.B Non-Autocorrelation\n",
    "# Durbin-Watson-Test\n",
    "from statsmodels.stats.stattools import durbin_watson\n",
    "\n",
    "durbin_watson_test_results = durbin_watson(pooled_OLS_dataset['residual']) \n",
    "print(durbin_watson_test_results)"
   ]
  },
  {
   "cell_type": "code",
   "execution_count": 34,
   "metadata": {},
   "outputs": [
    {
     "data": {
      "text/plain": [
       "state    year\n",
       "Alabama  1977     9563.148\n",
       "         1978     9932.000\n",
       "         1979     9877.028\n",
       "         1980     9541.428\n",
       "         1981     9548.351\n",
       "                   ...    \n",
       "Wyoming  1995    14070.160\n",
       "         1996    14032.230\n",
       "         1997    14790.980\n",
       "         1998    15225.510\n",
       "         1999    15765.070\n",
       "Name: income, Length: 1173, dtype: float64"
      ]
     },
     "execution_count": 34,
     "metadata": {},
     "output_type": "execute_result"
    }
   ],
   "source": [
    "dataset['income']"
   ]
  },
  {
   "cell_type": "code",
   "execution_count": 32,
   "metadata": {},
   "outputs": [
    {
     "data": {
      "text/html": [
       "<div>\n",
       "<style scoped>\n",
       "    .dataframe tbody tr th:only-of-type {\n",
       "        vertical-align: middle;\n",
       "    }\n",
       "\n",
       "    .dataframe tbody tr th {\n",
       "        vertical-align: top;\n",
       "    }\n",
       "\n",
       "    .dataframe thead th {\n",
       "        text-align: right;\n",
       "    }\n",
       "</style>\n",
       "<table border=\"1\" class=\"dataframe\">\n",
       "  <thead>\n",
       "    <tr style=\"text-align: right;\">\n",
       "      <th></th>\n",
       "      <th></th>\n",
       "      <th>income</th>\n",
       "      <th>prisoners</th>\n",
       "    </tr>\n",
       "    <tr>\n",
       "      <th>state</th>\n",
       "      <th>year</th>\n",
       "      <th></th>\n",
       "      <th></th>\n",
       "    </tr>\n",
       "  </thead>\n",
       "  <tbody>\n",
       "    <tr>\n",
       "      <th rowspan=\"5\" valign=\"top\">Alabama</th>\n",
       "      <th>1977</th>\n",
       "      <td>9563.148</td>\n",
       "      <td>83</td>\n",
       "    </tr>\n",
       "    <tr>\n",
       "      <th>1978</th>\n",
       "      <td>9932.000</td>\n",
       "      <td>94</td>\n",
       "    </tr>\n",
       "    <tr>\n",
       "      <th>1979</th>\n",
       "      <td>9877.028</td>\n",
       "      <td>144</td>\n",
       "    </tr>\n",
       "    <tr>\n",
       "      <th>1980</th>\n",
       "      <td>9541.428</td>\n",
       "      <td>141</td>\n",
       "    </tr>\n",
       "    <tr>\n",
       "      <th>1981</th>\n",
       "      <td>9548.351</td>\n",
       "      <td>149</td>\n",
       "    </tr>\n",
       "    <tr>\n",
       "      <th>...</th>\n",
       "      <th>...</th>\n",
       "      <td>...</td>\n",
       "      <td>...</td>\n",
       "    </tr>\n",
       "    <tr>\n",
       "      <th rowspan=\"5\" valign=\"top\">Wyoming</th>\n",
       "      <th>1995</th>\n",
       "      <td>14070.160</td>\n",
       "      <td>254</td>\n",
       "    </tr>\n",
       "    <tr>\n",
       "      <th>1996</th>\n",
       "      <td>14032.230</td>\n",
       "      <td>289</td>\n",
       "    </tr>\n",
       "    <tr>\n",
       "      <th>1997</th>\n",
       "      <td>14790.980</td>\n",
       "      <td>310</td>\n",
       "    </tr>\n",
       "    <tr>\n",
       "      <th>1998</th>\n",
       "      <td>15225.510</td>\n",
       "      <td>326</td>\n",
       "    </tr>\n",
       "    <tr>\n",
       "      <th>1999</th>\n",
       "      <td>15765.070</td>\n",
       "      <td>327</td>\n",
       "    </tr>\n",
       "  </tbody>\n",
       "</table>\n",
       "<p>1173 rows × 2 columns</p>\n",
       "</div>"
      ],
      "text/plain": [
       "                 income  prisoners\n",
       "state   year                      \n",
       "Alabama 1977   9563.148         83\n",
       "        1978   9932.000         94\n",
       "        1979   9877.028        144\n",
       "        1980   9541.428        141\n",
       "        1981   9548.351        149\n",
       "...                 ...        ...\n",
       "Wyoming 1995  14070.160        254\n",
       "        1996  14032.230        289\n",
       "        1997  14790.980        310\n",
       "        1998  15225.510        326\n",
       "        1999  15765.070        327\n",
       "\n",
       "[1173 rows x 2 columns]"
      ]
     },
     "execution_count": 32,
     "metadata": {},
     "output_type": "execute_result"
    }
   ],
   "source": [
    "dataset[['income','prisoners']]"
   ]
  },
  {
   "cell_type": "code",
   "execution_count": 33,
   "metadata": {},
   "outputs": [
    {
     "name": "stdout",
     "output_type": "stream",
     "text": [
      "                        RandomEffects Estimation Summary                        \n",
      "================================================================================\n",
      "Dep. Variable:                violent   R-squared:                        0.1830\n",
      "Estimator:              RandomEffects   R-squared (Between):              0.2730\n",
      "No. Observations:                1173   R-squared (Within):               0.1678\n",
      "Date:                Thu, Apr 08 2021   R-squared (Overall):              0.2621\n",
      "Time:                        15:00:33   Log-likelihood                   -7124.7\n",
      "Cov. Estimator:            Unadjusted                                           \n",
      "                                        F-statistic:                      131.03\n",
      "Entities:                          51   P-value                           0.0000\n",
      "Avg Obs:                       23.000   Distribution:                  F(2,1170)\n",
      "Min Obs:                       23.000                                           \n",
      "Max Obs:                       23.000   F-statistic (robust):             131.03\n",
      "                                        P-value                           0.0000\n",
      "Time periods:                      23   Distribution:                  F(2,1170)\n",
      "Avg Obs:                       51.000                                           \n",
      "Min Obs:                       51.000                                           \n",
      "Max Obs:                       51.000                                           \n",
      "                                                                                \n",
      "                             Parameter Estimates                              \n",
      "==============================================================================\n",
      "            Parameter  Std. Err.     T-stat    P-value    Lower CI    Upper CI\n",
      "------------------------------------------------------------------------------\n",
      "const          355.10     39.851     8.9106     0.0000      276.91      433.28\n",
      "income         0.0046     0.0028     1.6307     0.1032     -0.0009      0.0102\n",
      "prisoners      0.3739     0.0374     9.9870     0.0000      0.3004      0.4473\n",
      "==============================================================================\n",
      "                          PanelOLS Estimation Summary                           \n",
      "================================================================================\n",
      "Dep. Variable:                violent   R-squared:                        0.1700\n",
      "Estimator:                   PanelOLS   R-squared (Between):              0.2470\n",
      "No. Observations:                1173   R-squared (Within):               0.1700\n",
      "Date:                Thu, Apr 08 2021   R-squared (Overall):              0.2390\n",
      "Time:                        15:00:33   Log-likelihood                   -7042.7\n",
      "Cov. Estimator:            Unadjusted                                           \n",
      "                                        F-statistic:                      114.70\n",
      "Entities:                          51   P-value                           0.0000\n",
      "Avg Obs:                       23.000   Distribution:                  F(2,1120)\n",
      "Min Obs:                       23.000                                           \n",
      "Max Obs:                       23.000   F-statistic (robust):             114.70\n",
      "                                        P-value                           0.0000\n",
      "Time periods:                      23   Distribution:                  F(2,1120)\n",
      "Avg Obs:                       51.000                                           \n",
      "Min Obs:                       51.000                                           \n",
      "Max Obs:                       51.000                                           \n",
      "                                                                                \n",
      "                             Parameter Estimates                              \n",
      "==============================================================================\n",
      "            Parameter  Std. Err.     T-stat    P-value    Lower CI    Upper CI\n",
      "------------------------------------------------------------------------------\n",
      "const          355.87     32.863     10.829     0.0000      291.39      420.35\n",
      "income         0.0054     0.0028     1.9212     0.0550     -0.0001      0.0109\n",
      "prisoners      0.3243     0.0369     8.7931     0.0000      0.2520      0.3967\n",
      "==============================================================================\n",
      "\n",
      "F-test for Poolability: 107.08\n",
      "P-value: 0.0000\n",
      "Distribution: F(50,1120)\n",
      "\n",
      "Included effects: Entity\n"
     ]
    }
   ],
   "source": [
    "# FE und RE model\n",
    "from linearmodels import PanelOLS\n",
    "from linearmodels import RandomEffects\n",
    "exog = sm.tools.tools.add_constant(dataset[['income','prisoners']])\n",
    "endog = dataset['violent']\n",
    "# random effects model\n",
    "model_re = RandomEffects(endog, exog) \n",
    "re_res = model_re.fit() \n",
    "# fixed effects model\n",
    "model_fe = PanelOLS(endog, exog, entity_effects = True) \n",
    "fe_res = model_fe.fit() \n",
    "#print results\n",
    "print(re_res)\n",
    "print(fe_res)"
   ]
  },
  {
   "cell_type": "code",
   "execution_count": 27,
   "metadata": {},
   "outputs": [
    {
     "name": "stdout",
     "output_type": "stream",
     "text": [
      "chi-Squared: 9.426371343365807\n",
      "degrees of freedom: 2\n",
      "p-Value: 0.008976136961510497\n"
     ]
    }
   ],
   "source": [
    "import numpy.linalg as la\n",
    "from scipy import stats\n",
    "import numpy as np\n",
    "def hausman(fe, re):\n",
    "    b = fe.params\n",
    "    B = re.params\n",
    "    v_b = fe.cov\n",
    "    v_B = re.cov\n",
    "    df = b[np.abs(b) < 1e8].size\n",
    "    chi2 = np.dot((b - B).T, la.inv(v_b - v_B).dot(b - B)) \n",
    "\n",
    "    pval = stats.chi2.sf(chi2, df)\n",
    "    return chi2, df, pval\n",
    "hausman_results = hausman(fe_res, re_res) \n",
    "print('chi-Squared: ' + str(hausman_results[0]))\n",
    "print('degrees of freedom: ' + str(hausman_results[1]))\n",
    "print('p-Value: ' + str(hausman_results[2]))"
   ]
  },
  {
   "cell_type": "code",
   "execution_count": null,
   "metadata": {},
   "outputs": [],
   "source": []
  },
  {
   "cell_type": "code",
   "execution_count": null,
   "metadata": {},
   "outputs": [],
   "source": []
  }
 ],
 "metadata": {
  "kernelspec": {
   "display_name": "Python 3",
   "language": "python",
   "name": "python3"
  },
  "language_info": {
   "codemirror_mode": {
    "name": "ipython",
    "version": 3
   },
   "file_extension": ".py",
   "mimetype": "text/x-python",
   "name": "python",
   "nbconvert_exporter": "python",
   "pygments_lexer": "ipython3",
   "version": "3.8.5"
  }
 },
 "nbformat": 4,
 "nbformat_minor": 4
}
