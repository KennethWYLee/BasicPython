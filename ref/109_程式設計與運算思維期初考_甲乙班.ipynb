{
 "cells": [
  {
   "cell_type": "code",
   "execution_count": 2,
   "metadata": {},
   "outputs": [
    {
     "name": "stdout",
     "output_type": "stream",
     "text": [
      "|Hello, \tworld|\n"
     ]
    }
   ],
   "source": [
    "print('|Hello, \\tworld|')"
   ]
  },
  {
   "cell_type": "code",
   "execution_count": 3,
   "metadata": {},
   "outputs": [
    {
     "name": "stdout",
     "output_type": "stream",
     "text": [
      "123\n",
      "123, 12345\n"
     ]
    }
   ],
   "source": [
    "print('{0}'.format(123))\n",
    "print('{0}, {1}'.format(123, 12345))"
   ]
  },
  {
   "cell_type": "code",
   "execution_count": 6,
   "metadata": {},
   "outputs": [
    {
     "name": "stdout",
     "output_type": "stream",
     "text": [
      "3.25 degree Celsius in Fahrenheit is 37.85\n",
      "94.50 degree Fahrenheit in Celsius is 34.72\n"
     ]
    }
   ],
   "source": [
    "print('%.2f degree Celsius in Fahrenheit \\\n",
    "is %.2f' % (3.25,3.25*1.8+32))\n",
    "print('%.2f degree Fahrenheit in Celsius \\\n",
    "is %.2f' % (94.5,(94.5-32)/1.8))"
   ]
  },
  {
   "cell_type": "code",
   "execution_count": 7,
   "metadata": {},
   "outputs": [],
   "source": [
    "# This program display learning Python now!"
   ]
  },
  {
   "cell_type": "code",
   "execution_count": 9,
   "metadata": {},
   "outputs": [
    {
     "name": "stdout",
     "output_type": "stream",
     "text": [
      "2.0\n"
     ]
    }
   ],
   "source": [
    "import math\n",
    "print( math.log(100, 10) )"
   ]
  },
  {
   "cell_type": "code",
   "execution_count": 10,
   "metadata": {},
   "outputs": [
    {
     "name": "stdout",
     "output_type": "stream",
     "text": [
      "125 / 25 = 5.0\n",
      "Over\n"
     ]
    }
   ],
   "source": [
    "numerator = 125\n",
    "denominator = 25\n",
    "if denominator !=0:\n",
    "    ans = numerator / denominator\n",
    "    print(numerator, \"/\",denominator, \"=\",ans)\n",
    "print(\"Over\")"
   ]
  },
  {
   "cell_type": "code",
   "execution_count": 14,
   "metadata": {},
   "outputs": [
    {
     "name": "stdout",
     "output_type": "stream",
     "text": [
      "python is fun2\n"
     ]
    }
   ],
   "source": [
    "# print( python, 'is fun', float(2))\n",
    "print( 'python', 'is fun'+str(int(float(2))) )"
   ]
  },
  {
   "cell_type": "code",
   "execution_count": 18,
   "metadata": {},
   "outputs": [
    {
     "name": "stdout",
     "output_type": "stream",
     "text": [
      "123\n"
     ]
    }
   ],
   "source": [
    "# a = \"123.456\"\n",
    "# print(a)\n",
    "a = int(float(\"123.456\"))\n",
    "print(a)"
   ]
  },
  {
   "cell_type": "code",
   "execution_count": 23,
   "metadata": {},
   "outputs": [
    {
     "name": "stdout",
     "output_type": "stream",
     "text": [
      "1.0\n",
      "100\n"
     ]
    }
   ],
   "source": [
    "a = 10\n",
    "b = 20\n",
    "temp = a \n",
    "b = temp\n",
    "\n",
    "if( a >= 20):\n",
    "    print( a *10 )\n",
    "else:\n",
    "    if( a >= 10):\n",
    "        print( a / 10)\n",
    "    else: \n",
    "        print( a + 10)\n",
    "a = a *10\n",
    "print(a)\n"
   ]
  },
  {
   "cell_type": "code",
   "execution_count": 22,
   "metadata": {},
   "outputs": [
    {
     "data": {
      "text/plain": [
       "110"
      ]
     },
     "execution_count": 22,
     "metadata": {},
     "output_type": "execute_result"
    }
   ],
   "source": [
    "a"
   ]
  },
  {
   "cell_type": "code",
   "execution_count": 24,
   "metadata": {},
   "outputs": [
    {
     "name": "stdout",
     "output_type": "stream",
     "text": [
      "\"Hello, everyone\"\n"
     ]
    }
   ],
   "source": [
    "print('\\\"Hello, everyone\\\"')"
   ]
  },
  {
   "cell_type": "code",
   "execution_count": 25,
   "metadata": {},
   "outputs": [
    {
     "name": "stdout",
     "output_type": "stream",
     "text": [
      "23.89%\n"
     ]
    }
   ],
   "source": [
    "print(format(0.2389, '6.2%'))"
   ]
  },
  {
   "cell_type": "code",
   "execution_count": 26,
   "metadata": {},
   "outputs": [
    {
     "name": "stdout",
     "output_type": "stream",
     "text": [
      "Radius = 5, area =   78.54\n"
     ]
    }
   ],
   "source": [
    "print('Radius = %d, area = %7.2f' % (5, 5*5*3.14159))"
   ]
  },
  {
   "cell_type": "code",
   "execution_count": 29,
   "metadata": {},
   "outputs": [],
   "source": [
    "# This program display learning Python now!"
   ]
  },
  {
   "cell_type": "code",
   "execution_count": 30,
   "metadata": {},
   "outputs": [
    {
     "name": "stdout",
     "output_type": "stream",
     "text": [
      "9\n",
      "8\n"
     ]
    }
   ],
   "source": [
    "import math\n",
    "print( math.ceil(8.8) )\n",
    "print( math.floor(8.8) )"
   ]
  },
  {
   "cell_type": "code",
   "execution_count": 31,
   "metadata": {},
   "outputs": [
    {
     "name": "stdout",
     "output_type": "stream",
     "text": [
      "125 / 25 = 5.0\n",
      "Over\n"
     ]
    }
   ],
   "source": [
    "numerator = 125\n",
    "denominator = 25\n",
    "if denominator !=0:\n",
    "    ans = numerator / denominator\n",
    "    print(numerator, \"/\",denominator, \"=\",ans)\n",
    "print(\"Over\")\n"
   ]
  },
  {
   "cell_type": "code",
   "execution_count": 33,
   "metadata": {},
   "outputs": [
    {
     "name": "stdout",
     "output_type": "stream",
     "text": [
      "101\n"
     ]
    }
   ],
   "source": [
    "# 輸出 101\n",
    "# print( str(1) + 100 ) \n",
    "print( int(str(1)) + 100 ) "
   ]
  },
  {
   "cell_type": "code",
   "execution_count": 37,
   "metadata": {},
   "outputs": [
    {
     "name": "stdout",
     "output_type": "stream",
     "text": [
      "123.00\n"
     ]
    }
   ],
   "source": [
    "# b = \"123\"\n",
    "# print(b)\n",
    "b = \"123\"\n",
    "b = float(b)\n",
    "print(\"%.2f\"%b)"
   ]
  },
  {
   "cell_type": "code",
   "execution_count": 39,
   "metadata": {},
   "outputs": [],
   "source": [
    "a = 50\n",
    "if (a >= 50):\n",
    "    a = a + 10\n",
    "    a = a *20\n",
    "else:\n",
    "    a = a - 10\n",
    "    a = a / 10\n",
    "a = 10\n",
    "a = a -20"
   ]
  },
  {
   "cell_type": "code",
   "execution_count": 40,
   "metadata": {},
   "outputs": [
    {
     "name": "stdout",
     "output_type": "stream",
     "text": [
      "100\n",
      "50\n"
     ]
    }
   ],
   "source": [
    "a = 30\n",
    "b = 20\n",
    "c = 10\n",
    "\n",
    "temp = a\n",
    "b = c \n",
    "c = temp\n",
    "a = b\n",
    "\n",
    "if ( b * a >= 100):\n",
    "    print( a + 10*b-10)\n",
    "else:\n",
    "    if( b != c ):\n",
    "        print( b )\n",
    "\n",
    "print( a + b + c)\n"
   ]
  },
  {
   "cell_type": "code",
   "execution_count": null,
   "metadata": {},
   "outputs": [],
   "source": []
  }
 ],
 "metadata": {
  "kernelspec": {
   "display_name": "Python 3",
   "language": "python",
   "name": "python3"
  },
  "language_info": {
   "codemirror_mode": {
    "name": "ipython",
    "version": 3
   },
   "file_extension": ".py",
   "mimetype": "text/x-python",
   "name": "python",
   "nbconvert_exporter": "python",
   "pygments_lexer": "ipython3",
   "version": "3.6.8"
  }
 },
 "nbformat": 4,
 "nbformat_minor": 2
}
