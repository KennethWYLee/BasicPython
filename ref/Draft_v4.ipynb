{
 "cells": [
  {
   "cell_type": "code",
   "execution_count": 1,
   "metadata": {},
   "outputs": [],
   "source": [
    "import pandas as pd\n",
    "import numpy as np"
   ]
  },
  {
   "cell_type": "code",
   "execution_count": 2,
   "metadata": {},
   "outputs": [
    {
     "data": {
      "text/plain": [
       "'0.24.1'"
      ]
     },
     "execution_count": 2,
     "metadata": {},
     "output_type": "execute_result"
    }
   ],
   "source": [
    "pd.__version__"
   ]
  },
  {
   "cell_type": "code",
   "execution_count": 3,
   "metadata": {},
   "outputs": [
    {
     "data": {
      "text/plain": [
       "'0.21.3'"
      ]
     },
     "execution_count": 3,
     "metadata": {},
     "output_type": "execute_result"
    }
   ],
   "source": [
    "import sklearn\n",
    "sklearn.__version__"
   ]
  },
  {
   "cell_type": "code",
   "execution_count": 4,
   "metadata": {},
   "outputs": [],
   "source": [
    "credit = pd.read_csv(\"train.csv\")"
   ]
  },
  {
   "cell_type": "code",
   "execution_count": 5,
   "metadata": {},
   "outputs": [
    {
     "data": {
      "text/html": [
       "<div>\n",
       "<style scoped>\n",
       "    .dataframe tbody tr th:only-of-type {\n",
       "        vertical-align: middle;\n",
       "    }\n",
       "\n",
       "    .dataframe tbody tr th {\n",
       "        vertical-align: top;\n",
       "    }\n",
       "\n",
       "    .dataframe thead th {\n",
       "        text-align: right;\n",
       "    }\n",
       "</style>\n",
       "<table border=\"1\" class=\"dataframe\">\n",
       "  <thead>\n",
       "    <tr style=\"text-align: right;\">\n",
       "      <th></th>\n",
       "      <th>acqic</th>\n",
       "      <th>bacno</th>\n",
       "      <th>cano</th>\n",
       "      <th>conam</th>\n",
       "      <th>contp</th>\n",
       "      <th>csmcu</th>\n",
       "      <th>ecfg</th>\n",
       "      <th>etymd</th>\n",
       "      <th>flbmk</th>\n",
       "      <th>flg_3dsmk</th>\n",
       "      <th>...</th>\n",
       "      <th>iterm</th>\n",
       "      <th>locdt</th>\n",
       "      <th>loctm</th>\n",
       "      <th>mcc</th>\n",
       "      <th>mchno</th>\n",
       "      <th>ovrlt</th>\n",
       "      <th>scity</th>\n",
       "      <th>stocn</th>\n",
       "      <th>stscd</th>\n",
       "      <th>txkey</th>\n",
       "    </tr>\n",
       "  </thead>\n",
       "  <tbody>\n",
       "    <tr>\n",
       "      <th>0</th>\n",
       "      <td>6881</td>\n",
       "      <td>113261</td>\n",
       "      <td>38038</td>\n",
       "      <td>513.80</td>\n",
       "      <td>5</td>\n",
       "      <td>0</td>\n",
       "      <td>N</td>\n",
       "      <td>0</td>\n",
       "      <td>N</td>\n",
       "      <td>N</td>\n",
       "      <td>...</td>\n",
       "      <td>0</td>\n",
       "      <td>33</td>\n",
       "      <td>172652.0</td>\n",
       "      <td>457</td>\n",
       "      <td>59333</td>\n",
       "      <td>N</td>\n",
       "      <td>0</td>\n",
       "      <td>102</td>\n",
       "      <td>0</td>\n",
       "      <td>516056</td>\n",
       "    </tr>\n",
       "    <tr>\n",
       "      <th>1</th>\n",
       "      <td>0</td>\n",
       "      <td>134508</td>\n",
       "      <td>45725</td>\n",
       "      <td>465.62</td>\n",
       "      <td>5</td>\n",
       "      <td>0</td>\n",
       "      <td>N</td>\n",
       "      <td>2</td>\n",
       "      <td>N</td>\n",
       "      <td>N</td>\n",
       "      <td>...</td>\n",
       "      <td>0</td>\n",
       "      <td>9</td>\n",
       "      <td>105114.0</td>\n",
       "      <td>451</td>\n",
       "      <td>0</td>\n",
       "      <td>N</td>\n",
       "      <td>5817</td>\n",
       "      <td>102</td>\n",
       "      <td>0</td>\n",
       "      <td>4376</td>\n",
       "    </tr>\n",
       "    <tr>\n",
       "      <th>2</th>\n",
       "      <td>6881</td>\n",
       "      <td>15408</td>\n",
       "      <td>188328</td>\n",
       "      <td>513.80</td>\n",
       "      <td>5</td>\n",
       "      <td>0</td>\n",
       "      <td>N</td>\n",
       "      <td>0</td>\n",
       "      <td>N</td>\n",
       "      <td>N</td>\n",
       "      <td>...</td>\n",
       "      <td>0</td>\n",
       "      <td>6</td>\n",
       "      <td>152458.0</td>\n",
       "      <td>457</td>\n",
       "      <td>59333</td>\n",
       "      <td>N</td>\n",
       "      <td>0</td>\n",
       "      <td>102</td>\n",
       "      <td>0</td>\n",
       "      <td>483434</td>\n",
       "    </tr>\n",
       "    <tr>\n",
       "      <th>3</th>\n",
       "      <td>6716</td>\n",
       "      <td>157159</td>\n",
       "      <td>29967</td>\n",
       "      <td>1016.11</td>\n",
       "      <td>5</td>\n",
       "      <td>62</td>\n",
       "      <td>N</td>\n",
       "      <td>5</td>\n",
       "      <td>N</td>\n",
       "      <td>N</td>\n",
       "      <td>...</td>\n",
       "      <td>0</td>\n",
       "      <td>5</td>\n",
       "      <td>172946.0</td>\n",
       "      <td>247</td>\n",
       "      <td>50436</td>\n",
       "      <td>N</td>\n",
       "      <td>3281</td>\n",
       "      <td>102</td>\n",
       "      <td>0</td>\n",
       "      <td>1407164</td>\n",
       "    </tr>\n",
       "    <tr>\n",
       "      <th>4</th>\n",
       "      <td>5975</td>\n",
       "      <td>105985</td>\n",
       "      <td>81305</td>\n",
       "      <td>713.66</td>\n",
       "      <td>5</td>\n",
       "      <td>62</td>\n",
       "      <td>N</td>\n",
       "      <td>4</td>\n",
       "      <td>N</td>\n",
       "      <td>N</td>\n",
       "      <td>...</td>\n",
       "      <td>0</td>\n",
       "      <td>6</td>\n",
       "      <td>182129.0</td>\n",
       "      <td>263</td>\n",
       "      <td>93775</td>\n",
       "      <td>N</td>\n",
       "      <td>5817</td>\n",
       "      <td>102</td>\n",
       "      <td>0</td>\n",
       "      <td>1051004</td>\n",
       "    </tr>\n",
       "  </tbody>\n",
       "</table>\n",
       "<p>5 rows × 23 columns</p>\n",
       "</div>"
      ],
      "text/plain": [
       "   acqic   bacno    cano    conam  contp  csmcu ecfg  etymd flbmk flg_3dsmk  \\\n",
       "0   6881  113261   38038   513.80      5      0    N      0     N         N   \n",
       "1      0  134508   45725   465.62      5      0    N      2     N         N   \n",
       "2   6881   15408  188328   513.80      5      0    N      0     N         N   \n",
       "3   6716  157159   29967  1016.11      5     62    N      5     N         N   \n",
       "4   5975  105985   81305   713.66      5     62    N      4     N         N   \n",
       "\n",
       "   ...  iterm  locdt     loctm  mcc  mchno  ovrlt  scity  stocn stscd    txkey  \n",
       "0  ...      0     33  172652.0  457  59333      N      0    102     0   516056  \n",
       "1  ...      0      9  105114.0  451      0      N   5817    102     0     4376  \n",
       "2  ...      0      6  152458.0  457  59333      N      0    102     0   483434  \n",
       "3  ...      0      5  172946.0  247  50436      N   3281    102     0  1407164  \n",
       "4  ...      0      6  182129.0  263  93775      N   5817    102     0  1051004  \n",
       "\n",
       "[5 rows x 23 columns]"
      ]
     },
     "execution_count": 5,
     "metadata": {},
     "output_type": "execute_result"
    }
   ],
   "source": [
    "credit.head()"
   ]
  },
  {
   "cell_type": "code",
   "execution_count": 6,
   "metadata": {},
   "outputs": [
    {
     "name": "stdout",
     "output_type": "stream",
     "text": [
      "<class 'pandas.core.frame.DataFrame'>\n",
      "RangeIndex: 1521787 entries, 0 to 1521786\n",
      "Data columns (total 23 columns):\n",
      "acqic        1521787 non-null int64\n",
      "bacno        1521787 non-null int64\n",
      "cano         1521787 non-null int64\n",
      "conam        1521787 non-null float64\n",
      "contp        1521787 non-null int64\n",
      "csmcu        1521787 non-null int64\n",
      "ecfg         1521787 non-null object\n",
      "etymd        1521787 non-null int64\n",
      "flbmk        1509206 non-null object\n",
      "flg_3dsmk    1509206 non-null object\n",
      "fraud_ind    1521787 non-null int64\n",
      "hcefg        1521787 non-null int64\n",
      "insfg        1521787 non-null object\n",
      "iterm        1521787 non-null int64\n",
      "locdt        1521787 non-null int64\n",
      "loctm        1521787 non-null float64\n",
      "mcc          1521787 non-null int64\n",
      "mchno        1521787 non-null int64\n",
      "ovrlt        1521787 non-null object\n",
      "scity        1521787 non-null int64\n",
      "stocn        1521787 non-null int64\n",
      "stscd        1521787 non-null int64\n",
      "txkey        1521787 non-null int64\n",
      "dtypes: float64(2), int64(16), object(5)\n",
      "memory usage: 267.0+ MB\n"
     ]
    }
   ],
   "source": [
    "credit.info()"
   ]
  },
  {
   "cell_type": "code",
   "execution_count": null,
   "metadata": {},
   "outputs": [],
   "source": []
  },
  {
   "cell_type": "code",
   "execution_count": null,
   "metadata": {},
   "outputs": [],
   "source": []
  },
  {
   "cell_type": "markdown",
   "metadata": {},
   "source": [
    "處理空值-Start"
   ]
  },
  {
   "cell_type": "code",
   "execution_count": 7,
   "metadata": {},
   "outputs": [
    {
     "name": "stdout",
     "output_type": "stream",
     "text": [
      "12581\n",
      "1509206\n",
      "12581\n",
      "1509206\n"
     ]
    }
   ],
   "source": [
    "# drop(\"flbmk\", axis=1).drop(\"flg_3dsmk\", axis=1)\n",
    "# frame = credit.groupby(\"flbmk\")\n",
    "print(credit[\"flbmk\"].isna().sum())\n",
    "print(credit[\"flbmk\"].count())\n",
    "print(credit[\"flg_3dsmk\"].isna().sum())\n",
    "print(credit[\"flg_3dsmk\"].count())\n",
    "# groupby()"
   ]
  },
  {
   "cell_type": "code",
   "execution_count": 8,
   "metadata": {},
   "outputs": [
    {
     "data": {
      "text/plain": [
       "{'N': Int64Index([      0,       1,       2,       3,       4,       5,       6,\n",
       "                   7,       8,       9,\n",
       "             ...\n",
       "             1518236, 1518237, 1518238, 1518239, 1518240, 1518241, 1518242,\n",
       "             1518243, 1518245, 1518246],\n",
       "            dtype='int64', length=1504133),\n",
       " 'Y': Int64Index([    377,    1138,    1568,    1986,    2033,    2597,    2801,\n",
       "                3014,    3263,    3692,\n",
       "             ...\n",
       "             1515580, 1516002, 1516713, 1516922, 1517342, 1517413, 1517479,\n",
       "             1517513, 1517768, 1517839],\n",
       "            dtype='int64', length=5073)}"
      ]
     },
     "execution_count": 8,
     "metadata": {},
     "output_type": "execute_result"
    }
   ],
   "source": [
    "credit.groupby(\"flbmk\").groups"
   ]
  },
  {
   "cell_type": "code",
   "execution_count": 9,
   "metadata": {},
   "outputs": [
    {
     "data": {
      "text/plain": [
       "1509206"
      ]
     },
     "execution_count": 9,
     "metadata": {},
     "output_type": "execute_result"
    }
   ],
   "source": [
    "1504133+5073"
   ]
  },
  {
   "cell_type": "code",
   "execution_count": 10,
   "metadata": {},
   "outputs": [],
   "source": [
    "import copy"
   ]
  },
  {
   "cell_type": "code",
   "execution_count": 11,
   "metadata": {},
   "outputs": [],
   "source": [
    "temp = credit.copy()"
   ]
  },
  {
   "cell_type": "code",
   "execution_count": 12,
   "metadata": {},
   "outputs": [],
   "source": [
    "temp[\"flbmk\"] = temp[\"flbmk\"].fillna(\"NaN\")"
   ]
  },
  {
   "cell_type": "code",
   "execution_count": 13,
   "metadata": {},
   "outputs": [
    {
     "data": {
      "text/plain": [
       "{'N': Int64Index([      0,       1,       2,       3,       4,       5,       6,\n",
       "                   7,       8,       9,\n",
       "             ...\n",
       "             1518236, 1518237, 1518238, 1518239, 1518240, 1518241, 1518242,\n",
       "             1518243, 1518245, 1518246],\n",
       "            dtype='int64', length=1504133),\n",
       " 'NaN': Int64Index([   4827,    5906,    7136,    7523,   37299,  539837,  540047,\n",
       "              540050,  540052,  540055,\n",
       "             ...\n",
       "             1521777, 1521778, 1521779, 1521780, 1521781, 1521782, 1521783,\n",
       "             1521784, 1521785, 1521786],\n",
       "            dtype='int64', length=12581),\n",
       " 'Y': Int64Index([    377,    1138,    1568,    1986,    2033,    2597,    2801,\n",
       "                3014,    3263,    3692,\n",
       "             ...\n",
       "             1515580, 1516002, 1516713, 1516922, 1517342, 1517413, 1517479,\n",
       "             1517513, 1517768, 1517839],\n",
       "            dtype='int64', length=5073)}"
      ]
     },
     "execution_count": 13,
     "metadata": {},
     "output_type": "execute_result"
    }
   ],
   "source": [
    "temp.groupby(\"flbmk\").groups"
   ]
  },
  {
   "cell_type": "code",
   "execution_count": 14,
   "metadata": {},
   "outputs": [
    {
     "data": {
      "text/plain": [
       "{'N': Int64Index([      0,       1,       2,       3,       4,       5,       6,\n",
       "                   7,       8,       9,\n",
       "             ...\n",
       "             1518236, 1518237, 1518238, 1518239, 1518240, 1518241, 1518242,\n",
       "             1518243, 1518245, 1518246],\n",
       "            dtype='int64', length=1444867),\n",
       " 'NaN': Int64Index([   4827,    5906,    7136,    7523,   37299,  539837,  540047,\n",
       "              540050,  540052,  540055,\n",
       "             ...\n",
       "             1521777, 1521778, 1521779, 1521780, 1521781, 1521782, 1521783,\n",
       "             1521784, 1521785, 1521786],\n",
       "            dtype='int64', length=12581),\n",
       " 'Y': Int64Index([     48,      71,      79,     118,     132,     147,     157,\n",
       "                 171,     438,     471,\n",
       "             ...\n",
       "             1517935, 1517949, 1517974, 1517995, 1518006, 1518081, 1518083,\n",
       "             1518096, 1518151, 1518176],\n",
       "            dtype='int64', length=64339)}"
      ]
     },
     "execution_count": 14,
     "metadata": {},
     "output_type": "execute_result"
    }
   ],
   "source": [
    "temp[\"flg_3dsmk\"] = temp[\"flg_3dsmk\"].fillna(\"NaN\")\n",
    "temp.groupby(\"flg_3dsmk\").groups"
   ]
  },
  {
   "cell_type": "code",
   "execution_count": 15,
   "metadata": {},
   "outputs": [
    {
     "data": {
      "text/plain": [
       "12581"
      ]
     },
     "execution_count": 15,
     "metadata": {},
     "output_type": "execute_result"
    }
   ],
   "source": [
    "temp.groupby(\"flbmk\").get_group('NaN')[\"flbmk\"].count()"
   ]
  },
  {
   "cell_type": "code",
   "execution_count": 16,
   "metadata": {},
   "outputs": [
    {
     "data": {
      "text/plain": [
       "195"
      ]
     },
     "execution_count": 16,
     "metadata": {},
     "output_type": "execute_result"
    }
   ],
   "source": [
    "temp.groupby(\"flbmk\").get_group('NaN')[\"fraud_ind\"].sum()"
   ]
  },
  {
   "cell_type": "code",
   "execution_count": 17,
   "metadata": {},
   "outputs": [],
   "source": [
    "credit_data = credit.drop(\"ecfg\", axis=1).drop(\"ovrlt\", axis=1).drop(\"insfg\", axis=1)\n",
    "# .drop(\"flbmk\", axis=1).drop(\"flg_3dsmk\", axis=1)"
   ]
  },
  {
   "cell_type": "code",
   "execution_count": 18,
   "metadata": {},
   "outputs": [],
   "source": [
    "credit_data = credit_data.dropna()"
   ]
  },
  {
   "cell_type": "code",
   "execution_count": 19,
   "metadata": {},
   "outputs": [
    {
     "data": {
      "text/plain": [
       "0"
      ]
     },
     "execution_count": 19,
     "metadata": {},
     "output_type": "execute_result"
    }
   ],
   "source": [
    "credit_data[\"flbmk\"].isna().sum()"
   ]
  },
  {
   "cell_type": "code",
   "execution_count": 20,
   "metadata": {},
   "outputs": [],
   "source": [
    "credit_data = credit_data.drop(\"flbmk\", axis=1).drop(\"flg_3dsmk\", axis=1)"
   ]
  },
  {
   "cell_type": "code",
   "execution_count": 21,
   "metadata": {},
   "outputs": [],
   "source": [
    "X = credit_data.drop([\"fraud_ind\"], axis=1)\n",
    "y = credit_data[\"fraud_ind\"]"
   ]
  },
  {
   "cell_type": "markdown",
   "metadata": {},
   "source": [
    "處理空值-End"
   ]
  },
  {
   "cell_type": "code",
   "execution_count": null,
   "metadata": {},
   "outputs": [],
   "source": []
  },
  {
   "cell_type": "code",
   "execution_count": null,
   "metadata": {},
   "outputs": [],
   "source": []
  },
  {
   "cell_type": "code",
   "execution_count": 22,
   "metadata": {},
   "outputs": [],
   "source": [
    "credit_data = credit.drop(\"ecfg\", axis=1).drop(\"ovrlt\", axis=1).drop(\"insfg\", axis=1)\\\n",
    ".drop(\"flbmk\", axis=1).drop(\"flg_3dsmk\", axis=1)"
   ]
  },
  {
   "cell_type": "code",
   "execution_count": 23,
   "metadata": {},
   "outputs": [
    {
     "name": "stdout",
     "output_type": "stream",
     "text": [
      "<class 'pandas.core.frame.DataFrame'>\n",
      "RangeIndex: 1521787 entries, 0 to 1521786\n",
      "Data columns (total 18 columns):\n",
      "acqic        1521787 non-null int64\n",
      "bacno        1521787 non-null int64\n",
      "cano         1521787 non-null int64\n",
      "conam        1521787 non-null float64\n",
      "contp        1521787 non-null int64\n",
      "csmcu        1521787 non-null int64\n",
      "etymd        1521787 non-null int64\n",
      "fraud_ind    1521787 non-null int64\n",
      "hcefg        1521787 non-null int64\n",
      "iterm        1521787 non-null int64\n",
      "locdt        1521787 non-null int64\n",
      "loctm        1521787 non-null float64\n",
      "mcc          1521787 non-null int64\n",
      "mchno        1521787 non-null int64\n",
      "scity        1521787 non-null int64\n",
      "stocn        1521787 non-null int64\n",
      "stscd        1521787 non-null int64\n",
      "txkey        1521787 non-null int64\n",
      "dtypes: float64(2), int64(16)\n",
      "memory usage: 209.0 MB\n"
     ]
    }
   ],
   "source": [
    "credit_data.info()"
   ]
  },
  {
   "cell_type": "code",
   "execution_count": 24,
   "metadata": {},
   "outputs": [
    {
     "data": {
      "text/html": [
       "<div>\n",
       "<style scoped>\n",
       "    .dataframe tbody tr th:only-of-type {\n",
       "        vertical-align: middle;\n",
       "    }\n",
       "\n",
       "    .dataframe tbody tr th {\n",
       "        vertical-align: top;\n",
       "    }\n",
       "\n",
       "    .dataframe thead th {\n",
       "        text-align: right;\n",
       "    }\n",
       "</style>\n",
       "<table border=\"1\" class=\"dataframe\">\n",
       "  <thead>\n",
       "    <tr style=\"text-align: right;\">\n",
       "      <th></th>\n",
       "      <th>acqic</th>\n",
       "      <th>bacno</th>\n",
       "      <th>cano</th>\n",
       "      <th>conam</th>\n",
       "      <th>contp</th>\n",
       "      <th>csmcu</th>\n",
       "      <th>etymd</th>\n",
       "      <th>fraud_ind</th>\n",
       "      <th>hcefg</th>\n",
       "      <th>iterm</th>\n",
       "      <th>locdt</th>\n",
       "      <th>loctm</th>\n",
       "      <th>mcc</th>\n",
       "      <th>mchno</th>\n",
       "      <th>scity</th>\n",
       "      <th>stocn</th>\n",
       "      <th>stscd</th>\n",
       "      <th>txkey</th>\n",
       "    </tr>\n",
       "  </thead>\n",
       "  <tbody>\n",
       "    <tr>\n",
       "      <th>count</th>\n",
       "      <td>1.521787e+06</td>\n",
       "      <td>1.521787e+06</td>\n",
       "      <td>1.521787e+06</td>\n",
       "      <td>1.521787e+06</td>\n",
       "      <td>1.521787e+06</td>\n",
       "      <td>1.521787e+06</td>\n",
       "      <td>1.521787e+06</td>\n",
       "      <td>1.521787e+06</td>\n",
       "      <td>1.521787e+06</td>\n",
       "      <td>1.521787e+06</td>\n",
       "      <td>1.521787e+06</td>\n",
       "      <td>1.521787e+06</td>\n",
       "      <td>1.521787e+06</td>\n",
       "      <td>1.521787e+06</td>\n",
       "      <td>1.521787e+06</td>\n",
       "      <td>1.521787e+06</td>\n",
       "      <td>1.521787e+06</td>\n",
       "      <td>1.521787e+06</td>\n",
       "    </tr>\n",
       "    <tr>\n",
       "      <th>mean</th>\n",
       "      <td>6.008003e+03</td>\n",
       "      <td>8.209027e+04</td>\n",
       "      <td>1.089170e+05</td>\n",
       "      <td>6.547219e+02</td>\n",
       "      <td>4.829368e+00</td>\n",
       "      <td>5.383324e+01</td>\n",
       "      <td>4.149114e+00</td>\n",
       "      <td>1.337572e-02</td>\n",
       "      <td>4.749410e+00</td>\n",
       "      <td>4.962784e-02</td>\n",
       "      <td>4.532732e+01</td>\n",
       "      <td>1.463152e+05</td>\n",
       "      <td>2.978089e+02</td>\n",
       "      <td>5.589022e+04</td>\n",
       "      <td>4.755128e+03</td>\n",
       "      <td>9.565116e+01</td>\n",
       "      <td>2.485499e-02</td>\n",
       "      <td>9.711265e+05</td>\n",
       "    </tr>\n",
       "    <tr>\n",
       "      <th>std</th>\n",
       "      <td>1.502420e+03</td>\n",
       "      <td>4.736249e+04</td>\n",
       "      <td>6.090363e+04</td>\n",
       "      <td>4.028078e+02</td>\n",
       "      <td>6.513408e-01</td>\n",
       "      <td>2.072135e+01</td>\n",
       "      <td>2.394259e+00</td>\n",
       "      <td>1.148774e-01</td>\n",
       "      <td>1.111927e+00</td>\n",
       "      <td>3.652493e-01</td>\n",
       "      <td>2.601889e+01</td>\n",
       "      <td>5.212107e+04</td>\n",
       "      <td>7.796778e+01</td>\n",
       "      <td>3.082297e+04</td>\n",
       "      <td>1.979815e+03</td>\n",
       "      <td>1.890027e+01</td>\n",
       "      <td>2.216804e-01</td>\n",
       "      <td>5.641322e+05</td>\n",
       "    </tr>\n",
       "    <tr>\n",
       "      <th>min</th>\n",
       "      <td>0.000000e+00</td>\n",
       "      <td>1.000000e+00</td>\n",
       "      <td>0.000000e+00</td>\n",
       "      <td>0.000000e+00</td>\n",
       "      <td>0.000000e+00</td>\n",
       "      <td>0.000000e+00</td>\n",
       "      <td>0.000000e+00</td>\n",
       "      <td>0.000000e+00</td>\n",
       "      <td>0.000000e+00</td>\n",
       "      <td>0.000000e+00</td>\n",
       "      <td>1.000000e+00</td>\n",
       "      <td>0.000000e+00</td>\n",
       "      <td>0.000000e+00</td>\n",
       "      <td>0.000000e+00</td>\n",
       "      <td>0.000000e+00</td>\n",
       "      <td>0.000000e+00</td>\n",
       "      <td>0.000000e+00</td>\n",
       "      <td>0.000000e+00</td>\n",
       "    </tr>\n",
       "    <tr>\n",
       "      <th>25%</th>\n",
       "      <td>5.982000e+03</td>\n",
       "      <td>4.140300e+04</td>\n",
       "      <td>5.763500e+04</td>\n",
       "      <td>4.370600e+02</td>\n",
       "      <td>5.000000e+00</td>\n",
       "      <td>6.200000e+01</td>\n",
       "      <td>2.000000e+00</td>\n",
       "      <td>0.000000e+00</td>\n",
       "      <td>5.000000e+00</td>\n",
       "      <td>0.000000e+00</td>\n",
       "      <td>2.300000e+01</td>\n",
       "      <td>1.109310e+05</td>\n",
       "      <td>2.500000e+02</td>\n",
       "      <td>3.377400e+04</td>\n",
       "      <td>3.795000e+03</td>\n",
       "      <td>1.020000e+02</td>\n",
       "      <td>0.000000e+00</td>\n",
       "      <td>4.869475e+05</td>\n",
       "    </tr>\n",
       "    <tr>\n",
       "      <th>50%</th>\n",
       "      <td>6.716000e+03</td>\n",
       "      <td>8.191200e+04</td>\n",
       "      <td>1.097850e+05</td>\n",
       "      <td>5.919000e+02</td>\n",
       "      <td>5.000000e+00</td>\n",
       "      <td>6.200000e+01</td>\n",
       "      <td>4.000000e+00</td>\n",
       "      <td>0.000000e+00</td>\n",
       "      <td>5.000000e+00</td>\n",
       "      <td>0.000000e+00</td>\n",
       "      <td>4.500000e+01</td>\n",
       "      <td>1.515220e+05</td>\n",
       "      <td>2.640000e+02</td>\n",
       "      <td>5.936000e+04</td>\n",
       "      <td>5.817000e+03</td>\n",
       "      <td>1.020000e+02</td>\n",
       "      <td>0.000000e+00</td>\n",
       "      <td>9.795800e+05</td>\n",
       "    </tr>\n",
       "    <tr>\n",
       "      <th>75%</th>\n",
       "      <td>6.769000e+03</td>\n",
       "      <td>1.230590e+05</td>\n",
       "      <td>1.618760e+05</td>\n",
       "      <td>8.073400e+02</td>\n",
       "      <td>5.000000e+00</td>\n",
       "      <td>6.200000e+01</td>\n",
       "      <td>5.000000e+00</td>\n",
       "      <td>0.000000e+00</td>\n",
       "      <td>5.000000e+00</td>\n",
       "      <td>0.000000e+00</td>\n",
       "      <td>6.800000e+01</td>\n",
       "      <td>1.858270e+05</td>\n",
       "      <td>3.430000e+02</td>\n",
       "      <td>7.920000e+04</td>\n",
       "      <td>5.817000e+03</td>\n",
       "      <td>1.020000e+02</td>\n",
       "      <td>0.000000e+00</td>\n",
       "      <td>1.455200e+06</td>\n",
       "    </tr>\n",
       "    <tr>\n",
       "      <th>max</th>\n",
       "      <td>6.884000e+03</td>\n",
       "      <td>1.638840e+05</td>\n",
       "      <td>2.133340e+05</td>\n",
       "      <td>7.208770e+03</td>\n",
       "      <td>6.000000e+00</td>\n",
       "      <td>7.500000e+01</td>\n",
       "      <td>1.000000e+01</td>\n",
       "      <td>1.000000e+00</td>\n",
       "      <td>9.000000e+00</td>\n",
       "      <td>8.000000e+00</td>\n",
       "      <td>9.000000e+01</td>\n",
       "      <td>2.359590e+05</td>\n",
       "      <td>4.590000e+02</td>\n",
       "      <td>1.033070e+05</td>\n",
       "      <td>6.671000e+03</td>\n",
       "      <td>1.070000e+02</td>\n",
       "      <td>4.000000e+00</td>\n",
       "      <td>1.958239e+06</td>\n",
       "    </tr>\n",
       "  </tbody>\n",
       "</table>\n",
       "</div>"
      ],
      "text/plain": [
       "              acqic         bacno          cano         conam         contp  \\\n",
       "count  1.521787e+06  1.521787e+06  1.521787e+06  1.521787e+06  1.521787e+06   \n",
       "mean   6.008003e+03  8.209027e+04  1.089170e+05  6.547219e+02  4.829368e+00   \n",
       "std    1.502420e+03  4.736249e+04  6.090363e+04  4.028078e+02  6.513408e-01   \n",
       "min    0.000000e+00  1.000000e+00  0.000000e+00  0.000000e+00  0.000000e+00   \n",
       "25%    5.982000e+03  4.140300e+04  5.763500e+04  4.370600e+02  5.000000e+00   \n",
       "50%    6.716000e+03  8.191200e+04  1.097850e+05  5.919000e+02  5.000000e+00   \n",
       "75%    6.769000e+03  1.230590e+05  1.618760e+05  8.073400e+02  5.000000e+00   \n",
       "max    6.884000e+03  1.638840e+05  2.133340e+05  7.208770e+03  6.000000e+00   \n",
       "\n",
       "              csmcu         etymd     fraud_ind         hcefg         iterm  \\\n",
       "count  1.521787e+06  1.521787e+06  1.521787e+06  1.521787e+06  1.521787e+06   \n",
       "mean   5.383324e+01  4.149114e+00  1.337572e-02  4.749410e+00  4.962784e-02   \n",
       "std    2.072135e+01  2.394259e+00  1.148774e-01  1.111927e+00  3.652493e-01   \n",
       "min    0.000000e+00  0.000000e+00  0.000000e+00  0.000000e+00  0.000000e+00   \n",
       "25%    6.200000e+01  2.000000e+00  0.000000e+00  5.000000e+00  0.000000e+00   \n",
       "50%    6.200000e+01  4.000000e+00  0.000000e+00  5.000000e+00  0.000000e+00   \n",
       "75%    6.200000e+01  5.000000e+00  0.000000e+00  5.000000e+00  0.000000e+00   \n",
       "max    7.500000e+01  1.000000e+01  1.000000e+00  9.000000e+00  8.000000e+00   \n",
       "\n",
       "              locdt         loctm           mcc         mchno         scity  \\\n",
       "count  1.521787e+06  1.521787e+06  1.521787e+06  1.521787e+06  1.521787e+06   \n",
       "mean   4.532732e+01  1.463152e+05  2.978089e+02  5.589022e+04  4.755128e+03   \n",
       "std    2.601889e+01  5.212107e+04  7.796778e+01  3.082297e+04  1.979815e+03   \n",
       "min    1.000000e+00  0.000000e+00  0.000000e+00  0.000000e+00  0.000000e+00   \n",
       "25%    2.300000e+01  1.109310e+05  2.500000e+02  3.377400e+04  3.795000e+03   \n",
       "50%    4.500000e+01  1.515220e+05  2.640000e+02  5.936000e+04  5.817000e+03   \n",
       "75%    6.800000e+01  1.858270e+05  3.430000e+02  7.920000e+04  5.817000e+03   \n",
       "max    9.000000e+01  2.359590e+05  4.590000e+02  1.033070e+05  6.671000e+03   \n",
       "\n",
       "              stocn         stscd         txkey  \n",
       "count  1.521787e+06  1.521787e+06  1.521787e+06  \n",
       "mean   9.565116e+01  2.485499e-02  9.711265e+05  \n",
       "std    1.890027e+01  2.216804e-01  5.641322e+05  \n",
       "min    0.000000e+00  0.000000e+00  0.000000e+00  \n",
       "25%    1.020000e+02  0.000000e+00  4.869475e+05  \n",
       "50%    1.020000e+02  0.000000e+00  9.795800e+05  \n",
       "75%    1.020000e+02  0.000000e+00  1.455200e+06  \n",
       "max    1.070000e+02  4.000000e+00  1.958239e+06  "
      ]
     },
     "execution_count": 24,
     "metadata": {},
     "output_type": "execute_result"
    }
   ],
   "source": [
    "credit_data.describe()"
   ]
  },
  {
   "cell_type": "code",
   "execution_count": 25,
   "metadata": {},
   "outputs": [],
   "source": [
    "X = credit_data.drop([\"fraud_ind\"], axis=1)\n",
    "y = credit_data[\"fraud_ind\"]"
   ]
  },
  {
   "cell_type": "code",
   "execution_count": 26,
   "metadata": {},
   "outputs": [
    {
     "data": {
      "text/plain": [
       "0    0\n",
       "1    0\n",
       "2    0\n",
       "3    0\n",
       "4    0\n",
       "Name: fraud_ind, dtype: int64"
      ]
     },
     "execution_count": 26,
     "metadata": {},
     "output_type": "execute_result"
    }
   ],
   "source": [
    "y.head()"
   ]
  },
  {
   "cell_type": "code",
   "execution_count": 27,
   "metadata": {},
   "outputs": [
    {
     "data": {
      "text/html": [
       "<div>\n",
       "<style scoped>\n",
       "    .dataframe tbody tr th:only-of-type {\n",
       "        vertical-align: middle;\n",
       "    }\n",
       "\n",
       "    .dataframe tbody tr th {\n",
       "        vertical-align: top;\n",
       "    }\n",
       "\n",
       "    .dataframe thead th {\n",
       "        text-align: right;\n",
       "    }\n",
       "</style>\n",
       "<table border=\"1\" class=\"dataframe\">\n",
       "  <thead>\n",
       "    <tr style=\"text-align: right;\">\n",
       "      <th></th>\n",
       "      <th>acqic</th>\n",
       "      <th>bacno</th>\n",
       "      <th>cano</th>\n",
       "      <th>conam</th>\n",
       "      <th>contp</th>\n",
       "      <th>csmcu</th>\n",
       "      <th>etymd</th>\n",
       "      <th>hcefg</th>\n",
       "      <th>iterm</th>\n",
       "      <th>locdt</th>\n",
       "      <th>loctm</th>\n",
       "      <th>mcc</th>\n",
       "      <th>mchno</th>\n",
       "      <th>scity</th>\n",
       "      <th>stocn</th>\n",
       "      <th>stscd</th>\n",
       "      <th>txkey</th>\n",
       "    </tr>\n",
       "  </thead>\n",
       "  <tbody>\n",
       "    <tr>\n",
       "      <th>0</th>\n",
       "      <td>6881</td>\n",
       "      <td>113261</td>\n",
       "      <td>38038</td>\n",
       "      <td>513.80</td>\n",
       "      <td>5</td>\n",
       "      <td>0</td>\n",
       "      <td>0</td>\n",
       "      <td>5</td>\n",
       "      <td>0</td>\n",
       "      <td>33</td>\n",
       "      <td>172652.0</td>\n",
       "      <td>457</td>\n",
       "      <td>59333</td>\n",
       "      <td>0</td>\n",
       "      <td>102</td>\n",
       "      <td>0</td>\n",
       "      <td>516056</td>\n",
       "    </tr>\n",
       "    <tr>\n",
       "      <th>1</th>\n",
       "      <td>0</td>\n",
       "      <td>134508</td>\n",
       "      <td>45725</td>\n",
       "      <td>465.62</td>\n",
       "      <td>5</td>\n",
       "      <td>0</td>\n",
       "      <td>2</td>\n",
       "      <td>0</td>\n",
       "      <td>0</td>\n",
       "      <td>9</td>\n",
       "      <td>105114.0</td>\n",
       "      <td>451</td>\n",
       "      <td>0</td>\n",
       "      <td>5817</td>\n",
       "      <td>102</td>\n",
       "      <td>0</td>\n",
       "      <td>4376</td>\n",
       "    </tr>\n",
       "    <tr>\n",
       "      <th>2</th>\n",
       "      <td>6881</td>\n",
       "      <td>15408</td>\n",
       "      <td>188328</td>\n",
       "      <td>513.80</td>\n",
       "      <td>5</td>\n",
       "      <td>0</td>\n",
       "      <td>0</td>\n",
       "      <td>5</td>\n",
       "      <td>0</td>\n",
       "      <td>6</td>\n",
       "      <td>152458.0</td>\n",
       "      <td>457</td>\n",
       "      <td>59333</td>\n",
       "      <td>0</td>\n",
       "      <td>102</td>\n",
       "      <td>0</td>\n",
       "      <td>483434</td>\n",
       "    </tr>\n",
       "    <tr>\n",
       "      <th>3</th>\n",
       "      <td>6716</td>\n",
       "      <td>157159</td>\n",
       "      <td>29967</td>\n",
       "      <td>1016.11</td>\n",
       "      <td>5</td>\n",
       "      <td>62</td>\n",
       "      <td>5</td>\n",
       "      <td>5</td>\n",
       "      <td>0</td>\n",
       "      <td>5</td>\n",
       "      <td>172946.0</td>\n",
       "      <td>247</td>\n",
       "      <td>50436</td>\n",
       "      <td>3281</td>\n",
       "      <td>102</td>\n",
       "      <td>0</td>\n",
       "      <td>1407164</td>\n",
       "    </tr>\n",
       "    <tr>\n",
       "      <th>4</th>\n",
       "      <td>5975</td>\n",
       "      <td>105985</td>\n",
       "      <td>81305</td>\n",
       "      <td>713.66</td>\n",
       "      <td>5</td>\n",
       "      <td>62</td>\n",
       "      <td>4</td>\n",
       "      <td>5</td>\n",
       "      <td>0</td>\n",
       "      <td>6</td>\n",
       "      <td>182129.0</td>\n",
       "      <td>263</td>\n",
       "      <td>93775</td>\n",
       "      <td>5817</td>\n",
       "      <td>102</td>\n",
       "      <td>0</td>\n",
       "      <td>1051004</td>\n",
       "    </tr>\n",
       "  </tbody>\n",
       "</table>\n",
       "</div>"
      ],
      "text/plain": [
       "   acqic   bacno    cano    conam  contp  csmcu  etymd  hcefg  iterm  locdt  \\\n",
       "0   6881  113261   38038   513.80      5      0      0      5      0     33   \n",
       "1      0  134508   45725   465.62      5      0      2      0      0      9   \n",
       "2   6881   15408  188328   513.80      5      0      0      5      0      6   \n",
       "3   6716  157159   29967  1016.11      5     62      5      5      0      5   \n",
       "4   5975  105985   81305   713.66      5     62      4      5      0      6   \n",
       "\n",
       "      loctm  mcc  mchno  scity  stocn  stscd    txkey  \n",
       "0  172652.0  457  59333      0    102      0   516056  \n",
       "1  105114.0  451      0   5817    102      0     4376  \n",
       "2  152458.0  457  59333      0    102      0   483434  \n",
       "3  172946.0  247  50436   3281    102      0  1407164  \n",
       "4  182129.0  263  93775   5817    102      0  1051004  "
      ]
     },
     "execution_count": 27,
     "metadata": {},
     "output_type": "execute_result"
    }
   ],
   "source": [
    "X.head()"
   ]
  },
  {
   "cell_type": "markdown",
   "metadata": {},
   "source": [
    "處理分類-Start"
   ]
  },
  {
   "cell_type": "code",
   "execution_count": 28,
   "metadata": {},
   "outputs": [],
   "source": [
    "from sklearn.preprocessing import LabelEncoder"
   ]
  },
  {
   "cell_type": "code",
   "execution_count": 29,
   "metadata": {},
   "outputs": [
    {
     "data": {
      "text/plain": [
       "0    N\n",
       "1    N\n",
       "2    N\n",
       "3    N\n",
       "4    N\n",
       "Name: ecfg, dtype: object"
      ]
     },
     "execution_count": 29,
     "metadata": {},
     "output_type": "execute_result"
    }
   ],
   "source": [
    "credit[\"ecfg\"].head()"
   ]
  },
  {
   "cell_type": "code",
   "execution_count": 30,
   "metadata": {},
   "outputs": [
    {
     "name": "stdout",
     "output_type": "stream",
     "text": [
      "['N' 'Y']\n",
      "<class 'numpy.ndarray'>\n",
      "[0 0 0 ... 1 1 0]\n"
     ]
    }
   ],
   "source": [
    "encoder_ecfg = LabelEncoder()\n",
    "credit_ecfg = credit[\"ecfg\"]\n",
    "credit_ecfg_encoded = encoder_ecfg.fit_transform(credit_ecfg)\n",
    "print(encoder_ecfg.classes_)\n",
    "print(type(credit_ecfg_encoded))\n",
    "print(credit_ecfg_encoded)"
   ]
  },
  {
   "cell_type": "code",
   "execution_count": 31,
   "metadata": {},
   "outputs": [
    {
     "data": {
      "text/html": [
       "<div>\n",
       "<style scoped>\n",
       "    .dataframe tbody tr th:only-of-type {\n",
       "        vertical-align: middle;\n",
       "    }\n",
       "\n",
       "    .dataframe tbody tr th {\n",
       "        vertical-align: top;\n",
       "    }\n",
       "\n",
       "    .dataframe thead th {\n",
       "        text-align: right;\n",
       "    }\n",
       "</style>\n",
       "<table border=\"1\" class=\"dataframe\">\n",
       "  <thead>\n",
       "    <tr style=\"text-align: right;\">\n",
       "      <th></th>\n",
       "      <th>ecfg</th>\n",
       "    </tr>\n",
       "  </thead>\n",
       "  <tbody>\n",
       "    <tr>\n",
       "      <th>0</th>\n",
       "      <td>0</td>\n",
       "    </tr>\n",
       "    <tr>\n",
       "      <th>1</th>\n",
       "      <td>0</td>\n",
       "    </tr>\n",
       "    <tr>\n",
       "      <th>2</th>\n",
       "      <td>0</td>\n",
       "    </tr>\n",
       "    <tr>\n",
       "      <th>3</th>\n",
       "      <td>0</td>\n",
       "    </tr>\n",
       "    <tr>\n",
       "      <th>4</th>\n",
       "      <td>0</td>\n",
       "    </tr>\n",
       "  </tbody>\n",
       "</table>\n",
       "</div>"
      ],
      "text/plain": [
       "   ecfg\n",
       "0     0\n",
       "1     0\n",
       "2     0\n",
       "3     0\n",
       "4     0"
      ]
     },
     "execution_count": 31,
     "metadata": {},
     "output_type": "execute_result"
    }
   ],
   "source": [
    "pd_ecfg = pd.DataFrame(credit_ecfg_encoded, columns=['ecfg'])\n",
    "pd_ecfg.head()"
   ]
  },
  {
   "cell_type": "code",
   "execution_count": 32,
   "metadata": {},
   "outputs": [
    {
     "name": "stdout",
     "output_type": "stream",
     "text": [
      "['N' 'Y']\n",
      "<class 'numpy.ndarray'>\n",
      "[0 0 0 ... 0 0 0]\n"
     ]
    }
   ],
   "source": [
    "encoder_ovrlt = LabelEncoder()\n",
    "credit_ovrlt = credit[\"ovrlt\"]\n",
    "credit_ovrlt_encoded = encoder_ovrlt.fit_transform(credit_ovrlt)\n",
    "print(encoder_ovrlt.classes_)\n",
    "print(type(credit_ovrlt_encoded))\n",
    "print(credit_ovrlt_encoded)"
   ]
  },
  {
   "cell_type": "code",
   "execution_count": 33,
   "metadata": {},
   "outputs": [
    {
     "data": {
      "text/html": [
       "<div>\n",
       "<style scoped>\n",
       "    .dataframe tbody tr th:only-of-type {\n",
       "        vertical-align: middle;\n",
       "    }\n",
       "\n",
       "    .dataframe tbody tr th {\n",
       "        vertical-align: top;\n",
       "    }\n",
       "\n",
       "    .dataframe thead th {\n",
       "        text-align: right;\n",
       "    }\n",
       "</style>\n",
       "<table border=\"1\" class=\"dataframe\">\n",
       "  <thead>\n",
       "    <tr style=\"text-align: right;\">\n",
       "      <th></th>\n",
       "      <th>ovrlt</th>\n",
       "    </tr>\n",
       "  </thead>\n",
       "  <tbody>\n",
       "    <tr>\n",
       "      <th>0</th>\n",
       "      <td>0</td>\n",
       "    </tr>\n",
       "    <tr>\n",
       "      <th>1</th>\n",
       "      <td>0</td>\n",
       "    </tr>\n",
       "    <tr>\n",
       "      <th>2</th>\n",
       "      <td>0</td>\n",
       "    </tr>\n",
       "    <tr>\n",
       "      <th>3</th>\n",
       "      <td>0</td>\n",
       "    </tr>\n",
       "    <tr>\n",
       "      <th>4</th>\n",
       "      <td>0</td>\n",
       "    </tr>\n",
       "  </tbody>\n",
       "</table>\n",
       "</div>"
      ],
      "text/plain": [
       "   ovrlt\n",
       "0      0\n",
       "1      0\n",
       "2      0\n",
       "3      0\n",
       "4      0"
      ]
     },
     "execution_count": 33,
     "metadata": {},
     "output_type": "execute_result"
    }
   ],
   "source": [
    "pd_ovrlt = pd.DataFrame(credit_ovrlt_encoded, columns=['ovrlt'])\n",
    "pd_ovrlt.head()"
   ]
  },
  {
   "cell_type": "code",
   "execution_count": 34,
   "metadata": {},
   "outputs": [
    {
     "name": "stdout",
     "output_type": "stream",
     "text": [
      "['N' 'Y']\n",
      "<class 'numpy.ndarray'>\n",
      "[0 0 0 ... 0 0 0]\n"
     ]
    }
   ],
   "source": [
    "encoder_insfg = LabelEncoder()\n",
    "credit_insfg  = credit[\"insfg\"]\n",
    "credit_insfg_encoded = encoder_insfg.fit_transform(credit_ovrlt)\n",
    "print(encoder_insfg.classes_)\n",
    "print(type(credit_insfg_encoded))\n",
    "print(credit_insfg_encoded)"
   ]
  },
  {
   "cell_type": "code",
   "execution_count": 35,
   "metadata": {},
   "outputs": [
    {
     "data": {
      "text/html": [
       "<div>\n",
       "<style scoped>\n",
       "    .dataframe tbody tr th:only-of-type {\n",
       "        vertical-align: middle;\n",
       "    }\n",
       "\n",
       "    .dataframe tbody tr th {\n",
       "        vertical-align: top;\n",
       "    }\n",
       "\n",
       "    .dataframe thead th {\n",
       "        text-align: right;\n",
       "    }\n",
       "</style>\n",
       "<table border=\"1\" class=\"dataframe\">\n",
       "  <thead>\n",
       "    <tr style=\"text-align: right;\">\n",
       "      <th></th>\n",
       "      <th>insfg</th>\n",
       "    </tr>\n",
       "  </thead>\n",
       "  <tbody>\n",
       "    <tr>\n",
       "      <th>0</th>\n",
       "      <td>0</td>\n",
       "    </tr>\n",
       "    <tr>\n",
       "      <th>1</th>\n",
       "      <td>0</td>\n",
       "    </tr>\n",
       "    <tr>\n",
       "      <th>2</th>\n",
       "      <td>0</td>\n",
       "    </tr>\n",
       "    <tr>\n",
       "      <th>3</th>\n",
       "      <td>0</td>\n",
       "    </tr>\n",
       "    <tr>\n",
       "      <th>4</th>\n",
       "      <td>0</td>\n",
       "    </tr>\n",
       "  </tbody>\n",
       "</table>\n",
       "</div>"
      ],
      "text/plain": [
       "   insfg\n",
       "0      0\n",
       "1      0\n",
       "2      0\n",
       "3      0\n",
       "4      0"
      ]
     },
     "execution_count": 35,
     "metadata": {},
     "output_type": "execute_result"
    }
   ],
   "source": [
    "pd_insfg = pd.DataFrame(credit_insfg_encoded, columns=['insfg'])\n",
    "pd_insfg.head()"
   ]
  },
  {
   "cell_type": "markdown",
   "metadata": {},
   "source": [
    "處理分類-End"
   ]
  },
  {
   "cell_type": "markdown",
   "metadata": {},
   "source": [
    "連結X跟分類後的屬性-Start"
   ]
  },
  {
   "cell_type": "code",
   "execution_count": 36,
   "metadata": {},
   "outputs": [],
   "source": [
    "# X_temp = pd.concat([X, pd_ecfg], axis=1)\n",
    "# X_temp = pd.concat([X, pd_ovrlt], axis=1)\n",
    "# X_temp = pd.concat([X, pd_insfg], axis=1)\n",
    "X_temp = pd.concat([X, pd_ecfg, pd_ovrlt, pd_insfg], axis=1)"
   ]
  },
  {
   "cell_type": "markdown",
   "metadata": {},
   "source": [
    "連結X跟分類後的屬性-End"
   ]
  },
  {
   "cell_type": "markdown",
   "metadata": {},
   "source": [
    "分析類別變數-Start"
   ]
  },
  {
   "cell_type": "code",
   "execution_count": 37,
   "metadata": {},
   "outputs": [
    {
     "data": {
      "text/plain": [
       "1521786"
      ]
     },
     "execution_count": 37,
     "metadata": {},
     "output_type": "execute_result"
    }
   ],
   "source": [
    "frame = credit.groupby(\"ecfg\")\n",
    "frame.groups.get(\"N\")[-1]"
   ]
  },
  {
   "cell_type": "code",
   "execution_count": 38,
   "metadata": {},
   "outputs": [
    {
     "name": "stdout",
     "output_type": "stream",
     "text": [
      "ecfg Y 17493\n",
      "ecfg Y 0.011495053506244312\n",
      "ecfg N 2862\n",
      "ecfg N 0.0018806849320469501\n",
      "ovrlt Y 635\n",
      "ovrlt Y 0.0004172835563336087\n",
      "ovrlt N 19720\n",
      "ovrlt N 0.012958458022350055\n",
      "insfg Y 37\n",
      "insfg Y 2.4313808468959482e-05\n",
      "insfg N 20318\n",
      "insfg N 0.01335141734777426\n"
     ]
    }
   ],
   "source": [
    "frame = credit.groupby(\"ecfg\")\n",
    "frame.groups\n",
    "print(\"ecfg Y\", frame.get_group(\"Y\")[\"fraud_ind\"].sum())\n",
    "print(\"ecfg Y\", frame.get_group(\"Y\")[\"fraud_ind\"].sum()/ frame.groups.get(\"Y\")[-1])\n",
    "print(\"ecfg N\", frame.get_group(\"N\")[\"fraud_ind\"].sum())\n",
    "print(\"ecfg N\", frame.get_group(\"N\")[\"fraud_ind\"].sum()/ frame.groups.get(\"N\")[-1])\n",
    "frame = credit.groupby(\"ovrlt\")\n",
    "frame.groups\n",
    "print(\"ovrlt Y\", frame.get_group(\"Y\")[\"fraud_ind\"].sum())\n",
    "print(\"ovrlt Y\", frame.get_group(\"Y\")[\"fraud_ind\"].sum()/ frame.groups.get(\"Y\")[-1])\n",
    "print(\"ovrlt N\", frame.get_group(\"N\")[\"fraud_ind\"].sum())\n",
    "print(\"ovrlt N\", frame.get_group(\"N\")[\"fraud_ind\"].sum()/ frame.groups.get(\"N\")[-1])\n",
    "frame = credit.groupby(\"insfg\")\n",
    "frame.groups\n",
    "print(\"insfg Y\", frame.get_group(\"Y\")[\"fraud_ind\"].sum())\n",
    "print(\"insfg Y\", frame.get_group(\"Y\")[\"fraud_ind\"].sum()/ frame.groups.get(\"Y\")[-1])\n",
    "print(\"insfg N\", frame.get_group(\"N\")[\"fraud_ind\"].sum())\n",
    "print(\"insfg N\", frame.get_group(\"N\")[\"fraud_ind\"].sum()/ frame.groups.get(\"N\")[-1])"
   ]
  },
  {
   "cell_type": "markdown",
   "metadata": {},
   "source": [
    "分析類別變數-End"
   ]
  },
  {
   "cell_type": "markdown",
   "metadata": {},
   "source": [
    "加入新的變數, feature engineering-Start"
   ]
  },
  {
   "cell_type": "code",
   "execution_count": 66,
   "metadata": {},
   "outputs": [
    {
     "name": "stdout",
     "output_type": "stream",
     "text": [
      "<class 'pandas.core.frame.DataFrame'>\n",
      "RangeIndex: 1521787 entries, 0 to 1521786\n",
      "Data columns (total 20 columns):\n",
      "acqic    1521787 non-null int64\n",
      "bacno    1521787 non-null int64\n",
      "cano     1521787 non-null int64\n",
      "conam    1521787 non-null float64\n",
      "contp    1521787 non-null int64\n",
      "csmcu    1521787 non-null int64\n",
      "etymd    1521787 non-null int64\n",
      "hcefg    1521787 non-null int64\n",
      "iterm    1521787 non-null int64\n",
      "locdt    1521787 non-null int64\n",
      "loctm    1521787 non-null float64\n",
      "mcc      1521787 non-null int64\n",
      "mchno    1521787 non-null int64\n",
      "scity    1521787 non-null int64\n",
      "stocn    1521787 non-null int64\n",
      "stscd    1521787 non-null int64\n",
      "txkey    1521787 non-null int64\n",
      "ecfg     1521787 non-null int32\n",
      "ovrlt    1521787 non-null int32\n",
      "insfg    1521787 non-null int32\n",
      "dtypes: float64(2), int32(3), int64(15)\n",
      "memory usage: 214.8 MB\n"
     ]
    }
   ],
   "source": [
    "X_temp.info()"
   ]
  },
  {
   "cell_type": "code",
   "execution_count": 74,
   "metadata": {},
   "outputs": [],
   "source": [
    "w = (X_temp[\"ecfg\"]+X_temp[\"ovrlt\"])>1\n",
    "w.astype(int)\n",
    "type(w.astype(int))\n",
    "new_feature = pd.DataFrame(w.astype(int))"
   ]
  },
  {
   "cell_type": "code",
   "execution_count": 75,
   "metadata": {},
   "outputs": [
    {
     "data": {
      "text/html": [
       "<div>\n",
       "<style scoped>\n",
       "    .dataframe tbody tr th:only-of-type {\n",
       "        vertical-align: middle;\n",
       "    }\n",
       "\n",
       "    .dataframe tbody tr th {\n",
       "        vertical-align: top;\n",
       "    }\n",
       "\n",
       "    .dataframe thead th {\n",
       "        text-align: right;\n",
       "    }\n",
       "</style>\n",
       "<table border=\"1\" class=\"dataframe\">\n",
       "  <thead>\n",
       "    <tr style=\"text-align: right;\">\n",
       "      <th></th>\n",
       "      <th>0</th>\n",
       "    </tr>\n",
       "  </thead>\n",
       "  <tbody>\n",
       "    <tr>\n",
       "      <th>0</th>\n",
       "      <td>0</td>\n",
       "    </tr>\n",
       "    <tr>\n",
       "      <th>1</th>\n",
       "      <td>0</td>\n",
       "    </tr>\n",
       "    <tr>\n",
       "      <th>2</th>\n",
       "      <td>0</td>\n",
       "    </tr>\n",
       "    <tr>\n",
       "      <th>3</th>\n",
       "      <td>0</td>\n",
       "    </tr>\n",
       "    <tr>\n",
       "      <th>4</th>\n",
       "      <td>0</td>\n",
       "    </tr>\n",
       "  </tbody>\n",
       "</table>\n",
       "</div>"
      ],
      "text/plain": [
       "   0\n",
       "0  0\n",
       "1  0\n",
       "2  0\n",
       "3  0\n",
       "4  0"
      ]
     },
     "execution_count": 75,
     "metadata": {},
     "output_type": "execute_result"
    }
   ],
   "source": [
    "new_feature.head()"
   ]
  },
  {
   "cell_type": "code",
   "execution_count": 76,
   "metadata": {},
   "outputs": [],
   "source": [
    "new_feature.columns = ['new1']"
   ]
  },
  {
   "cell_type": "code",
   "execution_count": 77,
   "metadata": {},
   "outputs": [
    {
     "data": {
      "text/html": [
       "<div>\n",
       "<style scoped>\n",
       "    .dataframe tbody tr th:only-of-type {\n",
       "        vertical-align: middle;\n",
       "    }\n",
       "\n",
       "    .dataframe tbody tr th {\n",
       "        vertical-align: top;\n",
       "    }\n",
       "\n",
       "    .dataframe thead th {\n",
       "        text-align: right;\n",
       "    }\n",
       "</style>\n",
       "<table border=\"1\" class=\"dataframe\">\n",
       "  <thead>\n",
       "    <tr style=\"text-align: right;\">\n",
       "      <th></th>\n",
       "      <th>new1</th>\n",
       "    </tr>\n",
       "  </thead>\n",
       "  <tbody>\n",
       "    <tr>\n",
       "      <th>0</th>\n",
       "      <td>0</td>\n",
       "    </tr>\n",
       "    <tr>\n",
       "      <th>1</th>\n",
       "      <td>0</td>\n",
       "    </tr>\n",
       "    <tr>\n",
       "      <th>2</th>\n",
       "      <td>0</td>\n",
       "    </tr>\n",
       "    <tr>\n",
       "      <th>3</th>\n",
       "      <td>0</td>\n",
       "    </tr>\n",
       "    <tr>\n",
       "      <th>4</th>\n",
       "      <td>0</td>\n",
       "    </tr>\n",
       "  </tbody>\n",
       "</table>\n",
       "</div>"
      ],
      "text/plain": [
       "   new1\n",
       "0     0\n",
       "1     0\n",
       "2     0\n",
       "3     0\n",
       "4     0"
      ]
     },
     "execution_count": 77,
     "metadata": {},
     "output_type": "execute_result"
    }
   ],
   "source": [
    "new_feature.head()"
   ]
  },
  {
   "cell_type": "markdown",
   "metadata": {},
   "source": [
    "加入新的變數, feature engineering-End"
   ]
  },
  {
   "cell_type": "code",
   "execution_count": 39,
   "metadata": {},
   "outputs": [],
   "source": [
    "# from sklearn.model_selection import train_test_split\n",
    "# X_train, X_test, y_train, y_test = train_test_split(X, y, test_size = 0.2, random_state = 0)\n",
    "X_train = X_temp\n",
    "# X_train = X\n",
    "y_train = y"
   ]
  },
  {
   "cell_type": "code",
   "execution_count": 40,
   "metadata": {},
   "outputs": [
    {
     "name": "stderr",
     "output_type": "stream",
     "text": [
      "C:\\Users\\lee\\AppData\\Local\\conda\\conda\\envs\\shu\\lib\\site-packages\\sklearn\\ensemble\\forest.py:245: FutureWarning: The default value of n_estimators will change from 10 in version 0.20 to 100 in 0.22.\n",
      "  \"10 in version 0.20 to 100 in 0.22.\", FutureWarning)\n"
     ]
    }
   ],
   "source": [
    "from sklearn.linear_model import LogisticRegression\n",
    "from sklearn.ensemble import RandomForestClassifier\n",
    "from sklearn.ensemble import GradientBoostingClassifier\n",
    "from sklearn.ensemble import AdaBoostClassifier\n",
    "import xgboost as xgb\n",
    "# import lightgbm as lgb\n",
    "# clf = LogisticRegression(random_state=0, solver='lbfgs',\n",
    "#                          multi_class='multinomial').fit(X_train, y_train)\n",
    "clf = RandomForestClassifier().fit(X_train, y_train)\n",
    "# clf = GradientBoostingClassifier().fit(X_train, y_train)\n",
    "# clf = AdaBoostClassifier().fit(X_train, y_train)\n",
    "# clf = xgb.XGBClassifier().fit(X_train, y_train)"
   ]
  },
  {
   "cell_type": "code",
   "execution_count": 41,
   "metadata": {},
   "outputs": [
    {
     "data": {
      "text/plain": [
       "array([0, 0, 0, ..., 0, 0, 0], dtype=int64)"
      ]
     },
     "execution_count": 41,
     "metadata": {},
     "output_type": "execute_result"
    }
   ],
   "source": [
    "clf.predict(X_train)"
   ]
  },
  {
   "cell_type": "code",
   "execution_count": 42,
   "metadata": {},
   "outputs": [
    {
     "data": {
      "text/plain": [
       "array([0, 0, 0, ..., 0, 0, 0], dtype=int64)"
      ]
     },
     "execution_count": 42,
     "metadata": {},
     "output_type": "execute_result"
    }
   ],
   "source": [
    "y_train.to_numpy()"
   ]
  },
  {
   "cell_type": "code",
   "execution_count": 43,
   "metadata": {},
   "outputs": [
    {
     "data": {
      "text/plain": [
       "0.9993251355150228"
      ]
     },
     "execution_count": 43,
     "metadata": {},
     "output_type": "execute_result"
    }
   ],
   "source": [
    "from sklearn.metrics import f1_score\n",
    "f1_score(y_train.to_numpy(), clf.predict(X_train), average='micro')"
   ]
  },
  {
   "cell_type": "code",
   "execution_count": 44,
   "metadata": {},
   "outputs": [],
   "source": [
    "# f1_score(y_test.to_numpy(), clf.predict(X_test), average='micro')"
   ]
  },
  {
   "cell_type": "code",
   "execution_count": 45,
   "metadata": {},
   "outputs": [],
   "source": [
    "credit_test = pd.read_csv(\"test.csv\")"
   ]
  },
  {
   "cell_type": "code",
   "execution_count": 46,
   "metadata": {},
   "outputs": [
    {
     "name": "stdout",
     "output_type": "stream",
     "text": [
      "<class 'pandas.core.frame.DataFrame'>\n",
      "RangeIndex: 1521787 entries, 0 to 1521786\n",
      "Data columns (total 17 columns):\n",
      "acqic    1521787 non-null int64\n",
      "bacno    1521787 non-null int64\n",
      "cano     1521787 non-null int64\n",
      "conam    1521787 non-null float64\n",
      "contp    1521787 non-null int64\n",
      "csmcu    1521787 non-null int64\n",
      "etymd    1521787 non-null int64\n",
      "hcefg    1521787 non-null int64\n",
      "iterm    1521787 non-null int64\n",
      "locdt    1521787 non-null int64\n",
      "loctm    1521787 non-null float64\n",
      "mcc      1521787 non-null int64\n",
      "mchno    1521787 non-null int64\n",
      "scity    1521787 non-null int64\n",
      "stocn    1521787 non-null int64\n",
      "stscd    1521787 non-null int64\n",
      "txkey    1521787 non-null int64\n",
      "dtypes: float64(2), int64(15)\n",
      "memory usage: 197.4 MB\n"
     ]
    }
   ],
   "source": [
    "X.info()"
   ]
  },
  {
   "cell_type": "code",
   "execution_count": 47,
   "metadata": {
    "scrolled": true
   },
   "outputs": [
    {
     "name": "stdout",
     "output_type": "stream",
     "text": [
      "<class 'pandas.core.frame.DataFrame'>\n",
      "RangeIndex: 421665 entries, 0 to 421664\n",
      "Data columns (total 22 columns):\n",
      "acqic        421665 non-null int64\n",
      "bacno        421665 non-null int64\n",
      "cano         421665 non-null int64\n",
      "conam        421665 non-null float64\n",
      "contp        421665 non-null int64\n",
      "csmcu        421665 non-null int64\n",
      "ecfg         421665 non-null object\n",
      "etymd        421665 non-null int64\n",
      "flbmk        417950 non-null object\n",
      "flg_3dsmk    417950 non-null object\n",
      "hcefg        421665 non-null int64\n",
      "insfg        421665 non-null object\n",
      "iterm        421665 non-null int64\n",
      "locdt        421665 non-null int64\n",
      "loctm        421665 non-null float64\n",
      "mcc          421665 non-null int64\n",
      "mchno        421665 non-null int64\n",
      "ovrlt        421665 non-null object\n",
      "scity        421665 non-null int64\n",
      "stocn        421665 non-null int64\n",
      "stscd        421665 non-null int64\n",
      "txkey        421665 non-null int64\n",
      "dtypes: float64(2), int64(15), object(5)\n",
      "memory usage: 70.8+ MB\n"
     ]
    }
   ],
   "source": [
    "credit_test.info()"
   ]
  },
  {
   "cell_type": "code",
   "execution_count": 48,
   "metadata": {},
   "outputs": [],
   "source": [
    "X_test = credit_test.drop(\"ecfg\", axis=1).drop(\"flbmk\", axis=1)\\\n",
    ".drop(\"flg_3dsmk\", axis=1).drop(\"insfg\", axis=1).drop(\"ovrlt\", axis=1)"
   ]
  },
  {
   "cell_type": "code",
   "execution_count": 49,
   "metadata": {},
   "outputs": [
    {
     "name": "stdout",
     "output_type": "stream",
     "text": [
      "<class 'pandas.core.frame.DataFrame'>\n",
      "RangeIndex: 421665 entries, 0 to 421664\n",
      "Data columns (total 17 columns):\n",
      "acqic    421665 non-null int64\n",
      "bacno    421665 non-null int64\n",
      "cano     421665 non-null int64\n",
      "conam    421665 non-null float64\n",
      "contp    421665 non-null int64\n",
      "csmcu    421665 non-null int64\n",
      "etymd    421665 non-null int64\n",
      "hcefg    421665 non-null int64\n",
      "iterm    421665 non-null int64\n",
      "locdt    421665 non-null int64\n",
      "loctm    421665 non-null float64\n",
      "mcc      421665 non-null int64\n",
      "mchno    421665 non-null int64\n",
      "scity    421665 non-null int64\n",
      "stocn    421665 non-null int64\n",
      "stscd    421665 non-null int64\n",
      "txkey    421665 non-null int64\n",
      "dtypes: float64(2), int64(15)\n",
      "memory usage: 54.7 MB\n"
     ]
    }
   ],
   "source": [
    "X_test.info()"
   ]
  },
  {
   "cell_type": "markdown",
   "metadata": {},
   "source": [
    "test 補上分類的feature-Start"
   ]
  },
  {
   "cell_type": "code",
   "execution_count": 50,
   "metadata": {},
   "outputs": [
    {
     "data": {
      "text/plain": [
       "0    N\n",
       "1    N\n",
       "2    N\n",
       "3    N\n",
       "4    N\n",
       "Name: ecfg, dtype: object"
      ]
     },
     "execution_count": 50,
     "metadata": {},
     "output_type": "execute_result"
    }
   ],
   "source": [
    "credit_test[\"ecfg\"].head()"
   ]
  },
  {
   "cell_type": "code",
   "execution_count": 51,
   "metadata": {},
   "outputs": [
    {
     "data": {
      "text/html": [
       "<div>\n",
       "<style scoped>\n",
       "    .dataframe tbody tr th:only-of-type {\n",
       "        vertical-align: middle;\n",
       "    }\n",
       "\n",
       "    .dataframe tbody tr th {\n",
       "        vertical-align: top;\n",
       "    }\n",
       "\n",
       "    .dataframe thead th {\n",
       "        text-align: right;\n",
       "    }\n",
       "</style>\n",
       "<table border=\"1\" class=\"dataframe\">\n",
       "  <thead>\n",
       "    <tr style=\"text-align: right;\">\n",
       "      <th></th>\n",
       "      <th>ecfg</th>\n",
       "    </tr>\n",
       "  </thead>\n",
       "  <tbody>\n",
       "    <tr>\n",
       "      <th>0</th>\n",
       "      <td>0</td>\n",
       "    </tr>\n",
       "    <tr>\n",
       "      <th>1</th>\n",
       "      <td>0</td>\n",
       "    </tr>\n",
       "    <tr>\n",
       "      <th>2</th>\n",
       "      <td>0</td>\n",
       "    </tr>\n",
       "    <tr>\n",
       "      <th>3</th>\n",
       "      <td>0</td>\n",
       "    </tr>\n",
       "    <tr>\n",
       "      <th>4</th>\n",
       "      <td>0</td>\n",
       "    </tr>\n",
       "  </tbody>\n",
       "</table>\n",
       "</div>"
      ],
      "text/plain": [
       "   ecfg\n",
       "0     0\n",
       "1     0\n",
       "2     0\n",
       "3     0\n",
       "4     0"
      ]
     },
     "execution_count": 51,
     "metadata": {},
     "output_type": "execute_result"
    }
   ],
   "source": [
    "credit_ecfg_encoded_test = encoder_ecfg.transform(credit_test[\"ecfg\"])\n",
    "pd_ecfg_test = pd.DataFrame(credit_ecfg_encoded_test, columns=['ecfg'])\n",
    "pd_ecfg_test.head()"
   ]
  },
  {
   "cell_type": "code",
   "execution_count": 52,
   "metadata": {},
   "outputs": [
    {
     "data": {
      "text/html": [
       "<div>\n",
       "<style scoped>\n",
       "    .dataframe tbody tr th:only-of-type {\n",
       "        vertical-align: middle;\n",
       "    }\n",
       "\n",
       "    .dataframe tbody tr th {\n",
       "        vertical-align: top;\n",
       "    }\n",
       "\n",
       "    .dataframe thead th {\n",
       "        text-align: right;\n",
       "    }\n",
       "</style>\n",
       "<table border=\"1\" class=\"dataframe\">\n",
       "  <thead>\n",
       "    <tr style=\"text-align: right;\">\n",
       "      <th></th>\n",
       "      <th>ovrlt</th>\n",
       "    </tr>\n",
       "  </thead>\n",
       "  <tbody>\n",
       "    <tr>\n",
       "      <th>0</th>\n",
       "      <td>0</td>\n",
       "    </tr>\n",
       "    <tr>\n",
       "      <th>1</th>\n",
       "      <td>0</td>\n",
       "    </tr>\n",
       "    <tr>\n",
       "      <th>2</th>\n",
       "      <td>0</td>\n",
       "    </tr>\n",
       "    <tr>\n",
       "      <th>3</th>\n",
       "      <td>0</td>\n",
       "    </tr>\n",
       "    <tr>\n",
       "      <th>4</th>\n",
       "      <td>0</td>\n",
       "    </tr>\n",
       "  </tbody>\n",
       "</table>\n",
       "</div>"
      ],
      "text/plain": [
       "   ovrlt\n",
       "0      0\n",
       "1      0\n",
       "2      0\n",
       "3      0\n",
       "4      0"
      ]
     },
     "execution_count": 52,
     "metadata": {},
     "output_type": "execute_result"
    }
   ],
   "source": [
    "credit_ovrlt_encoded_test = encoder_ovrlt.fit_transform(credit_test[\"ovrlt\"])\n",
    "pd_ovrlt_test = pd.DataFrame(credit_ovrlt_encoded_test, columns=['ovrlt'])\n",
    "pd_ovrlt_test.head()"
   ]
  },
  {
   "cell_type": "code",
   "execution_count": 53,
   "metadata": {},
   "outputs": [
    {
     "data": {
      "text/html": [
       "<div>\n",
       "<style scoped>\n",
       "    .dataframe tbody tr th:only-of-type {\n",
       "        vertical-align: middle;\n",
       "    }\n",
       "\n",
       "    .dataframe tbody tr th {\n",
       "        vertical-align: top;\n",
       "    }\n",
       "\n",
       "    .dataframe thead th {\n",
       "        text-align: right;\n",
       "    }\n",
       "</style>\n",
       "<table border=\"1\" class=\"dataframe\">\n",
       "  <thead>\n",
       "    <tr style=\"text-align: right;\">\n",
       "      <th></th>\n",
       "      <th>insfg</th>\n",
       "    </tr>\n",
       "  </thead>\n",
       "  <tbody>\n",
       "    <tr>\n",
       "      <th>0</th>\n",
       "      <td>0</td>\n",
       "    </tr>\n",
       "    <tr>\n",
       "      <th>1</th>\n",
       "      <td>0</td>\n",
       "    </tr>\n",
       "    <tr>\n",
       "      <th>2</th>\n",
       "      <td>0</td>\n",
       "    </tr>\n",
       "    <tr>\n",
       "      <th>3</th>\n",
       "      <td>0</td>\n",
       "    </tr>\n",
       "    <tr>\n",
       "      <th>4</th>\n",
       "      <td>0</td>\n",
       "    </tr>\n",
       "  </tbody>\n",
       "</table>\n",
       "</div>"
      ],
      "text/plain": [
       "   insfg\n",
       "0      0\n",
       "1      0\n",
       "2      0\n",
       "3      0\n",
       "4      0"
      ]
     },
     "execution_count": 53,
     "metadata": {},
     "output_type": "execute_result"
    }
   ],
   "source": [
    "credit_insfg_encoded_test = encoder_insfg.fit_transform(credit_test[\"insfg\"])\n",
    "pd_insfg_test = pd.DataFrame(credit_insfg_encoded_test, columns=['insfg'])\n",
    "pd_insfg_test.head()"
   ]
  },
  {
   "cell_type": "markdown",
   "metadata": {},
   "source": [
    "test 補上分類的feature-End"
   ]
  },
  {
   "cell_type": "code",
   "execution_count": 54,
   "metadata": {},
   "outputs": [
    {
     "data": {
      "text/plain": [
       "pandas.core.frame.DataFrame"
      ]
     },
     "execution_count": 54,
     "metadata": {},
     "output_type": "execute_result"
    }
   ],
   "source": [
    "type(X_test)"
   ]
  },
  {
   "cell_type": "code",
   "execution_count": 55,
   "metadata": {},
   "outputs": [
    {
     "data": {
      "text/plain": [
       "numpy.ndarray"
      ]
     },
     "execution_count": 55,
     "metadata": {},
     "output_type": "execute_result"
    }
   ],
   "source": [
    "type(credit_ecfg_encoded_test)"
   ]
  },
  {
   "cell_type": "code",
   "execution_count": 56,
   "metadata": {},
   "outputs": [],
   "source": [
    "# X_temp_test = pd.concat([X_test, pd_ecfg_test], axis=1)\n",
    "# X_temp_test = pd.concat([X_test, pd_ovrlt_test], axis=1)\n",
    "# X_temp_test = pd.concat([X_test, pd_insfg_test], axis=1)\n",
    "X_temp_test = pd.concat([X_test, pd_ecfg_test, pd_ovrlt_test, pd_insfg_test], axis=1)"
   ]
  },
  {
   "cell_type": "code",
   "execution_count": 57,
   "metadata": {},
   "outputs": [],
   "source": [
    "y_test = clf.predict(X_temp_test)"
   ]
  },
  {
   "cell_type": "code",
   "execution_count": 58,
   "metadata": {},
   "outputs": [
    {
     "data": {
      "text/plain": [
       "(421665,)"
      ]
     },
     "execution_count": 58,
     "metadata": {},
     "output_type": "execute_result"
    }
   ],
   "source": [
    "y_test.shape"
   ]
  },
  {
   "cell_type": "code",
   "execution_count": 59,
   "metadata": {},
   "outputs": [
    {
     "data": {
      "text/html": [
       "<div>\n",
       "<style scoped>\n",
       "    .dataframe tbody tr th:only-of-type {\n",
       "        vertical-align: middle;\n",
       "    }\n",
       "\n",
       "    .dataframe tbody tr th {\n",
       "        vertical-align: top;\n",
       "    }\n",
       "\n",
       "    .dataframe thead th {\n",
       "        text-align: right;\n",
       "    }\n",
       "</style>\n",
       "<table border=\"1\" class=\"dataframe\">\n",
       "  <thead>\n",
       "    <tr style=\"text-align: right;\">\n",
       "      <th></th>\n",
       "      <th>acqic</th>\n",
       "      <th>bacno</th>\n",
       "      <th>cano</th>\n",
       "      <th>conam</th>\n",
       "      <th>contp</th>\n",
       "      <th>csmcu</th>\n",
       "      <th>etymd</th>\n",
       "      <th>hcefg</th>\n",
       "      <th>iterm</th>\n",
       "      <th>locdt</th>\n",
       "      <th>loctm</th>\n",
       "      <th>mcc</th>\n",
       "      <th>mchno</th>\n",
       "      <th>scity</th>\n",
       "      <th>stocn</th>\n",
       "      <th>stscd</th>\n",
       "      <th>txkey</th>\n",
       "    </tr>\n",
       "  </thead>\n",
       "  <tbody>\n",
       "    <tr>\n",
       "      <th>0</th>\n",
       "      <td>6881</td>\n",
       "      <td>163188</td>\n",
       "      <td>116799</td>\n",
       "      <td>513.8</td>\n",
       "      <td>5</td>\n",
       "      <td>0</td>\n",
       "      <td>0</td>\n",
       "      <td>5</td>\n",
       "      <td>0</td>\n",
       "      <td>102</td>\n",
       "      <td>215328.0</td>\n",
       "      <td>457</td>\n",
       "      <td>59360</td>\n",
       "      <td>0</td>\n",
       "      <td>102</td>\n",
       "      <td>0</td>\n",
       "      <td>592489</td>\n",
       "    </tr>\n",
       "    <tr>\n",
       "      <th>1</th>\n",
       "      <td>6881</td>\n",
       "      <td>163188</td>\n",
       "      <td>116799</td>\n",
       "      <td>513.8</td>\n",
       "      <td>5</td>\n",
       "      <td>0</td>\n",
       "      <td>0</td>\n",
       "      <td>5</td>\n",
       "      <td>0</td>\n",
       "      <td>102</td>\n",
       "      <td>222007.0</td>\n",
       "      <td>457</td>\n",
       "      <td>59360</td>\n",
       "      <td>0</td>\n",
       "      <td>102</td>\n",
       "      <td>0</td>\n",
       "      <td>592452</td>\n",
       "    </tr>\n",
       "    <tr>\n",
       "      <th>2</th>\n",
       "      <td>6881</td>\n",
       "      <td>163188</td>\n",
       "      <td>116799</td>\n",
       "      <td>513.8</td>\n",
       "      <td>5</td>\n",
       "      <td>0</td>\n",
       "      <td>0</td>\n",
       "      <td>5</td>\n",
       "      <td>0</td>\n",
       "      <td>100</td>\n",
       "      <td>170013.0</td>\n",
       "      <td>457</td>\n",
       "      <td>59360</td>\n",
       "      <td>0</td>\n",
       "      <td>102</td>\n",
       "      <td>0</td>\n",
       "      <td>590212</td>\n",
       "    </tr>\n",
       "    <tr>\n",
       "      <th>3</th>\n",
       "      <td>6881</td>\n",
       "      <td>163188</td>\n",
       "      <td>116799</td>\n",
       "      <td>513.8</td>\n",
       "      <td>5</td>\n",
       "      <td>0</td>\n",
       "      <td>0</td>\n",
       "      <td>5</td>\n",
       "      <td>0</td>\n",
       "      <td>100</td>\n",
       "      <td>165914.0</td>\n",
       "      <td>457</td>\n",
       "      <td>59360</td>\n",
       "      <td>0</td>\n",
       "      <td>102</td>\n",
       "      <td>0</td>\n",
       "      <td>590209</td>\n",
       "    </tr>\n",
       "    <tr>\n",
       "      <th>4</th>\n",
       "      <td>6881</td>\n",
       "      <td>163188</td>\n",
       "      <td>116799</td>\n",
       "      <td>513.8</td>\n",
       "      <td>5</td>\n",
       "      <td>0</td>\n",
       "      <td>0</td>\n",
       "      <td>5</td>\n",
       "      <td>0</td>\n",
       "      <td>102</td>\n",
       "      <td>215311.0</td>\n",
       "      <td>457</td>\n",
       "      <td>59360</td>\n",
       "      <td>0</td>\n",
       "      <td>102</td>\n",
       "      <td>0</td>\n",
       "      <td>592488</td>\n",
       "    </tr>\n",
       "  </tbody>\n",
       "</table>\n",
       "</div>"
      ],
      "text/plain": [
       "   acqic   bacno    cano  conam  contp  csmcu  etymd  hcefg  iterm  locdt  \\\n",
       "0   6881  163188  116799  513.8      5      0      0      5      0    102   \n",
       "1   6881  163188  116799  513.8      5      0      0      5      0    102   \n",
       "2   6881  163188  116799  513.8      5      0      0      5      0    100   \n",
       "3   6881  163188  116799  513.8      5      0      0      5      0    100   \n",
       "4   6881  163188  116799  513.8      5      0      0      5      0    102   \n",
       "\n",
       "      loctm  mcc  mchno  scity  stocn  stscd   txkey  \n",
       "0  215328.0  457  59360      0    102      0  592489  \n",
       "1  222007.0  457  59360      0    102      0  592452  \n",
       "2  170013.0  457  59360      0    102      0  590212  \n",
       "3  165914.0  457  59360      0    102      0  590209  \n",
       "4  215311.0  457  59360      0    102      0  592488  "
      ]
     },
     "execution_count": 59,
     "metadata": {},
     "output_type": "execute_result"
    }
   ],
   "source": [
    "X_test.head()"
   ]
  },
  {
   "cell_type": "code",
   "execution_count": 60,
   "metadata": {},
   "outputs": [
    {
     "data": {
      "text/html": [
       "<div>\n",
       "<style scoped>\n",
       "    .dataframe tbody tr th:only-of-type {\n",
       "        vertical-align: middle;\n",
       "    }\n",
       "\n",
       "    .dataframe tbody tr th {\n",
       "        vertical-align: top;\n",
       "    }\n",
       "\n",
       "    .dataframe thead th {\n",
       "        text-align: right;\n",
       "    }\n",
       "</style>\n",
       "<table border=\"1\" class=\"dataframe\">\n",
       "  <thead>\n",
       "    <tr style=\"text-align: right;\">\n",
       "      <th></th>\n",
       "      <th>0</th>\n",
       "    </tr>\n",
       "  </thead>\n",
       "  <tbody>\n",
       "    <tr>\n",
       "      <th>0</th>\n",
       "      <td>0</td>\n",
       "    </tr>\n",
       "    <tr>\n",
       "      <th>1</th>\n",
       "      <td>0</td>\n",
       "    </tr>\n",
       "    <tr>\n",
       "      <th>2</th>\n",
       "      <td>0</td>\n",
       "    </tr>\n",
       "    <tr>\n",
       "      <th>3</th>\n",
       "      <td>0</td>\n",
       "    </tr>\n",
       "    <tr>\n",
       "      <th>4</th>\n",
       "      <td>0</td>\n",
       "    </tr>\n",
       "  </tbody>\n",
       "</table>\n",
       "</div>"
      ],
      "text/plain": [
       "   0\n",
       "0  0\n",
       "1  0\n",
       "2  0\n",
       "3  0\n",
       "4  0"
      ]
     },
     "execution_count": 60,
     "metadata": {},
     "output_type": "execute_result"
    }
   ],
   "source": [
    "pd.DataFrame(y_test).head()"
   ]
  },
  {
   "cell_type": "code",
   "execution_count": 61,
   "metadata": {},
   "outputs": [
    {
     "data": {
      "text/plain": [
       "pandas.core.series.Series"
      ]
     },
     "execution_count": 61,
     "metadata": {},
     "output_type": "execute_result"
    }
   ],
   "source": [
    "credit_test_submit = pd.read_csv(\"submission_test.csv\")\n",
    "type(credit_test_submit[\"fraud_ind\"])"
   ]
  },
  {
   "cell_type": "code",
   "execution_count": 62,
   "metadata": {},
   "outputs": [
    {
     "data": {
      "text/plain": [
       "pandas.core.frame.DataFrame"
      ]
     },
     "execution_count": 62,
     "metadata": {},
     "output_type": "execute_result"
    }
   ],
   "source": [
    "type(pd.DataFrame(y_test))"
   ]
  },
  {
   "cell_type": "code",
   "execution_count": 63,
   "metadata": {},
   "outputs": [],
   "source": [
    "credit_test_submit[\"fraud_ind\"] = pd.DataFrame(y_test)"
   ]
  },
  {
   "cell_type": "code",
   "execution_count": 64,
   "metadata": {
    "scrolled": true
   },
   "outputs": [
    {
     "data": {
      "text/html": [
       "<div>\n",
       "<style scoped>\n",
       "    .dataframe tbody tr th:only-of-type {\n",
       "        vertical-align: middle;\n",
       "    }\n",
       "\n",
       "    .dataframe tbody tr th {\n",
       "        vertical-align: top;\n",
       "    }\n",
       "\n",
       "    .dataframe thead th {\n",
       "        text-align: right;\n",
       "    }\n",
       "</style>\n",
       "<table border=\"1\" class=\"dataframe\">\n",
       "  <thead>\n",
       "    <tr style=\"text-align: right;\">\n",
       "      <th></th>\n",
       "      <th>txkey</th>\n",
       "      <th>fraud_ind</th>\n",
       "    </tr>\n",
       "  </thead>\n",
       "  <tbody>\n",
       "    <tr>\n",
       "      <th>0</th>\n",
       "      <td>592489</td>\n",
       "      <td>0</td>\n",
       "    </tr>\n",
       "    <tr>\n",
       "      <th>1</th>\n",
       "      <td>592452</td>\n",
       "      <td>0</td>\n",
       "    </tr>\n",
       "    <tr>\n",
       "      <th>2</th>\n",
       "      <td>590212</td>\n",
       "      <td>0</td>\n",
       "    </tr>\n",
       "    <tr>\n",
       "      <th>3</th>\n",
       "      <td>590209</td>\n",
       "      <td>0</td>\n",
       "    </tr>\n",
       "    <tr>\n",
       "      <th>4</th>\n",
       "      <td>592488</td>\n",
       "      <td>0</td>\n",
       "    </tr>\n",
       "  </tbody>\n",
       "</table>\n",
       "</div>"
      ],
      "text/plain": [
       "    txkey  fraud_ind\n",
       "0  592489          0\n",
       "1  592452          0\n",
       "2  590212          0\n",
       "3  590209          0\n",
       "4  592488          0"
      ]
     },
     "execution_count": 64,
     "metadata": {},
     "output_type": "execute_result"
    }
   ],
   "source": [
    "credit_test_submit.head()"
   ]
  },
  {
   "cell_type": "code",
   "execution_count": 65,
   "metadata": {},
   "outputs": [],
   "source": [
    "credit_test_submit.to_csv(\"output.csv\", index=False)"
   ]
  },
  {
   "cell_type": "code",
   "execution_count": null,
   "metadata": {},
   "outputs": [],
   "source": []
  },
  {
   "cell_type": "code",
   "execution_count": null,
   "metadata": {},
   "outputs": [],
   "source": []
  }
 ],
 "metadata": {
  "kernelspec": {
   "display_name": "Python 3",
   "language": "python",
   "name": "python3"
  },
  "language_info": {
   "codemirror_mode": {
    "name": "ipython",
    "version": 3
   },
   "file_extension": ".py",
   "mimetype": "text/x-python",
   "name": "python",
   "nbconvert_exporter": "python",
   "pygments_lexer": "ipython3",
   "version": "3.6.8"
  }
 },
 "nbformat": 4,
 "nbformat_minor": 2
}
