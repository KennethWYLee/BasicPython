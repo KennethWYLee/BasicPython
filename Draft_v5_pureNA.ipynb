{
 "cells": [
  {
   "cell_type": "code",
   "execution_count": 1,
   "metadata": {},
   "outputs": [],
   "source": [
    "import pandas as pd\n",
    "import numpy as np"
   ]
  },
  {
   "cell_type": "code",
   "execution_count": 2,
   "metadata": {},
   "outputs": [
    {
     "data": {
      "text/plain": [
       "'0.24.1'"
      ]
     },
     "execution_count": 2,
     "metadata": {},
     "output_type": "execute_result"
    }
   ],
   "source": [
    "pd.__version__"
   ]
  },
  {
   "cell_type": "code",
   "execution_count": 3,
   "metadata": {},
   "outputs": [
    {
     "data": {
      "text/plain": [
       "'0.21.3'"
      ]
     },
     "execution_count": 3,
     "metadata": {},
     "output_type": "execute_result"
    }
   ],
   "source": [
    "import sklearn\n",
    "sklearn.__version__"
   ]
  },
  {
   "cell_type": "code",
   "execution_count": 4,
   "metadata": {},
   "outputs": [],
   "source": [
    "credit = pd.read_csv(\"train.csv\")"
   ]
  },
  {
   "cell_type": "code",
   "execution_count": 5,
   "metadata": {},
   "outputs": [
    {
     "data": {
      "text/html": [
       "<div>\n",
       "<style scoped>\n",
       "    .dataframe tbody tr th:only-of-type {\n",
       "        vertical-align: middle;\n",
       "    }\n",
       "\n",
       "    .dataframe tbody tr th {\n",
       "        vertical-align: top;\n",
       "    }\n",
       "\n",
       "    .dataframe thead th {\n",
       "        text-align: right;\n",
       "    }\n",
       "</style>\n",
       "<table border=\"1\" class=\"dataframe\">\n",
       "  <thead>\n",
       "    <tr style=\"text-align: right;\">\n",
       "      <th></th>\n",
       "      <th>acqic</th>\n",
       "      <th>bacno</th>\n",
       "      <th>cano</th>\n",
       "      <th>conam</th>\n",
       "      <th>contp</th>\n",
       "      <th>csmcu</th>\n",
       "      <th>ecfg</th>\n",
       "      <th>etymd</th>\n",
       "      <th>flbmk</th>\n",
       "      <th>flg_3dsmk</th>\n",
       "      <th>...</th>\n",
       "      <th>iterm</th>\n",
       "      <th>locdt</th>\n",
       "      <th>loctm</th>\n",
       "      <th>mcc</th>\n",
       "      <th>mchno</th>\n",
       "      <th>ovrlt</th>\n",
       "      <th>scity</th>\n",
       "      <th>stocn</th>\n",
       "      <th>stscd</th>\n",
       "      <th>txkey</th>\n",
       "    </tr>\n",
       "  </thead>\n",
       "  <tbody>\n",
       "    <tr>\n",
       "      <th>0</th>\n",
       "      <td>6881</td>\n",
       "      <td>113261</td>\n",
       "      <td>38038</td>\n",
       "      <td>513.80</td>\n",
       "      <td>5</td>\n",
       "      <td>0</td>\n",
       "      <td>N</td>\n",
       "      <td>0</td>\n",
       "      <td>N</td>\n",
       "      <td>N</td>\n",
       "      <td>...</td>\n",
       "      <td>0</td>\n",
       "      <td>33</td>\n",
       "      <td>172652.0</td>\n",
       "      <td>457</td>\n",
       "      <td>59333</td>\n",
       "      <td>N</td>\n",
       "      <td>0</td>\n",
       "      <td>102</td>\n",
       "      <td>0</td>\n",
       "      <td>516056</td>\n",
       "    </tr>\n",
       "    <tr>\n",
       "      <th>1</th>\n",
       "      <td>0</td>\n",
       "      <td>134508</td>\n",
       "      <td>45725</td>\n",
       "      <td>465.62</td>\n",
       "      <td>5</td>\n",
       "      <td>0</td>\n",
       "      <td>N</td>\n",
       "      <td>2</td>\n",
       "      <td>N</td>\n",
       "      <td>N</td>\n",
       "      <td>...</td>\n",
       "      <td>0</td>\n",
       "      <td>9</td>\n",
       "      <td>105114.0</td>\n",
       "      <td>451</td>\n",
       "      <td>0</td>\n",
       "      <td>N</td>\n",
       "      <td>5817</td>\n",
       "      <td>102</td>\n",
       "      <td>0</td>\n",
       "      <td>4376</td>\n",
       "    </tr>\n",
       "    <tr>\n",
       "      <th>2</th>\n",
       "      <td>6881</td>\n",
       "      <td>15408</td>\n",
       "      <td>188328</td>\n",
       "      <td>513.80</td>\n",
       "      <td>5</td>\n",
       "      <td>0</td>\n",
       "      <td>N</td>\n",
       "      <td>0</td>\n",
       "      <td>N</td>\n",
       "      <td>N</td>\n",
       "      <td>...</td>\n",
       "      <td>0</td>\n",
       "      <td>6</td>\n",
       "      <td>152458.0</td>\n",
       "      <td>457</td>\n",
       "      <td>59333</td>\n",
       "      <td>N</td>\n",
       "      <td>0</td>\n",
       "      <td>102</td>\n",
       "      <td>0</td>\n",
       "      <td>483434</td>\n",
       "    </tr>\n",
       "    <tr>\n",
       "      <th>3</th>\n",
       "      <td>6716</td>\n",
       "      <td>157159</td>\n",
       "      <td>29967</td>\n",
       "      <td>1016.11</td>\n",
       "      <td>5</td>\n",
       "      <td>62</td>\n",
       "      <td>N</td>\n",
       "      <td>5</td>\n",
       "      <td>N</td>\n",
       "      <td>N</td>\n",
       "      <td>...</td>\n",
       "      <td>0</td>\n",
       "      <td>5</td>\n",
       "      <td>172946.0</td>\n",
       "      <td>247</td>\n",
       "      <td>50436</td>\n",
       "      <td>N</td>\n",
       "      <td>3281</td>\n",
       "      <td>102</td>\n",
       "      <td>0</td>\n",
       "      <td>1407164</td>\n",
       "    </tr>\n",
       "    <tr>\n",
       "      <th>4</th>\n",
       "      <td>5975</td>\n",
       "      <td>105985</td>\n",
       "      <td>81305</td>\n",
       "      <td>713.66</td>\n",
       "      <td>5</td>\n",
       "      <td>62</td>\n",
       "      <td>N</td>\n",
       "      <td>4</td>\n",
       "      <td>N</td>\n",
       "      <td>N</td>\n",
       "      <td>...</td>\n",
       "      <td>0</td>\n",
       "      <td>6</td>\n",
       "      <td>182129.0</td>\n",
       "      <td>263</td>\n",
       "      <td>93775</td>\n",
       "      <td>N</td>\n",
       "      <td>5817</td>\n",
       "      <td>102</td>\n",
       "      <td>0</td>\n",
       "      <td>1051004</td>\n",
       "    </tr>\n",
       "  </tbody>\n",
       "</table>\n",
       "<p>5 rows × 23 columns</p>\n",
       "</div>"
      ],
      "text/plain": [
       "   acqic   bacno    cano    conam  contp  csmcu ecfg  etymd flbmk flg_3dsmk  \\\n",
       "0   6881  113261   38038   513.80      5      0    N      0     N         N   \n",
       "1      0  134508   45725   465.62      5      0    N      2     N         N   \n",
       "2   6881   15408  188328   513.80      5      0    N      0     N         N   \n",
       "3   6716  157159   29967  1016.11      5     62    N      5     N         N   \n",
       "4   5975  105985   81305   713.66      5     62    N      4     N         N   \n",
       "\n",
       "   ...  iterm  locdt     loctm  mcc  mchno  ovrlt  scity  stocn stscd    txkey  \n",
       "0  ...      0     33  172652.0  457  59333      N      0    102     0   516056  \n",
       "1  ...      0      9  105114.0  451      0      N   5817    102     0     4376  \n",
       "2  ...      0      6  152458.0  457  59333      N      0    102     0   483434  \n",
       "3  ...      0      5  172946.0  247  50436      N   3281    102     0  1407164  \n",
       "4  ...      0      6  182129.0  263  93775      N   5817    102     0  1051004  \n",
       "\n",
       "[5 rows x 23 columns]"
      ]
     },
     "execution_count": 5,
     "metadata": {},
     "output_type": "execute_result"
    }
   ],
   "source": [
    "credit.head()"
   ]
  },
  {
   "cell_type": "code",
   "execution_count": 6,
   "metadata": {},
   "outputs": [
    {
     "name": "stdout",
     "output_type": "stream",
     "text": [
      "<class 'pandas.core.frame.DataFrame'>\n",
      "RangeIndex: 1521787 entries, 0 to 1521786\n",
      "Data columns (total 23 columns):\n",
      "acqic        1521787 non-null int64\n",
      "bacno        1521787 non-null int64\n",
      "cano         1521787 non-null int64\n",
      "conam        1521787 non-null float64\n",
      "contp        1521787 non-null int64\n",
      "csmcu        1521787 non-null int64\n",
      "ecfg         1521787 non-null object\n",
      "etymd        1521787 non-null int64\n",
      "flbmk        1509206 non-null object\n",
      "flg_3dsmk    1509206 non-null object\n",
      "fraud_ind    1521787 non-null int64\n",
      "hcefg        1521787 non-null int64\n",
      "insfg        1521787 non-null object\n",
      "iterm        1521787 non-null int64\n",
      "locdt        1521787 non-null int64\n",
      "loctm        1521787 non-null float64\n",
      "mcc          1521787 non-null int64\n",
      "mchno        1521787 non-null int64\n",
      "ovrlt        1521787 non-null object\n",
      "scity        1521787 non-null int64\n",
      "stocn        1521787 non-null int64\n",
      "stscd        1521787 non-null int64\n",
      "txkey        1521787 non-null int64\n",
      "dtypes: float64(2), int64(16), object(5)\n",
      "memory usage: 267.0+ MB\n"
     ]
    }
   ],
   "source": [
    "credit.info()"
   ]
  },
  {
   "cell_type": "code",
   "execution_count": null,
   "metadata": {},
   "outputs": [],
   "source": []
  },
  {
   "cell_type": "code",
   "execution_count": null,
   "metadata": {},
   "outputs": [],
   "source": []
  },
  {
   "cell_type": "markdown",
   "metadata": {},
   "source": [
    "處理空值-Start"
   ]
  },
  {
   "cell_type": "code",
   "execution_count": 7,
   "metadata": {},
   "outputs": [
    {
     "name": "stdout",
     "output_type": "stream",
     "text": [
      "12581\n",
      "1509206\n",
      "12581\n",
      "1509206\n"
     ]
    }
   ],
   "source": [
    "# drop(\"flbmk\", axis=1).drop(\"flg_3dsmk\", axis=1)\n",
    "# frame = credit.groupby(\"flbmk\")\n",
    "print(credit[\"flbmk\"].isna().sum())\n",
    "print(credit[\"flbmk\"].count())\n",
    "print(credit[\"flg_3dsmk\"].isna().sum())\n",
    "print(credit[\"flg_3dsmk\"].count())\n",
    "# groupby()"
   ]
  },
  {
   "cell_type": "code",
   "execution_count": 8,
   "metadata": {},
   "outputs": [
    {
     "data": {
      "text/plain": [
       "{'N': Int64Index([      0,       1,       2,       3,       4,       5,       6,\n",
       "                   7,       8,       9,\n",
       "             ...\n",
       "             1518236, 1518237, 1518238, 1518239, 1518240, 1518241, 1518242,\n",
       "             1518243, 1518245, 1518246],\n",
       "            dtype='int64', length=1504133),\n",
       " 'Y': Int64Index([    377,    1138,    1568,    1986,    2033,    2597,    2801,\n",
       "                3014,    3263,    3692,\n",
       "             ...\n",
       "             1515580, 1516002, 1516713, 1516922, 1517342, 1517413, 1517479,\n",
       "             1517513, 1517768, 1517839],\n",
       "            dtype='int64', length=5073)}"
      ]
     },
     "execution_count": 8,
     "metadata": {},
     "output_type": "execute_result"
    }
   ],
   "source": [
    "credit.groupby(\"flbmk\").groups"
   ]
  },
  {
   "cell_type": "code",
   "execution_count": 9,
   "metadata": {},
   "outputs": [
    {
     "data": {
      "text/plain": [
       "1509206"
      ]
     },
     "execution_count": 9,
     "metadata": {},
     "output_type": "execute_result"
    }
   ],
   "source": [
    "1504133+5073"
   ]
  },
  {
   "cell_type": "code",
   "execution_count": 10,
   "metadata": {},
   "outputs": [],
   "source": [
    "import copy"
   ]
  },
  {
   "cell_type": "code",
   "execution_count": 11,
   "metadata": {},
   "outputs": [],
   "source": [
    "temp = credit.copy()"
   ]
  },
  {
   "cell_type": "code",
   "execution_count": 12,
   "metadata": {},
   "outputs": [],
   "source": [
    "temp[\"flbmk\"] = temp[\"flbmk\"].fillna(\"NaN\")"
   ]
  },
  {
   "cell_type": "code",
   "execution_count": 13,
   "metadata": {},
   "outputs": [
    {
     "data": {
      "text/plain": [
       "{'N': Int64Index([      0,       1,       2,       3,       4,       5,       6,\n",
       "                   7,       8,       9,\n",
       "             ...\n",
       "             1518236, 1518237, 1518238, 1518239, 1518240, 1518241, 1518242,\n",
       "             1518243, 1518245, 1518246],\n",
       "            dtype='int64', length=1504133),\n",
       " 'NaN': Int64Index([   4827,    5906,    7136,    7523,   37299,  539837,  540047,\n",
       "              540050,  540052,  540055,\n",
       "             ...\n",
       "             1521777, 1521778, 1521779, 1521780, 1521781, 1521782, 1521783,\n",
       "             1521784, 1521785, 1521786],\n",
       "            dtype='int64', length=12581),\n",
       " 'Y': Int64Index([    377,    1138,    1568,    1986,    2033,    2597,    2801,\n",
       "                3014,    3263,    3692,\n",
       "             ...\n",
       "             1515580, 1516002, 1516713, 1516922, 1517342, 1517413, 1517479,\n",
       "             1517513, 1517768, 1517839],\n",
       "            dtype='int64', length=5073)}"
      ]
     },
     "execution_count": 13,
     "metadata": {},
     "output_type": "execute_result"
    }
   ],
   "source": [
    "temp.groupby(\"flbmk\").groups"
   ]
  },
  {
   "cell_type": "code",
   "execution_count": 14,
   "metadata": {},
   "outputs": [
    {
     "data": {
      "text/plain": [
       "{'N': Int64Index([      0,       1,       2,       3,       4,       5,       6,\n",
       "                   7,       8,       9,\n",
       "             ...\n",
       "             1518236, 1518237, 1518238, 1518239, 1518240, 1518241, 1518242,\n",
       "             1518243, 1518245, 1518246],\n",
       "            dtype='int64', length=1444867),\n",
       " 'NaN': Int64Index([   4827,    5906,    7136,    7523,   37299,  539837,  540047,\n",
       "              540050,  540052,  540055,\n",
       "             ...\n",
       "             1521777, 1521778, 1521779, 1521780, 1521781, 1521782, 1521783,\n",
       "             1521784, 1521785, 1521786],\n",
       "            dtype='int64', length=12581),\n",
       " 'Y': Int64Index([     48,      71,      79,     118,     132,     147,     157,\n",
       "                 171,     438,     471,\n",
       "             ...\n",
       "             1517935, 1517949, 1517974, 1517995, 1518006, 1518081, 1518083,\n",
       "             1518096, 1518151, 1518176],\n",
       "            dtype='int64', length=64339)}"
      ]
     },
     "execution_count": 14,
     "metadata": {},
     "output_type": "execute_result"
    }
   ],
   "source": [
    "temp[\"flg_3dsmk\"] = temp[\"flg_3dsmk\"].fillna(\"NaN\")\n",
    "temp.groupby(\"flg_3dsmk\").groups"
   ]
  },
  {
   "cell_type": "code",
   "execution_count": 15,
   "metadata": {},
   "outputs": [
    {
     "data": {
      "text/plain": [
       "12581"
      ]
     },
     "execution_count": 15,
     "metadata": {},
     "output_type": "execute_result"
    }
   ],
   "source": [
    "temp.groupby(\"flbmk\").get_group('NaN')[\"flbmk\"].count()"
   ]
  },
  {
   "cell_type": "code",
   "execution_count": 16,
   "metadata": {},
   "outputs": [
    {
     "data": {
      "text/html": [
       "<div>\n",
       "<style scoped>\n",
       "    .dataframe tbody tr th:only-of-type {\n",
       "        vertical-align: middle;\n",
       "    }\n",
       "\n",
       "    .dataframe tbody tr th {\n",
       "        vertical-align: top;\n",
       "    }\n",
       "\n",
       "    .dataframe thead th {\n",
       "        text-align: right;\n",
       "    }\n",
       "</style>\n",
       "<table border=\"1\" class=\"dataframe\">\n",
       "  <thead>\n",
       "    <tr style=\"text-align: right;\">\n",
       "      <th></th>\n",
       "      <th>acqic</th>\n",
       "      <th>bacno</th>\n",
       "      <th>cano</th>\n",
       "      <th>conam</th>\n",
       "      <th>contp</th>\n",
       "      <th>csmcu</th>\n",
       "      <th>ecfg</th>\n",
       "      <th>etymd</th>\n",
       "      <th>flbmk</th>\n",
       "      <th>flg_3dsmk</th>\n",
       "      <th>...</th>\n",
       "      <th>iterm</th>\n",
       "      <th>locdt</th>\n",
       "      <th>loctm</th>\n",
       "      <th>mcc</th>\n",
       "      <th>mchno</th>\n",
       "      <th>ovrlt</th>\n",
       "      <th>scity</th>\n",
       "      <th>stocn</th>\n",
       "      <th>stscd</th>\n",
       "      <th>txkey</th>\n",
       "    </tr>\n",
       "  </thead>\n",
       "  <tbody>\n",
       "    <tr>\n",
       "      <th>4827</th>\n",
       "      <td>6881</td>\n",
       "      <td>126303</td>\n",
       "      <td>109048</td>\n",
       "      <td>513.80</td>\n",
       "      <td>5</td>\n",
       "      <td>75</td>\n",
       "      <td>N</td>\n",
       "      <td>0</td>\n",
       "      <td>NaN</td>\n",
       "      <td>NaN</td>\n",
       "      <td>...</td>\n",
       "      <td>0</td>\n",
       "      <td>32</td>\n",
       "      <td>94554.0</td>\n",
       "      <td>457</td>\n",
       "      <td>86584</td>\n",
       "      <td>N</td>\n",
       "      <td>0</td>\n",
       "      <td>102</td>\n",
       "      <td>0</td>\n",
       "      <td>514184</td>\n",
       "    </tr>\n",
       "    <tr>\n",
       "      <th>5906</th>\n",
       "      <td>0</td>\n",
       "      <td>85832</td>\n",
       "      <td>151082</td>\n",
       "      <td>465.62</td>\n",
       "      <td>5</td>\n",
       "      <td>75</td>\n",
       "      <td>N</td>\n",
       "      <td>2</td>\n",
       "      <td>NaN</td>\n",
       "      <td>NaN</td>\n",
       "      <td>...</td>\n",
       "      <td>0</td>\n",
       "      <td>75</td>\n",
       "      <td>101125.0</td>\n",
       "      <td>451</td>\n",
       "      <td>0</td>\n",
       "      <td>N</td>\n",
       "      <td>5817</td>\n",
       "      <td>102</td>\n",
       "      <td>0</td>\n",
       "      <td>35813</td>\n",
       "    </tr>\n",
       "    <tr>\n",
       "      <th>7136</th>\n",
       "      <td>6769</td>\n",
       "      <td>79167</td>\n",
       "      <td>66200</td>\n",
       "      <td>1.38</td>\n",
       "      <td>5</td>\n",
       "      <td>75</td>\n",
       "      <td>Y</td>\n",
       "      <td>8</td>\n",
       "      <td>NaN</td>\n",
       "      <td>NaN</td>\n",
       "      <td>...</td>\n",
       "      <td>0</td>\n",
       "      <td>62</td>\n",
       "      <td>95159.0</td>\n",
       "      <td>373</td>\n",
       "      <td>79246</td>\n",
       "      <td>N</td>\n",
       "      <td>5817</td>\n",
       "      <td>102</td>\n",
       "      <td>0</td>\n",
       "      <td>174845</td>\n",
       "    </tr>\n",
       "    <tr>\n",
       "      <th>7523</th>\n",
       "      <td>0</td>\n",
       "      <td>108456</td>\n",
       "      <td>157230</td>\n",
       "      <td>465.62</td>\n",
       "      <td>5</td>\n",
       "      <td>75</td>\n",
       "      <td>N</td>\n",
       "      <td>2</td>\n",
       "      <td>NaN</td>\n",
       "      <td>NaN</td>\n",
       "      <td>...</td>\n",
       "      <td>0</td>\n",
       "      <td>58</td>\n",
       "      <td>101823.0</td>\n",
       "      <td>451</td>\n",
       "      <td>0</td>\n",
       "      <td>N</td>\n",
       "      <td>5817</td>\n",
       "      <td>102</td>\n",
       "      <td>0</td>\n",
       "      <td>27683</td>\n",
       "    </tr>\n",
       "    <tr>\n",
       "      <th>37299</th>\n",
       "      <td>0</td>\n",
       "      <td>137666</td>\n",
       "      <td>179303</td>\n",
       "      <td>465.62</td>\n",
       "      <td>5</td>\n",
       "      <td>75</td>\n",
       "      <td>N</td>\n",
       "      <td>2</td>\n",
       "      <td>NaN</td>\n",
       "      <td>NaN</td>\n",
       "      <td>...</td>\n",
       "      <td>0</td>\n",
       "      <td>8</td>\n",
       "      <td>104449.0</td>\n",
       "      <td>451</td>\n",
       "      <td>0</td>\n",
       "      <td>N</td>\n",
       "      <td>5817</td>\n",
       "      <td>102</td>\n",
       "      <td>0</td>\n",
       "      <td>3523</td>\n",
       "    </tr>\n",
       "  </tbody>\n",
       "</table>\n",
       "<p>5 rows × 23 columns</p>\n",
       "</div>"
      ],
      "text/plain": [
       "       acqic   bacno    cano   conam  contp  csmcu ecfg  etymd flbmk  \\\n",
       "4827    6881  126303  109048  513.80      5     75    N      0   NaN   \n",
       "5906       0   85832  151082  465.62      5     75    N      2   NaN   \n",
       "7136    6769   79167   66200    1.38      5     75    Y      8   NaN   \n",
       "7523       0  108456  157230  465.62      5     75    N      2   NaN   \n",
       "37299      0  137666  179303  465.62      5     75    N      2   NaN   \n",
       "\n",
       "      flg_3dsmk  ...  iterm  locdt     loctm  mcc  mchno  ovrlt  scity  stocn  \\\n",
       "4827        NaN  ...      0     32   94554.0  457  86584      N      0    102   \n",
       "5906        NaN  ...      0     75  101125.0  451      0      N   5817    102   \n",
       "7136        NaN  ...      0     62   95159.0  373  79246      N   5817    102   \n",
       "7523        NaN  ...      0     58  101823.0  451      0      N   5817    102   \n",
       "37299       NaN  ...      0      8  104449.0  451      0      N   5817    102   \n",
       "\n",
       "      stscd   txkey  \n",
       "4827      0  514184  \n",
       "5906      0   35813  \n",
       "7136      0  174845  \n",
       "7523      0   27683  \n",
       "37299     0    3523  \n",
       "\n",
       "[5 rows x 23 columns]"
      ]
     },
     "execution_count": 16,
     "metadata": {},
     "output_type": "execute_result"
    }
   ],
   "source": [
    "temp.groupby(\"flbmk\").get_group('NaN').head()"
   ]
  },
  {
   "cell_type": "code",
   "execution_count": 17,
   "metadata": {},
   "outputs": [
    {
     "data": {
      "text/plain": [
       "4827     NaN\n",
       "5906     NaN\n",
       "7136     NaN\n",
       "7523     NaN\n",
       "37299    NaN\n",
       "Name: flbmk, dtype: object"
      ]
     },
     "execution_count": 17,
     "metadata": {},
     "output_type": "execute_result"
    }
   ],
   "source": [
    "temp.groupby(\"flbmk\").get_group('NaN')[\"flbmk\"].head()"
   ]
  },
  {
   "cell_type": "code",
   "execution_count": 18,
   "metadata": {},
   "outputs": [
    {
     "data": {
      "text/plain": [
       "195"
      ]
     },
     "execution_count": 18,
     "metadata": {},
     "output_type": "execute_result"
    }
   ],
   "source": [
    "temp.groupby(\"flbmk\").get_group('NaN')[\"fraud_ind\"].sum()"
   ]
  },
  {
   "cell_type": "code",
   "execution_count": 19,
   "metadata": {},
   "outputs": [
    {
     "data": {
      "text/plain": [
       "4827     0\n",
       "5906     0\n",
       "7136     0\n",
       "7523     0\n",
       "37299    0\n",
       "Name: fraud_ind, dtype: int64"
      ]
     },
     "execution_count": 19,
     "metadata": {},
     "output_type": "execute_result"
    }
   ],
   "source": [
    "temp.groupby(\"flbmk\").get_group('NaN')[\"fraud_ind\"].head()"
   ]
  },
  {
   "cell_type": "code",
   "execution_count": 20,
   "metadata": {},
   "outputs": [],
   "source": [
    "credit_data = temp.dropna()"
   ]
  },
  {
   "cell_type": "code",
   "execution_count": 21,
   "metadata": {},
   "outputs": [
    {
     "data": {
      "text/plain": [
       "0"
      ]
     },
     "execution_count": 21,
     "metadata": {},
     "output_type": "execute_result"
    }
   ],
   "source": [
    "credit_data[\"flbmk\"].isna().sum()"
   ]
  },
  {
   "cell_type": "code",
   "execution_count": 22,
   "metadata": {},
   "outputs": [
    {
     "data": {
      "text/plain": [
       "0"
      ]
     },
     "execution_count": 22,
     "metadata": {},
     "output_type": "execute_result"
    }
   ],
   "source": [
    "credit_data = credit.dropna()\n",
    "credit_data[\"flbmk\"].isna().sum()"
   ]
  },
  {
   "cell_type": "code",
   "execution_count": 23,
   "metadata": {},
   "outputs": [
    {
     "name": "stdout",
     "output_type": "stream",
     "text": [
      "<class 'pandas.core.frame.DataFrame'>\n",
      "Int64Index: 1509206 entries, 0 to 1518246\n",
      "Data columns (total 23 columns):\n",
      "acqic        1509206 non-null int64\n",
      "bacno        1509206 non-null int64\n",
      "cano         1509206 non-null int64\n",
      "conam        1509206 non-null float64\n",
      "contp        1509206 non-null int64\n",
      "csmcu        1509206 non-null int64\n",
      "ecfg         1509206 non-null object\n",
      "etymd        1509206 non-null int64\n",
      "flbmk        1509206 non-null object\n",
      "flg_3dsmk    1509206 non-null object\n",
      "fraud_ind    1509206 non-null int64\n",
      "hcefg        1509206 non-null int64\n",
      "insfg        1509206 non-null object\n",
      "iterm        1509206 non-null int64\n",
      "locdt        1509206 non-null int64\n",
      "loctm        1509206 non-null float64\n",
      "mcc          1509206 non-null int64\n",
      "mchno        1509206 non-null int64\n",
      "ovrlt        1509206 non-null object\n",
      "scity        1509206 non-null int64\n",
      "stocn        1509206 non-null int64\n",
      "stscd        1509206 non-null int64\n",
      "txkey        1509206 non-null int64\n",
      "dtypes: float64(2), int64(16), object(5)\n",
      "memory usage: 276.3+ MB\n"
     ]
    }
   ],
   "source": [
    "credit_data.info()"
   ]
  },
  {
   "cell_type": "markdown",
   "metadata": {},
   "source": [
    "處理分類-Start"
   ]
  },
  {
   "cell_type": "code",
   "execution_count": 24,
   "metadata": {},
   "outputs": [],
   "source": [
    "from sklearn.preprocessing import LabelEncoder"
   ]
  },
  {
   "cell_type": "code",
   "execution_count": 25,
   "metadata": {},
   "outputs": [
    {
     "name": "stdout",
     "output_type": "stream",
     "text": [
      "0    N\n",
      "1    N\n",
      "2    N\n",
      "3    N\n",
      "4    N\n",
      "Name: ecfg, dtype: object\n"
     ]
    }
   ],
   "source": [
    "print(credit_data[\"ecfg\"].head())\n",
    "encoder_ecfg = LabelEncoder()\n",
    "credit_ecfg = credit_data[\"ecfg\"]\n",
    "credit_ecfg_encoded = encoder_ecfg.fit_transform(credit_ecfg)\n",
    "# print(encoder_ecfg.classes_)\n",
    "# print(type(credit_ecfg_encoded))\n",
    "# print(credit_ecfg_encoded)\n",
    "pd_ecfg = pd.DataFrame(credit_ecfg_encoded, columns=['ecfg'], dtype='int64')"
   ]
  },
  {
   "cell_type": "code",
   "execution_count": 26,
   "metadata": {},
   "outputs": [
    {
     "name": "stdout",
     "output_type": "stream",
     "text": [
      "['N' 'Y']\n",
      "<class 'numpy.ndarray'>\n",
      "[0 0 0 ... 0 0 0]\n"
     ]
    }
   ],
   "source": [
    "encoder_ovrlt = LabelEncoder()\n",
    "credit_ovrlt = credit_data[\"ovrlt\"]\n",
    "credit_ovrlt_encoded = encoder_ovrlt.fit_transform(credit_ovrlt)\n",
    "print(encoder_ovrlt.classes_)\n",
    "print(type(credit_ovrlt_encoded))\n",
    "print(credit_ovrlt_encoded)\n",
    "pd_ovrlt = pd.DataFrame(credit_ovrlt_encoded, columns=['ovrlt'], dtype='int64')"
   ]
  },
  {
   "cell_type": "code",
   "execution_count": 27,
   "metadata": {},
   "outputs": [
    {
     "name": "stdout",
     "output_type": "stream",
     "text": [
      "['N' 'Y']\n",
      "<class 'numpy.ndarray'>\n",
      "[0 0 0 ... 0 0 0]\n"
     ]
    }
   ],
   "source": [
    "encoder_insfg = LabelEncoder()\n",
    "credit_insfg  = credit_data[\"insfg\"]\n",
    "credit_insfg_encoded = encoder_insfg.fit_transform(credit_ovrlt)\n",
    "print(encoder_insfg.classes_)\n",
    "print(type(credit_insfg_encoded))\n",
    "print(credit_insfg_encoded)\n",
    "pd_insfg = pd.DataFrame(credit_insfg_encoded, columns=['insfg'], dtype='int64')"
   ]
  },
  {
   "cell_type": "code",
   "execution_count": 28,
   "metadata": {},
   "outputs": [
    {
     "data": {
      "text/html": [
       "<div>\n",
       "<style scoped>\n",
       "    .dataframe tbody tr th:only-of-type {\n",
       "        vertical-align: middle;\n",
       "    }\n",
       "\n",
       "    .dataframe tbody tr th {\n",
       "        vertical-align: top;\n",
       "    }\n",
       "\n",
       "    .dataframe thead th {\n",
       "        text-align: right;\n",
       "    }\n",
       "</style>\n",
       "<table border=\"1\" class=\"dataframe\">\n",
       "  <thead>\n",
       "    <tr style=\"text-align: right;\">\n",
       "      <th></th>\n",
       "      <th>flbmk</th>\n",
       "    </tr>\n",
       "  </thead>\n",
       "  <tbody>\n",
       "    <tr>\n",
       "      <th>0</th>\n",
       "      <td>0</td>\n",
       "    </tr>\n",
       "    <tr>\n",
       "      <th>1</th>\n",
       "      <td>0</td>\n",
       "    </tr>\n",
       "    <tr>\n",
       "      <th>2</th>\n",
       "      <td>0</td>\n",
       "    </tr>\n",
       "    <tr>\n",
       "      <th>3</th>\n",
       "      <td>0</td>\n",
       "    </tr>\n",
       "    <tr>\n",
       "      <th>4</th>\n",
       "      <td>0</td>\n",
       "    </tr>\n",
       "  </tbody>\n",
       "</table>\n",
       "</div>"
      ],
      "text/plain": [
       "   flbmk\n",
       "0      0\n",
       "1      0\n",
       "2      0\n",
       "3      0\n",
       "4      0"
      ]
     },
     "execution_count": 28,
     "metadata": {},
     "output_type": "execute_result"
    }
   ],
   "source": [
    "encoder_flbmk = LabelEncoder()\n",
    "credit_flbmk  = credit_data[\"flbmk\"]\n",
    "credit_flbmk_encoded = encoder_flbmk.fit_transform(credit_flbmk)\n",
    "pd_flbmk = pd.DataFrame(credit_flbmk_encoded, columns=['flbmk'], dtype='int64')\n",
    "pd_flbmk.head()"
   ]
  },
  {
   "cell_type": "code",
   "execution_count": 29,
   "metadata": {},
   "outputs": [
    {
     "data": {
      "text/html": [
       "<div>\n",
       "<style scoped>\n",
       "    .dataframe tbody tr th:only-of-type {\n",
       "        vertical-align: middle;\n",
       "    }\n",
       "\n",
       "    .dataframe tbody tr th {\n",
       "        vertical-align: top;\n",
       "    }\n",
       "\n",
       "    .dataframe thead th {\n",
       "        text-align: right;\n",
       "    }\n",
       "</style>\n",
       "<table border=\"1\" class=\"dataframe\">\n",
       "  <thead>\n",
       "    <tr style=\"text-align: right;\">\n",
       "      <th></th>\n",
       "      <th>flg_3dsmk</th>\n",
       "    </tr>\n",
       "  </thead>\n",
       "  <tbody>\n",
       "    <tr>\n",
       "      <th>0</th>\n",
       "      <td>0</td>\n",
       "    </tr>\n",
       "    <tr>\n",
       "      <th>1</th>\n",
       "      <td>0</td>\n",
       "    </tr>\n",
       "    <tr>\n",
       "      <th>2</th>\n",
       "      <td>0</td>\n",
       "    </tr>\n",
       "    <tr>\n",
       "      <th>3</th>\n",
       "      <td>0</td>\n",
       "    </tr>\n",
       "    <tr>\n",
       "      <th>4</th>\n",
       "      <td>0</td>\n",
       "    </tr>\n",
       "  </tbody>\n",
       "</table>\n",
       "</div>"
      ],
      "text/plain": [
       "   flg_3dsmk\n",
       "0          0\n",
       "1          0\n",
       "2          0\n",
       "3          0\n",
       "4          0"
      ]
     },
     "execution_count": 29,
     "metadata": {},
     "output_type": "execute_result"
    }
   ],
   "source": [
    "encoder_flg_3dsmk = LabelEncoder()\n",
    "credit_flg_3dsmk  = credit_data[\"flg_3dsmk\"]\n",
    "credit_flg_3dsmk_encoded = encoder_flg_3dsmk.fit_transform(credit_flg_3dsmk)\n",
    "pd_flg_3dsmk = pd.DataFrame(credit_flg_3dsmk_encoded, columns=['flg_3dsmk'], dtype='int64')\n",
    "pd_flg_3dsmk.head()"
   ]
  },
  {
   "cell_type": "markdown",
   "metadata": {},
   "source": [
    "處理分類-End"
   ]
  },
  {
   "cell_type": "code",
   "execution_count": 30,
   "metadata": {},
   "outputs": [
    {
     "name": "stdout",
     "output_type": "stream",
     "text": [
      "0\n",
      "0\n",
      "0\n",
      "0\n",
      "0\n"
     ]
    }
   ],
   "source": [
    "print(credit_data[\"ecfg\"].isna().sum())\n",
    "print(credit_data[\"ovrlt\"].isna().sum())\n",
    "print(credit_data[\"insfg\"].isna().sum())\n",
    "print(credit_data[\"flbmk\"].isna().sum())\n",
    "print(credit_data[\"flg_3dsmk\"].isna().sum())"
   ]
  },
  {
   "cell_type": "code",
   "execution_count": 31,
   "metadata": {},
   "outputs": [
    {
     "name": "stdout",
     "output_type": "stream",
     "text": [
      "1509206\n",
      "1509206\n",
      "1509206\n",
      "1509206\n",
      "1509206\n"
     ]
    }
   ],
   "source": [
    "print(credit_data[\"ecfg\"].count())\n",
    "print(credit_data[\"ovrlt\"].count())\n",
    "print(credit_data[\"insfg\"].count())\n",
    "print(credit_data[\"flbmk\"].count())\n",
    "print(credit_data[\"flg_3dsmk\"].count())"
   ]
  },
  {
   "cell_type": "code",
   "execution_count": 32,
   "metadata": {},
   "outputs": [
    {
     "data": {
      "text/plain": [
       "acqic        0\n",
       "bacno        0\n",
       "cano         0\n",
       "conam        0\n",
       "contp        0\n",
       "csmcu        0\n",
       "ecfg         0\n",
       "etymd        0\n",
       "flbmk        0\n",
       "flg_3dsmk    0\n",
       "fraud_ind    0\n",
       "hcefg        0\n",
       "insfg        0\n",
       "iterm        0\n",
       "locdt        0\n",
       "loctm        0\n",
       "mcc          0\n",
       "mchno        0\n",
       "ovrlt        0\n",
       "scity        0\n",
       "stocn        0\n",
       "stscd        0\n",
       "txkey        0\n",
       "dtype: int64"
      ]
     },
     "execution_count": 32,
     "metadata": {},
     "output_type": "execute_result"
    }
   ],
   "source": [
    "credit_data.isna().sum()"
   ]
  },
  {
   "cell_type": "code",
   "execution_count": 33,
   "metadata": {},
   "outputs": [
    {
     "name": "stdout",
     "output_type": "stream",
     "text": [
      "<class 'pandas.core.frame.DataFrame'>\n",
      "Int64Index: 1509206 entries, 0 to 1518246\n",
      "Data columns (total 23 columns):\n",
      "acqic        1509206 non-null int64\n",
      "bacno        1509206 non-null int64\n",
      "cano         1509206 non-null int64\n",
      "conam        1509206 non-null float64\n",
      "contp        1509206 non-null int64\n",
      "csmcu        1509206 non-null int64\n",
      "ecfg         1509206 non-null object\n",
      "etymd        1509206 non-null int64\n",
      "flbmk        1509206 non-null object\n",
      "flg_3dsmk    1509206 non-null object\n",
      "fraud_ind    1509206 non-null int64\n",
      "hcefg        1509206 non-null int64\n",
      "insfg        1509206 non-null object\n",
      "iterm        1509206 non-null int64\n",
      "locdt        1509206 non-null int64\n",
      "loctm        1509206 non-null float64\n",
      "mcc          1509206 non-null int64\n",
      "mchno        1509206 non-null int64\n",
      "ovrlt        1509206 non-null object\n",
      "scity        1509206 non-null int64\n",
      "stocn        1509206 non-null int64\n",
      "stscd        1509206 non-null int64\n",
      "txkey        1509206 non-null int64\n",
      "dtypes: float64(2), int64(16), object(5)\n",
      "memory usage: 276.3+ MB\n"
     ]
    }
   ],
   "source": [
    "credit_data.info()"
   ]
  },
  {
   "cell_type": "code",
   "execution_count": 34,
   "metadata": {},
   "outputs": [],
   "source": [
    "credit_data = credit_data.drop(\"ecfg\", axis=1).drop(\"ovrlt\", axis=1)\\\n",
    ".drop(\"insfg\", axis=1).drop(\"flbmk\", axis=1).drop(\"flg_3dsmk\", axis=1)"
   ]
  },
  {
   "cell_type": "code",
   "execution_count": 35,
   "metadata": {},
   "outputs": [
    {
     "name": "stdout",
     "output_type": "stream",
     "text": [
      "<class 'pandas.core.frame.DataFrame'>\n",
      "Int64Index: 1509206 entries, 0 to 1518246\n",
      "Data columns (total 18 columns):\n",
      "acqic        1509206 non-null int64\n",
      "bacno        1509206 non-null int64\n",
      "cano         1509206 non-null int64\n",
      "conam        1509206 non-null float64\n",
      "contp        1509206 non-null int64\n",
      "csmcu        1509206 non-null int64\n",
      "etymd        1509206 non-null int64\n",
      "fraud_ind    1509206 non-null int64\n",
      "hcefg        1509206 non-null int64\n",
      "iterm        1509206 non-null int64\n",
      "locdt        1509206 non-null int64\n",
      "loctm        1509206 non-null float64\n",
      "mcc          1509206 non-null int64\n",
      "mchno        1509206 non-null int64\n",
      "scity        1509206 non-null int64\n",
      "stocn        1509206 non-null int64\n",
      "stscd        1509206 non-null int64\n",
      "txkey        1509206 non-null int64\n",
      "dtypes: float64(2), int64(16)\n",
      "memory usage: 218.8 MB\n"
     ]
    }
   ],
   "source": [
    "credit_data.info()"
   ]
  },
  {
   "cell_type": "code",
   "execution_count": 36,
   "metadata": {},
   "outputs": [
    {
     "data": {
      "text/plain": [
       "acqic        0\n",
       "bacno        0\n",
       "cano         0\n",
       "conam        0\n",
       "contp        0\n",
       "csmcu        0\n",
       "etymd        0\n",
       "fraud_ind    0\n",
       "hcefg        0\n",
       "iterm        0\n",
       "locdt        0\n",
       "loctm        0\n",
       "mcc          0\n",
       "mchno        0\n",
       "scity        0\n",
       "stocn        0\n",
       "stscd        0\n",
       "txkey        0\n",
       "dtype: int64"
      ]
     },
     "execution_count": 36,
     "metadata": {},
     "output_type": "execute_result"
    }
   ],
   "source": [
    "credit_data.isna().sum()"
   ]
  },
  {
   "cell_type": "code",
   "execution_count": 37,
   "metadata": {},
   "outputs": [],
   "source": [
    "X = credit_data.drop([\"fraud_ind\"], axis=1)\n",
    "y = credit_data[\"fraud_ind\"]"
   ]
  },
  {
   "cell_type": "code",
   "execution_count": 38,
   "metadata": {},
   "outputs": [
    {
     "name": "stdout",
     "output_type": "stream",
     "text": [
      "<class 'pandas.core.frame.DataFrame'>\n",
      "Int64Index: 1509206 entries, 0 to 1518246\n",
      "Data columns (total 17 columns):\n",
      "acqic    1509206 non-null int64\n",
      "bacno    1509206 non-null int64\n",
      "cano     1509206 non-null int64\n",
      "conam    1509206 non-null float64\n",
      "contp    1509206 non-null int64\n",
      "csmcu    1509206 non-null int64\n",
      "etymd    1509206 non-null int64\n",
      "hcefg    1509206 non-null int64\n",
      "iterm    1509206 non-null int64\n",
      "locdt    1509206 non-null int64\n",
      "loctm    1509206 non-null float64\n",
      "mcc      1509206 non-null int64\n",
      "mchno    1509206 non-null int64\n",
      "scity    1509206 non-null int64\n",
      "stocn    1509206 non-null int64\n",
      "stscd    1509206 non-null int64\n",
      "txkey    1509206 non-null int64\n",
      "dtypes: float64(2), int64(15)\n",
      "memory usage: 207.3 MB\n"
     ]
    }
   ],
   "source": [
    "X.info()"
   ]
  },
  {
   "cell_type": "code",
   "execution_count": 39,
   "metadata": {},
   "outputs": [
    {
     "data": {
      "text/plain": [
       "acqic    0\n",
       "bacno    0\n",
       "cano     0\n",
       "conam    0\n",
       "contp    0\n",
       "csmcu    0\n",
       "etymd    0\n",
       "hcefg    0\n",
       "iterm    0\n",
       "locdt    0\n",
       "loctm    0\n",
       "mcc      0\n",
       "mchno    0\n",
       "scity    0\n",
       "stocn    0\n",
       "stscd    0\n",
       "txkey    0\n",
       "dtype: int64"
      ]
     },
     "execution_count": 39,
     "metadata": {},
     "output_type": "execute_result"
    }
   ],
   "source": [
    "X.isna().sum()"
   ]
  },
  {
   "cell_type": "code",
   "execution_count": 40,
   "metadata": {},
   "outputs": [
    {
     "data": {
      "text/plain": [
       "0"
      ]
     },
     "execution_count": 40,
     "metadata": {},
     "output_type": "execute_result"
    }
   ],
   "source": [
    "y.isna().sum()"
   ]
  },
  {
   "cell_type": "code",
   "execution_count": 41,
   "metadata": {},
   "outputs": [
    {
     "data": {
      "text/plain": [
       "1509206"
      ]
     },
     "execution_count": 41,
     "metadata": {},
     "output_type": "execute_result"
    }
   ],
   "source": [
    "y.count()"
   ]
  },
  {
   "cell_type": "code",
   "execution_count": 42,
   "metadata": {},
   "outputs": [
    {
     "data": {
      "text/html": [
       "<div>\n",
       "<style scoped>\n",
       "    .dataframe tbody tr th:only-of-type {\n",
       "        vertical-align: middle;\n",
       "    }\n",
       "\n",
       "    .dataframe tbody tr th {\n",
       "        vertical-align: top;\n",
       "    }\n",
       "\n",
       "    .dataframe thead th {\n",
       "        text-align: right;\n",
       "    }\n",
       "</style>\n",
       "<table border=\"1\" class=\"dataframe\">\n",
       "  <thead>\n",
       "    <tr style=\"text-align: right;\">\n",
       "      <th></th>\n",
       "      <th>acqic</th>\n",
       "      <th>bacno</th>\n",
       "      <th>cano</th>\n",
       "      <th>conam</th>\n",
       "      <th>contp</th>\n",
       "      <th>csmcu</th>\n",
       "      <th>etymd</th>\n",
       "      <th>hcefg</th>\n",
       "      <th>iterm</th>\n",
       "      <th>locdt</th>\n",
       "      <th>loctm</th>\n",
       "      <th>mcc</th>\n",
       "      <th>mchno</th>\n",
       "      <th>scity</th>\n",
       "      <th>stocn</th>\n",
       "      <th>stscd</th>\n",
       "      <th>txkey</th>\n",
       "    </tr>\n",
       "  </thead>\n",
       "  <tbody>\n",
       "    <tr>\n",
       "      <th>0</th>\n",
       "      <td>6881</td>\n",
       "      <td>113261</td>\n",
       "      <td>38038</td>\n",
       "      <td>513.80</td>\n",
       "      <td>5</td>\n",
       "      <td>0</td>\n",
       "      <td>0</td>\n",
       "      <td>5</td>\n",
       "      <td>0</td>\n",
       "      <td>33</td>\n",
       "      <td>172652.0</td>\n",
       "      <td>457</td>\n",
       "      <td>59333</td>\n",
       "      <td>0</td>\n",
       "      <td>102</td>\n",
       "      <td>0</td>\n",
       "      <td>516056</td>\n",
       "    </tr>\n",
       "    <tr>\n",
       "      <th>1</th>\n",
       "      <td>0</td>\n",
       "      <td>134508</td>\n",
       "      <td>45725</td>\n",
       "      <td>465.62</td>\n",
       "      <td>5</td>\n",
       "      <td>0</td>\n",
       "      <td>2</td>\n",
       "      <td>0</td>\n",
       "      <td>0</td>\n",
       "      <td>9</td>\n",
       "      <td>105114.0</td>\n",
       "      <td>451</td>\n",
       "      <td>0</td>\n",
       "      <td>5817</td>\n",
       "      <td>102</td>\n",
       "      <td>0</td>\n",
       "      <td>4376</td>\n",
       "    </tr>\n",
       "    <tr>\n",
       "      <th>2</th>\n",
       "      <td>6881</td>\n",
       "      <td>15408</td>\n",
       "      <td>188328</td>\n",
       "      <td>513.80</td>\n",
       "      <td>5</td>\n",
       "      <td>0</td>\n",
       "      <td>0</td>\n",
       "      <td>5</td>\n",
       "      <td>0</td>\n",
       "      <td>6</td>\n",
       "      <td>152458.0</td>\n",
       "      <td>457</td>\n",
       "      <td>59333</td>\n",
       "      <td>0</td>\n",
       "      <td>102</td>\n",
       "      <td>0</td>\n",
       "      <td>483434</td>\n",
       "    </tr>\n",
       "    <tr>\n",
       "      <th>3</th>\n",
       "      <td>6716</td>\n",
       "      <td>157159</td>\n",
       "      <td>29967</td>\n",
       "      <td>1016.11</td>\n",
       "      <td>5</td>\n",
       "      <td>62</td>\n",
       "      <td>5</td>\n",
       "      <td>5</td>\n",
       "      <td>0</td>\n",
       "      <td>5</td>\n",
       "      <td>172946.0</td>\n",
       "      <td>247</td>\n",
       "      <td>50436</td>\n",
       "      <td>3281</td>\n",
       "      <td>102</td>\n",
       "      <td>0</td>\n",
       "      <td>1407164</td>\n",
       "    </tr>\n",
       "    <tr>\n",
       "      <th>4</th>\n",
       "      <td>5975</td>\n",
       "      <td>105985</td>\n",
       "      <td>81305</td>\n",
       "      <td>713.66</td>\n",
       "      <td>5</td>\n",
       "      <td>62</td>\n",
       "      <td>4</td>\n",
       "      <td>5</td>\n",
       "      <td>0</td>\n",
       "      <td>6</td>\n",
       "      <td>182129.0</td>\n",
       "      <td>263</td>\n",
       "      <td>93775</td>\n",
       "      <td>5817</td>\n",
       "      <td>102</td>\n",
       "      <td>0</td>\n",
       "      <td>1051004</td>\n",
       "    </tr>\n",
       "  </tbody>\n",
       "</table>\n",
       "</div>"
      ],
      "text/plain": [
       "   acqic   bacno    cano    conam  contp  csmcu  etymd  hcefg  iterm  locdt  \\\n",
       "0   6881  113261   38038   513.80      5      0      0      5      0     33   \n",
       "1      0  134508   45725   465.62      5      0      2      0      0      9   \n",
       "2   6881   15408  188328   513.80      5      0      0      5      0      6   \n",
       "3   6716  157159   29967  1016.11      5     62      5      5      0      5   \n",
       "4   5975  105985   81305   713.66      5     62      4      5      0      6   \n",
       "\n",
       "      loctm  mcc  mchno  scity  stocn  stscd    txkey  \n",
       "0  172652.0  457  59333      0    102      0   516056  \n",
       "1  105114.0  451      0   5817    102      0     4376  \n",
       "2  152458.0  457  59333      0    102      0   483434  \n",
       "3  172946.0  247  50436   3281    102      0  1407164  \n",
       "4  182129.0  263  93775   5817    102      0  1051004  "
      ]
     },
     "execution_count": 42,
     "metadata": {},
     "output_type": "execute_result"
    }
   ],
   "source": [
    "X.head()"
   ]
  },
  {
   "cell_type": "code",
   "execution_count": 43,
   "metadata": {},
   "outputs": [
    {
     "data": {
      "text/html": [
       "<div>\n",
       "<style scoped>\n",
       "    .dataframe tbody tr th:only-of-type {\n",
       "        vertical-align: middle;\n",
       "    }\n",
       "\n",
       "    .dataframe tbody tr th {\n",
       "        vertical-align: top;\n",
       "    }\n",
       "\n",
       "    .dataframe thead th {\n",
       "        text-align: right;\n",
       "    }\n",
       "</style>\n",
       "<table border=\"1\" class=\"dataframe\">\n",
       "  <thead>\n",
       "    <tr style=\"text-align: right;\">\n",
       "      <th></th>\n",
       "      <th>ecfg</th>\n",
       "    </tr>\n",
       "  </thead>\n",
       "  <tbody>\n",
       "    <tr>\n",
       "      <th>0</th>\n",
       "      <td>0</td>\n",
       "    </tr>\n",
       "    <tr>\n",
       "      <th>1</th>\n",
       "      <td>0</td>\n",
       "    </tr>\n",
       "    <tr>\n",
       "      <th>2</th>\n",
       "      <td>0</td>\n",
       "    </tr>\n",
       "    <tr>\n",
       "      <th>3</th>\n",
       "      <td>0</td>\n",
       "    </tr>\n",
       "    <tr>\n",
       "      <th>4</th>\n",
       "      <td>0</td>\n",
       "    </tr>\n",
       "  </tbody>\n",
       "</table>\n",
       "</div>"
      ],
      "text/plain": [
       "   ecfg\n",
       "0     0\n",
       "1     0\n",
       "2     0\n",
       "3     0\n",
       "4     0"
      ]
     },
     "execution_count": 43,
     "metadata": {},
     "output_type": "execute_result"
    }
   ],
   "source": [
    "pd_ecfg.head()"
   ]
  },
  {
   "cell_type": "code",
   "execution_count": 51,
   "metadata": {},
   "outputs": [],
   "source": [
    "X= X.reset_index()"
   ]
  },
  {
   "cell_type": "code",
   "execution_count": 52,
   "metadata": {},
   "outputs": [],
   "source": [
    "# X_temp = pd.concat([pd_ecfg, pd_ovrlt, pd_insfg], axis=1)\n",
    "# X_temp = pd.concat([X, pd_ecfg], axis=1, copy =True)\n",
    "X_temp = pd.concat([X, pd_ecfg, pd_ovrlt, pd_insfg], axis=1)\n",
    "# X_temp = pd.concat([X], axis=1)"
   ]
  },
  {
   "cell_type": "code",
   "execution_count": 53,
   "metadata": {},
   "outputs": [
    {
     "data": {
      "text/plain": [
       "1513133"
      ]
     },
     "execution_count": 53,
     "metadata": {},
     "output_type": "execute_result"
    }
   ],
   "source": [
    "3927+1509206 "
   ]
  },
  {
   "cell_type": "code",
   "execution_count": 54,
   "metadata": {},
   "outputs": [
    {
     "name": "stdout",
     "output_type": "stream",
     "text": [
      "<class 'pandas.core.frame.DataFrame'>\n",
      "RangeIndex: 1509206 entries, 0 to 1509205\n",
      "Data columns (total 21 columns):\n",
      "index    1509206 non-null int64\n",
      "acqic    1509206 non-null int64\n",
      "bacno    1509206 non-null int64\n",
      "cano     1509206 non-null int64\n",
      "conam    1509206 non-null float64\n",
      "contp    1509206 non-null int64\n",
      "csmcu    1509206 non-null int64\n",
      "etymd    1509206 non-null int64\n",
      "hcefg    1509206 non-null int64\n",
      "iterm    1509206 non-null int64\n",
      "locdt    1509206 non-null int64\n",
      "loctm    1509206 non-null float64\n",
      "mcc      1509206 non-null int64\n",
      "mchno    1509206 non-null int64\n",
      "scity    1509206 non-null int64\n",
      "stocn    1509206 non-null int64\n",
      "stscd    1509206 non-null int64\n",
      "txkey    1509206 non-null int64\n",
      "ecfg     1509206 non-null int64\n",
      "ovrlt    1509206 non-null int64\n",
      "insfg    1509206 non-null int64\n",
      "dtypes: float64(2), int64(19)\n",
      "memory usage: 241.8 MB\n"
     ]
    }
   ],
   "source": [
    "X_temp.info()"
   ]
  },
  {
   "cell_type": "code",
   "execution_count": 55,
   "metadata": {},
   "outputs": [
    {
     "data": {
      "text/plain": [
       "index    0\n",
       "acqic    0\n",
       "bacno    0\n",
       "cano     0\n",
       "conam    0\n",
       "contp    0\n",
       "csmcu    0\n",
       "etymd    0\n",
       "hcefg    0\n",
       "iterm    0\n",
       "locdt    0\n",
       "loctm    0\n",
       "mcc      0\n",
       "mchno    0\n",
       "scity    0\n",
       "stocn    0\n",
       "stscd    0\n",
       "txkey    0\n",
       "ecfg     0\n",
       "ovrlt    0\n",
       "insfg    0\n",
       "dtype: int64"
      ]
     },
     "execution_count": 55,
     "metadata": {},
     "output_type": "execute_result"
    }
   ],
   "source": [
    "X_temp.isna().sum()"
   ]
  },
  {
   "cell_type": "code",
   "execution_count": 56,
   "metadata": {},
   "outputs": [],
   "source": [
    "X_train = X_temp\n",
    "y_train = y"
   ]
  },
  {
   "cell_type": "code",
   "execution_count": null,
   "metadata": {},
   "outputs": [
    {
     "name": "stderr",
     "output_type": "stream",
     "text": [
      "C:\\Users\\lee\\AppData\\Local\\conda\\conda\\envs\\shu\\lib\\site-packages\\sklearn\\ensemble\\forest.py:245: FutureWarning: The default value of n_estimators will change from 10 in version 0.20 to 100 in 0.22.\n",
      "  \"10 in version 0.20 to 100 in 0.22.\", FutureWarning)\n"
     ]
    }
   ],
   "source": [
    "from sklearn.linear_model import LogisticRegression\n",
    "from sklearn.ensemble import RandomForestClassifier\n",
    "from sklearn.ensemble import GradientBoostingClassifier\n",
    "from sklearn.ensemble import AdaBoostClassifier\n",
    "import xgboost as xgb\n",
    "# import lightgbm as lgb\n",
    "# clf = LogisticRegression(random_state=0, solver='lbfgs',\n",
    "#                          multi_class='multinomial').fit(X_train, y_train)\n",
    "clf = RandomForestClassifier().fit(X_train, y_train)\n",
    "# clf = GradientBoostingClassifier().fit(X_train, y_train)\n",
    "# clf = AdaBoostClassifier().fit(X_train, y_train)\n",
    "# clf = xgb.XGBClassifier().fit(X_train, y_train)"
   ]
  },
  {
   "cell_type": "code",
   "execution_count": null,
   "metadata": {},
   "outputs": [],
   "source": [
    "from sklearn.metrics import f1_score\n",
    "f1_score(y_train.to_numpy(), clf.predict(X_train), average='micro')"
   ]
  }
 ],
 "metadata": {
  "kernelspec": {
   "display_name": "Python 3",
   "language": "python",
   "name": "python3"
  },
  "language_info": {
   "codemirror_mode": {
    "name": "ipython",
    "version": 3
   },
   "file_extension": ".py",
   "mimetype": "text/x-python",
   "name": "python",
   "nbconvert_exporter": "python",
   "pygments_lexer": "ipython3",
   "version": "3.6.8"
  }
 },
 "nbformat": 4,
 "nbformat_minor": 2
}
