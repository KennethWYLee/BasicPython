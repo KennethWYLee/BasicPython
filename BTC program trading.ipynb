{
 "cells": [
  {
   "cell_type": "code",
   "execution_count": 1,
   "id": "ae82235d",
   "metadata": {},
   "outputs": [],
   "source": [
    "import pandas as pd\n",
    "import numpy as np"
   ]
  },
  {
   "cell_type": "code",
   "execution_count": 2,
   "id": "5d2cb2b2",
   "metadata": {
    "scrolled": true
   },
   "outputs": [
    {
     "data": {
      "text/html": [
       "<div>\n",
       "<style scoped>\n",
       "    .dataframe tbody tr th:only-of-type {\n",
       "        vertical-align: middle;\n",
       "    }\n",
       "\n",
       "    .dataframe tbody tr th {\n",
       "        vertical-align: top;\n",
       "    }\n",
       "\n",
       "    .dataframe thead th {\n",
       "        text-align: right;\n",
       "    }\n",
       "</style>\n",
       "<table border=\"1\" class=\"dataframe\">\n",
       "  <thead>\n",
       "    <tr style=\"text-align: right;\">\n",
       "      <th></th>\n",
       "      <th>Date</th>\n",
       "      <th>Open</th>\n",
       "      <th>High</th>\n",
       "      <th>Low</th>\n",
       "      <th>Close</th>\n",
       "      <th>Adj Close</th>\n",
       "      <th>Volume</th>\n",
       "    </tr>\n",
       "  </thead>\n",
       "  <tbody>\n",
       "    <tr>\n",
       "      <th>0</th>\n",
       "      <td>2014-09-17</td>\n",
       "      <td>465.864014</td>\n",
       "      <td>468.174011</td>\n",
       "      <td>452.421997</td>\n",
       "      <td>457.334015</td>\n",
       "      <td>457.334015</td>\n",
       "      <td>21056800.0</td>\n",
       "    </tr>\n",
       "    <tr>\n",
       "      <th>1</th>\n",
       "      <td>2014-09-18</td>\n",
       "      <td>456.859985</td>\n",
       "      <td>456.859985</td>\n",
       "      <td>413.104004</td>\n",
       "      <td>424.440002</td>\n",
       "      <td>424.440002</td>\n",
       "      <td>34483200.0</td>\n",
       "    </tr>\n",
       "    <tr>\n",
       "      <th>2</th>\n",
       "      <td>2014-09-19</td>\n",
       "      <td>424.102997</td>\n",
       "      <td>427.834991</td>\n",
       "      <td>384.532013</td>\n",
       "      <td>394.795990</td>\n",
       "      <td>394.795990</td>\n",
       "      <td>37919700.0</td>\n",
       "    </tr>\n",
       "    <tr>\n",
       "      <th>3</th>\n",
       "      <td>2014-09-20</td>\n",
       "      <td>394.673004</td>\n",
       "      <td>423.295990</td>\n",
       "      <td>389.882996</td>\n",
       "      <td>408.903992</td>\n",
       "      <td>408.903992</td>\n",
       "      <td>36863600.0</td>\n",
       "    </tr>\n",
       "    <tr>\n",
       "      <th>4</th>\n",
       "      <td>2014-09-21</td>\n",
       "      <td>408.084991</td>\n",
       "      <td>412.425995</td>\n",
       "      <td>393.181000</td>\n",
       "      <td>398.821014</td>\n",
       "      <td>398.821014</td>\n",
       "      <td>26580100.0</td>\n",
       "    </tr>\n",
       "  </tbody>\n",
       "</table>\n",
       "</div>"
      ],
      "text/plain": [
       "        Date        Open        High         Low       Close   Adj Close  \\\n",
       "0 2014-09-17  465.864014  468.174011  452.421997  457.334015  457.334015   \n",
       "1 2014-09-18  456.859985  456.859985  413.104004  424.440002  424.440002   \n",
       "2 2014-09-19  424.102997  427.834991  384.532013  394.795990  394.795990   \n",
       "3 2014-09-20  394.673004  423.295990  389.882996  408.903992  408.903992   \n",
       "4 2014-09-21  408.084991  412.425995  393.181000  398.821014  398.821014   \n",
       "\n",
       "       Volume  \n",
       "0  21056800.0  \n",
       "1  34483200.0  \n",
       "2  37919700.0  \n",
       "3  36863600.0  \n",
       "4  26580100.0  "
      ]
     },
     "execution_count": 2,
     "metadata": {},
     "output_type": "execute_result"
    }
   ],
   "source": [
    "pd.read_excel(\"BTC-USD.xlsx\").head()"
   ]
  },
  {
   "cell_type": "code",
   "execution_count": 3,
   "id": "9892b7b6",
   "metadata": {},
   "outputs": [],
   "source": [
    "BTC = pd.read_excel(\"BTC-USD.xlsx\")"
   ]
  },
  {
   "cell_type": "code",
   "execution_count": 4,
   "id": "b57b9712",
   "metadata": {},
   "outputs": [
    {
     "data": {
      "text/plain": [
       "(2439, 7)"
      ]
     },
     "execution_count": 4,
     "metadata": {},
     "output_type": "execute_result"
    }
   ],
   "source": [
    "BTC.shape"
   ]
  },
  {
   "cell_type": "code",
   "execution_count": 5,
   "id": "8e24bdbb",
   "metadata": {},
   "outputs": [
    {
     "name": "stdout",
     "output_type": "stream",
     "text": [
      "(2435, 7)\n"
     ]
    }
   ],
   "source": [
    "# print(pd.DataFrame(BTC).dropna())\n",
    "print(pd.DataFrame(BTC).dropna().shape)"
   ]
  },
  {
   "cell_type": "code",
   "execution_count": 6,
   "id": "17867967",
   "metadata": {},
   "outputs": [],
   "source": [
    "BTC_modify = pd.DataFrame(BTC).dropna()"
   ]
  },
  {
   "cell_type": "code",
   "execution_count": 12,
   "id": "82b962a6",
   "metadata": {
    "scrolled": true
   },
   "outputs": [
    {
     "data": {
      "text/plain": [
       "pandas.core.series.Series"
      ]
     },
     "execution_count": 12,
     "metadata": {},
     "output_type": "execute_result"
    }
   ],
   "source": [
    "type(BTC_modify[\"Open\"])"
   ]
  },
  {
   "cell_type": "code",
   "execution_count": 13,
   "id": "5f520e83",
   "metadata": {},
   "outputs": [
    {
     "data": {
      "text/plain": [
       "numpy.ndarray"
      ]
     },
     "execution_count": 13,
     "metadata": {},
     "output_type": "execute_result"
    }
   ],
   "source": [
    "type(BTC_modify[\"Open\"].to_numpy())"
   ]
  },
  {
   "cell_type": "code",
   "execution_count": 14,
   "id": "61987ca7",
   "metadata": {},
   "outputs": [
    {
     "data": {
      "text/plain": [
       "list"
      ]
     },
     "execution_count": 14,
     "metadata": {},
     "output_type": "execute_result"
    }
   ],
   "source": [
    "type(list(BTC_modify[\"Open\"]))"
   ]
  },
  {
   "cell_type": "code",
   "execution_count": 15,
   "id": "29199809",
   "metadata": {},
   "outputs": [
    {
     "data": {
      "text/plain": [
       "numpy.ndarray"
      ]
     },
     "execution_count": 15,
     "metadata": {},
     "output_type": "execute_result"
    }
   ],
   "source": [
    "type(np.asarray(list(BTC_modify[\"Open\"])))"
   ]
  },
  {
   "cell_type": "code",
   "execution_count": 17,
   "id": "2460248c",
   "metadata": {},
   "outputs": [
    {
     "name": "stdout",
     "output_type": "stream",
     "text": [
      "<class 'numpy.ndarray'>\n",
      "[       nan        nan        nan        nan 0.75713994 0.82405743\n",
      " 0.74760035 0.65836326 0.54588288 0.49377101 0.35077278 0.36414136\n",
      " 0.38707002 0.40513335 0.46303273 0.48876707 0.53752409 0.46416791\n",
      " 0.53907854 0.54501887 0.52148589 0.44289512 0.47016648 0.41358125\n",
      " 0.36529657 0.35974591 0.31079492 0.40826257 0.52998277 0.43547439]\n",
      "<class 'numpy.ndarray'>\n",
      "[          nan           nan           nan ... 43333.1203126 42137.6304688\n",
      " 40791.7976562]\n"
     ]
    }
   ],
   "source": [
    "import numpy\n",
    "import talib\n",
    "\n",
    "close = numpy.random.random(30)\n",
    "print(type(close))\n",
    "print(talib.SMA(close, timeperiod=5))\n",
    "\n",
    "close = BTC_modify[\"Close\"].to_numpy()\n",
    "print(type(close))\n",
    "print(talib.SMA(close, timeperiod=5))"
   ]
  },
  {
   "cell_type": "code",
   "execution_count": 18,
   "id": "a9d2146b",
   "metadata": {},
   "outputs": [
    {
     "data": {
      "text/plain": [
       "array([          nan,           nan,           nan, ..., 43333.1203126,\n",
       "       42137.6304688, 40791.7976562])"
      ]
     },
     "execution_count": 18,
     "metadata": {},
     "output_type": "execute_result"
    }
   ],
   "source": [
    "# note that all ndarrays must be the same length!\n",
    "inputs = {\n",
    "    'open': BTC_modify[\"Open\"].to_numpy(),\n",
    "    'high': BTC_modify[\"High\"].to_numpy(),\n",
    "    'low': BTC_modify[\"Low\"].to_numpy(),\n",
    "    'close': BTC_modify[\"Close\"].to_numpy(),\n",
    "    'volume': BTC_modify[\"Volume\"].to_numpy()\n",
    "}\n",
    "\n",
    "from talib.abstract import *\n",
    "\n",
    "SMA(inputs, timeperiod=5) # calculate on close prices by default\n",
    "# print(output)\n",
    "# print(len(list(output)))\n",
    "# print(pd.DataFrame(output).dropna())\n",
    "# print(pd.DataFrame(output).dropna().shape)"
   ]
  }
 ],
 "metadata": {
  "kernelspec": {
   "display_name": "Python 3",
   "language": "python",
   "name": "python3"
  },
  "language_info": {
   "codemirror_mode": {
    "name": "ipython",
    "version": 3
   },
   "file_extension": ".py",
   "mimetype": "text/x-python",
   "name": "python",
   "nbconvert_exporter": "python",
   "pygments_lexer": "ipython3",
   "version": "3.8.8"
  }
 },
 "nbformat": 4,
 "nbformat_minor": 5
}
