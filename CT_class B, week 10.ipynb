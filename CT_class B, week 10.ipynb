{
 "cells": [
  {
   "cell_type": "code",
   "execution_count": 1,
   "metadata": {},
   "outputs": [],
   "source": [
    "array2 = [[11, 12, 13], [21, 22, 23], [31, 32, 33]]"
   ]
  },
  {
   "cell_type": "code",
   "execution_count": 3,
   "metadata": {},
   "outputs": [],
   "source": [
    "import pandas as pd"
   ]
  },
  {
   "cell_type": "code",
   "execution_count": 4,
   "metadata": {},
   "outputs": [
    {
     "data": {
      "text/html": [
       "<div>\n",
       "<style scoped>\n",
       "    .dataframe tbody tr th:only-of-type {\n",
       "        vertical-align: middle;\n",
       "    }\n",
       "\n",
       "    .dataframe tbody tr th {\n",
       "        vertical-align: top;\n",
       "    }\n",
       "\n",
       "    .dataframe thead th {\n",
       "        text-align: right;\n",
       "    }\n",
       "</style>\n",
       "<table border=\"1\" class=\"dataframe\">\n",
       "  <thead>\n",
       "    <tr style=\"text-align: right;\">\n",
       "      <th></th>\n",
       "      <th>0</th>\n",
       "      <th>1</th>\n",
       "      <th>2</th>\n",
       "    </tr>\n",
       "  </thead>\n",
       "  <tbody>\n",
       "    <tr>\n",
       "      <th>0</th>\n",
       "      <td>11</td>\n",
       "      <td>12</td>\n",
       "      <td>13</td>\n",
       "    </tr>\n",
       "    <tr>\n",
       "      <th>1</th>\n",
       "      <td>21</td>\n",
       "      <td>22</td>\n",
       "      <td>23</td>\n",
       "    </tr>\n",
       "    <tr>\n",
       "      <th>2</th>\n",
       "      <td>31</td>\n",
       "      <td>32</td>\n",
       "      <td>33</td>\n",
       "    </tr>\n",
       "  </tbody>\n",
       "</table>\n",
       "</div>"
      ],
      "text/plain": [
       "    0   1   2\n",
       "0  11  12  13\n",
       "1  21  22  23\n",
       "2  31  32  33"
      ]
     },
     "execution_count": 4,
     "metadata": {},
     "output_type": "execute_result"
    }
   ],
   "source": [
    "pd.DataFrame(array2)"
   ]
  },
  {
   "cell_type": "code",
   "execution_count": 7,
   "metadata": {},
   "outputs": [
    {
     "data": {
      "text/plain": [
       "[[11, 12, 13], [21, 22, 23], [31, 32, 33]]"
      ]
     },
     "execution_count": 7,
     "metadata": {},
     "output_type": "execute_result"
    }
   ],
   "source": [
    "array2"
   ]
  },
  {
   "cell_type": "code",
   "execution_count": 6,
   "metadata": {},
   "outputs": [
    {
     "data": {
      "text/plain": [
       "[11, 12, 13]"
      ]
     },
     "execution_count": 6,
     "metadata": {},
     "output_type": "execute_result"
    }
   ],
   "source": [
    "array2[0]"
   ]
  },
  {
   "cell_type": "code",
   "execution_count": 9,
   "metadata": {},
   "outputs": [
    {
     "data": {
      "text/plain": [
       "36"
      ]
     },
     "execution_count": 9,
     "metadata": {},
     "output_type": "execute_result"
    }
   ],
   "source": [
    "sum(array2[0])"
   ]
  },
  {
   "cell_type": "code",
   "execution_count": 10,
   "metadata": {},
   "outputs": [
    {
     "name": "stdout",
     "output_type": "stream",
     "text": [
      "36\n"
     ]
    }
   ],
   "source": [
    "total = 0\n",
    "for i in range(0, len(array2[0])):\n",
    "    total = total + array2[0][i]\n",
    "print(total)"
   ]
  },
  {
   "cell_type": "code",
   "execution_count": 14,
   "metadata": {},
   "outputs": [
    {
     "data": {
      "text/html": [
       "<div>\n",
       "<style scoped>\n",
       "    .dataframe tbody tr th:only-of-type {\n",
       "        vertical-align: middle;\n",
       "    }\n",
       "\n",
       "    .dataframe tbody tr th {\n",
       "        vertical-align: top;\n",
       "    }\n",
       "\n",
       "    .dataframe thead th {\n",
       "        text-align: right;\n",
       "    }\n",
       "</style>\n",
       "<table border=\"1\" class=\"dataframe\">\n",
       "  <thead>\n",
       "    <tr style=\"text-align: right;\">\n",
       "      <th></th>\n",
       "      <th>0</th>\n",
       "      <th>1</th>\n",
       "      <th>2</th>\n",
       "    </tr>\n",
       "  </thead>\n",
       "  <tbody>\n",
       "    <tr>\n",
       "      <th>0</th>\n",
       "      <td>11</td>\n",
       "      <td>12</td>\n",
       "      <td>13</td>\n",
       "    </tr>\n",
       "    <tr>\n",
       "      <th>1</th>\n",
       "      <td>21</td>\n",
       "      <td>22</td>\n",
       "      <td>23</td>\n",
       "    </tr>\n",
       "    <tr>\n",
       "      <th>2</th>\n",
       "      <td>31</td>\n",
       "      <td>32</td>\n",
       "      <td>33</td>\n",
       "    </tr>\n",
       "  </tbody>\n",
       "</table>\n",
       "</div>"
      ],
      "text/plain": [
       "    0   1   2\n",
       "0  11  12  13\n",
       "1  21  22  23\n",
       "2  31  32  33"
      ]
     },
     "execution_count": 14,
     "metadata": {},
     "output_type": "execute_result"
    }
   ],
   "source": [
    "pd.DataFrame(array2)"
   ]
  },
  {
   "cell_type": "code",
   "execution_count": 13,
   "metadata": {},
   "outputs": [
    {
     "name": "stdout",
     "output_type": "stream",
     "text": [
      "[36, 66, 96]\n"
     ]
    }
   ],
   "source": [
    "total_row = []\n",
    "for i in range(0, len(array2)):\n",
    "    row = 0\n",
    "    for j in range(0, len(array2[0])):\n",
    "        row = row + array2[i][j]\n",
    "    total_row.append(row)\n",
    "print(total_row)"
   ]
  },
  {
   "cell_type": "code",
   "execution_count": 15,
   "metadata": {},
   "outputs": [
    {
     "data": {
      "text/plain": [
       "198"
      ]
     },
     "execution_count": 15,
     "metadata": {},
     "output_type": "execute_result"
    }
   ],
   "source": [
    "sum(total_row)"
   ]
  },
  {
   "cell_type": "code",
   "execution_count": 16,
   "metadata": {},
   "outputs": [
    {
     "data": {
      "text/plain": [
       "96"
      ]
     },
     "execution_count": 16,
     "metadata": {},
     "output_type": "execute_result"
    }
   ],
   "source": [
    "max(total_row)"
   ]
  },
  {
   "cell_type": "code",
   "execution_count": 18,
   "metadata": {},
   "outputs": [
    {
     "name": "stdout",
     "output_type": "stream",
     "text": [
      "2 96\n"
     ]
    }
   ],
   "source": [
    "for i in range(0, len(total_row)):\n",
    "    if(total_row[i]==max(total_row)):\n",
    "        print(i, total_row[i])"
   ]
  },
  {
   "cell_type": "code",
   "execution_count": 19,
   "metadata": {},
   "outputs": [
    {
     "name": "stdout",
     "output_type": "stream",
     "text": [
      "2 96\n"
     ]
    }
   ],
   "source": [
    "total_row = []\n",
    "for i in range(0, len(array2)):\n",
    "    row = 0\n",
    "    for j in range(0, len(array2[0])):\n",
    "        row = row + array2[i][j]\n",
    "    total_row.append(row)\n",
    "\n",
    "for i in range(0, len(total_row)):\n",
    "    if(total_row[i]==max(total_row)):\n",
    "        print(i, total_row[i])    "
   ]
  },
  {
   "cell_type": "code",
   "execution_count": 21,
   "metadata": {},
   "outputs": [
    {
     "data": {
      "text/html": [
       "<div>\n",
       "<style scoped>\n",
       "    .dataframe tbody tr th:only-of-type {\n",
       "        vertical-align: middle;\n",
       "    }\n",
       "\n",
       "    .dataframe tbody tr th {\n",
       "        vertical-align: top;\n",
       "    }\n",
       "\n",
       "    .dataframe thead th {\n",
       "        text-align: right;\n",
       "    }\n",
       "</style>\n",
       "<table border=\"1\" class=\"dataframe\">\n",
       "  <thead>\n",
       "    <tr style=\"text-align: right;\">\n",
       "      <th></th>\n",
       "      <th>0</th>\n",
       "      <th>1</th>\n",
       "      <th>2</th>\n",
       "    </tr>\n",
       "  </thead>\n",
       "  <tbody>\n",
       "    <tr>\n",
       "      <th>0</th>\n",
       "      <td>11</td>\n",
       "      <td>12</td>\n",
       "      <td>13</td>\n",
       "    </tr>\n",
       "    <tr>\n",
       "      <th>1</th>\n",
       "      <td>21</td>\n",
       "      <td>22</td>\n",
       "      <td>23</td>\n",
       "    </tr>\n",
       "    <tr>\n",
       "      <th>2</th>\n",
       "      <td>31</td>\n",
       "      <td>32</td>\n",
       "      <td>33</td>\n",
       "    </tr>\n",
       "  </tbody>\n",
       "</table>\n",
       "</div>"
      ],
      "text/plain": [
       "    0   1   2\n",
       "0  11  12  13\n",
       "1  21  22  23\n",
       "2  31  32  33"
      ]
     },
     "execution_count": 21,
     "metadata": {},
     "output_type": "execute_result"
    }
   ],
   "source": [
    "pd.DataFrame(array2)"
   ]
  },
  {
   "cell_type": "code",
   "execution_count": 23,
   "metadata": {},
   "outputs": [
    {
     "name": "stdout",
     "output_type": "stream",
     "text": [
      "[63, 66, 69]\n",
      "2 69\n"
     ]
    }
   ],
   "source": [
    "total_column = []\n",
    "for j in range(0, len(array2)):\n",
    "    column = 0\n",
    "    for i in range(0, len(array2[0])):\n",
    "        column = column + array2[i][j]\n",
    "    total_column.append(column)\n",
    "print(total_column)\n",
    "\n",
    "for i in range(0, len(total_column)):\n",
    "    if(total_column[i]==max(total_column)):\n",
    "        print(i, total_column[i])    "
   ]
  },
  {
   "cell_type": "code",
   "execution_count": null,
   "metadata": {},
   "outputs": [],
   "source": []
  },
  {
   "cell_type": "code",
   "execution_count": 25,
   "metadata": {},
   "outputs": [
    {
     "data": {
      "text/plain": [
       "[1, 2, 3, 4, 4, 6, 9]"
      ]
     },
     "execution_count": 25,
     "metadata": {},
     "output_type": "execute_result"
    }
   ],
   "source": [
    "array2 = [1, 3 ,4 ,6,9, 2, 4]\n",
    "array2.sort()\n",
    "array2"
   ]
  },
  {
   "cell_type": "code",
   "execution_count": 37,
   "metadata": {},
   "outputs": [
    {
     "name": "stdout",
     "output_type": "stream",
     "text": [
      "4 4\n"
     ]
    }
   ],
   "source": [
    "array2 = [8, 3 ,7 ,6, 9, 1, 4]\n",
    "for i in range(0, len(array2)):\n",
    "    min_value = 9999\n",
    "    max_value = -9999\n",
    "    if(array2[i]<min_value):\n",
    "        min_value = array2[i]\n",
    "    if(array2[i]>max_value):\n",
    "        max_value = array2[i]\n",
    "print(min_value, max_value)"
   ]
  },
  {
   "cell_type": "code",
   "execution_count": 41,
   "metadata": {},
   "outputs": [
    {
     "name": "stdout",
     "output_type": "stream",
     "text": [
      "min 8\n",
      "max 8\n",
      "min 3\n",
      "max 9\n",
      "min 1\n",
      "1 9\n"
     ]
    }
   ],
   "source": [
    "min_value = 9999\n",
    "max_value = -9999\n",
    "array2 = [8, 3 ,7 ,6, 9, 1, 4]\n",
    "for i in range(0, len(array2)):\n",
    "    if(array2[i]<min_value):\n",
    "        min_value = array2[i]\n",
    "        print(\"min\", min_value)\n",
    "    if(array2[i]>max_value):\n",
    "        max_value = array2[i]\n",
    "        print(\"max\", max_value)\n",
    "print(min_value, max_value)"
   ]
  },
  {
   "cell_type": "code",
   "execution_count": 44,
   "metadata": {},
   "outputs": [
    {
     "name": "stdout",
     "output_type": "stream",
     "text": [
      "[8, 3, 7, 6, 9, 1, 4]\n",
      "[8, 3, 7, 6, 1, 9, 4]\n"
     ]
    }
   ],
   "source": [
    "min_value = 9999\n",
    "min_index = -1\n",
    "max_value = -9999\n",
    "max_index = -1\n",
    "array2 = [8, 3 ,7 ,6, 9, 1, 4]\n",
    "print(array2)\n",
    "for i in range(0, len(array2)):\n",
    "    if(array2[i]<min_value):\n",
    "        min_value = array2[i]\n",
    "        min_index = i\n",
    "    if(array2[i]>max_value):\n",
    "        max_value = array2[i]\n",
    "        max_index = i\n",
    "\n",
    "temp = 0\n",
    "temp = array2[min_index] \n",
    "array2[min_index] = array2[max_index]\n",
    "array2[max_index] = temp\n",
    "\n",
    "print(array2)"
   ]
  },
  {
   "cell_type": "code",
   "execution_count": 46,
   "metadata": {},
   "outputs": [
    {
     "name": "stdout",
     "output_type": "stream",
     "text": [
      "[8, 3, 7, 6, 9, 1, 4]\n",
      "[1, 3, 7, 6, 9, 8, 4]\n"
     ]
    }
   ],
   "source": [
    "min_value = 9999\n",
    "min_index = -1\n",
    "# max_value = -9999\n",
    "# max_index = -1\n",
    "array2 = [8, 3 ,7 ,6, 9, 1, 4]\n",
    "print(array2)\n",
    "for i in range(0, len(array2)):\n",
    "    if(array2[i]<min_value):\n",
    "        min_value = array2[i]\n",
    "        min_index = i\n",
    "#     if(array2[i]>max_value):\n",
    "#         max_value = array2[i]\n",
    "#         max_index = i\n",
    "\n",
    "temp = 0\n",
    "if(array2[0]>min_value):\n",
    "    temp = array2[min_index] \n",
    "    array2[min_index] = array2[0]\n",
    "    array2[0] = temp\n",
    "\n",
    "print(array2)"
   ]
  },
  {
   "cell_type": "code",
   "execution_count": 47,
   "metadata": {},
   "outputs": [
    {
     "name": "stdout",
     "output_type": "stream",
     "text": [
      "[8, 3, 7, 6, 9, 1, 4]\n",
      "[1, 3, 7, 6, 9, 8, 4]\n",
      "[3, 1, 7, 6, 9, 8, 4]\n",
      "[3, 7, 1, 6, 9, 8, 4]\n",
      "[3, 7, 6, 1, 9, 8, 4]\n",
      "[3, 7, 6, 9, 1, 8, 4]\n",
      "[3, 7, 6, 9, 8, 1, 4]\n",
      "[3, 7, 6, 9, 8, 4, 1]\n"
     ]
    }
   ],
   "source": [
    "array2 = [8, 3 ,7 ,6, 9, 1, 4]\n",
    "print(array2)\n",
    "\n",
    "for j in range(0, len(array2)):\n",
    "    min_value = 9999\n",
    "    min_index = -1\n",
    "    # max_value = -9999\n",
    "    # max_index = -1\n",
    "    for i in range(0, len(array2)):\n",
    "        if(array2[i]<min_value):\n",
    "            min_value = array2[i]\n",
    "            min_index = i\n",
    "    #     if(array2[i]>max_value):\n",
    "    #         max_value = array2[i]\n",
    "    #         max_index = i\n",
    "\n",
    "    temp = 0\n",
    "    if(array2[j]>min_value):\n",
    "        temp = array2[min_index] \n",
    "        array2[min_index] = array2[j]\n",
    "        array2[j] = temp\n",
    "\n",
    "    print(array2)"
   ]
  }
 ],
 "metadata": {
  "kernelspec": {
   "display_name": "Python 3",
   "language": "python",
   "name": "python3"
  },
  "language_info": {
   "codemirror_mode": {
    "name": "ipython",
    "version": 3
   },
   "file_extension": ".py",
   "mimetype": "text/x-python",
   "name": "python",
   "nbconvert_exporter": "python",
   "pygments_lexer": "ipython3",
   "version": "3.7.3"
  }
 },
 "nbformat": 4,
 "nbformat_minor": 2
}
