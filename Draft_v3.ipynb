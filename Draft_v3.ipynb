{
 "cells": [
  {
   "cell_type": "code",
   "execution_count": 1,
   "metadata": {},
   "outputs": [],
   "source": [
    "import pandas as pd\n",
    "import numpy as np"
   ]
  },
  {
   "cell_type": "code",
   "execution_count": 2,
   "metadata": {},
   "outputs": [
    {
     "data": {
      "text/plain": [
       "'0.24.1'"
      ]
     },
     "execution_count": 2,
     "metadata": {},
     "output_type": "execute_result"
    }
   ],
   "source": [
    "pd.__version__"
   ]
  },
  {
   "cell_type": "code",
   "execution_count": 3,
   "metadata": {},
   "outputs": [
    {
     "data": {
      "text/plain": [
       "'0.21.3'"
      ]
     },
     "execution_count": 3,
     "metadata": {},
     "output_type": "execute_result"
    }
   ],
   "source": [
    "import sklearn\n",
    "sklearn.__version__"
   ]
  },
  {
   "cell_type": "code",
   "execution_count": 4,
   "metadata": {},
   "outputs": [],
   "source": [
    "credit = pd.read_csv(\"train.csv\")"
   ]
  },
  {
   "cell_type": "code",
   "execution_count": 5,
   "metadata": {},
   "outputs": [
    {
     "data": {
      "text/html": [
       "<div>\n",
       "<style scoped>\n",
       "    .dataframe tbody tr th:only-of-type {\n",
       "        vertical-align: middle;\n",
       "    }\n",
       "\n",
       "    .dataframe tbody tr th {\n",
       "        vertical-align: top;\n",
       "    }\n",
       "\n",
       "    .dataframe thead th {\n",
       "        text-align: right;\n",
       "    }\n",
       "</style>\n",
       "<table border=\"1\" class=\"dataframe\">\n",
       "  <thead>\n",
       "    <tr style=\"text-align: right;\">\n",
       "      <th></th>\n",
       "      <th>acqic</th>\n",
       "      <th>bacno</th>\n",
       "      <th>cano</th>\n",
       "      <th>conam</th>\n",
       "      <th>contp</th>\n",
       "      <th>csmcu</th>\n",
       "      <th>ecfg</th>\n",
       "      <th>etymd</th>\n",
       "      <th>flbmk</th>\n",
       "      <th>flg_3dsmk</th>\n",
       "      <th>...</th>\n",
       "      <th>iterm</th>\n",
       "      <th>locdt</th>\n",
       "      <th>loctm</th>\n",
       "      <th>mcc</th>\n",
       "      <th>mchno</th>\n",
       "      <th>ovrlt</th>\n",
       "      <th>scity</th>\n",
       "      <th>stocn</th>\n",
       "      <th>stscd</th>\n",
       "      <th>txkey</th>\n",
       "    </tr>\n",
       "  </thead>\n",
       "  <tbody>\n",
       "    <tr>\n",
       "      <th>0</th>\n",
       "      <td>6881</td>\n",
       "      <td>113261</td>\n",
       "      <td>38038</td>\n",
       "      <td>513.80</td>\n",
       "      <td>5</td>\n",
       "      <td>0</td>\n",
       "      <td>N</td>\n",
       "      <td>0</td>\n",
       "      <td>N</td>\n",
       "      <td>N</td>\n",
       "      <td>...</td>\n",
       "      <td>0</td>\n",
       "      <td>33</td>\n",
       "      <td>172652.0</td>\n",
       "      <td>457</td>\n",
       "      <td>59333</td>\n",
       "      <td>N</td>\n",
       "      <td>0</td>\n",
       "      <td>102</td>\n",
       "      <td>0</td>\n",
       "      <td>516056</td>\n",
       "    </tr>\n",
       "    <tr>\n",
       "      <th>1</th>\n",
       "      <td>0</td>\n",
       "      <td>134508</td>\n",
       "      <td>45725</td>\n",
       "      <td>465.62</td>\n",
       "      <td>5</td>\n",
       "      <td>0</td>\n",
       "      <td>N</td>\n",
       "      <td>2</td>\n",
       "      <td>N</td>\n",
       "      <td>N</td>\n",
       "      <td>...</td>\n",
       "      <td>0</td>\n",
       "      <td>9</td>\n",
       "      <td>105114.0</td>\n",
       "      <td>451</td>\n",
       "      <td>0</td>\n",
       "      <td>N</td>\n",
       "      <td>5817</td>\n",
       "      <td>102</td>\n",
       "      <td>0</td>\n",
       "      <td>4376</td>\n",
       "    </tr>\n",
       "    <tr>\n",
       "      <th>2</th>\n",
       "      <td>6881</td>\n",
       "      <td>15408</td>\n",
       "      <td>188328</td>\n",
       "      <td>513.80</td>\n",
       "      <td>5</td>\n",
       "      <td>0</td>\n",
       "      <td>N</td>\n",
       "      <td>0</td>\n",
       "      <td>N</td>\n",
       "      <td>N</td>\n",
       "      <td>...</td>\n",
       "      <td>0</td>\n",
       "      <td>6</td>\n",
       "      <td>152458.0</td>\n",
       "      <td>457</td>\n",
       "      <td>59333</td>\n",
       "      <td>N</td>\n",
       "      <td>0</td>\n",
       "      <td>102</td>\n",
       "      <td>0</td>\n",
       "      <td>483434</td>\n",
       "    </tr>\n",
       "    <tr>\n",
       "      <th>3</th>\n",
       "      <td>6716</td>\n",
       "      <td>157159</td>\n",
       "      <td>29967</td>\n",
       "      <td>1016.11</td>\n",
       "      <td>5</td>\n",
       "      <td>62</td>\n",
       "      <td>N</td>\n",
       "      <td>5</td>\n",
       "      <td>N</td>\n",
       "      <td>N</td>\n",
       "      <td>...</td>\n",
       "      <td>0</td>\n",
       "      <td>5</td>\n",
       "      <td>172946.0</td>\n",
       "      <td>247</td>\n",
       "      <td>50436</td>\n",
       "      <td>N</td>\n",
       "      <td>3281</td>\n",
       "      <td>102</td>\n",
       "      <td>0</td>\n",
       "      <td>1407164</td>\n",
       "    </tr>\n",
       "    <tr>\n",
       "      <th>4</th>\n",
       "      <td>5975</td>\n",
       "      <td>105985</td>\n",
       "      <td>81305</td>\n",
       "      <td>713.66</td>\n",
       "      <td>5</td>\n",
       "      <td>62</td>\n",
       "      <td>N</td>\n",
       "      <td>4</td>\n",
       "      <td>N</td>\n",
       "      <td>N</td>\n",
       "      <td>...</td>\n",
       "      <td>0</td>\n",
       "      <td>6</td>\n",
       "      <td>182129.0</td>\n",
       "      <td>263</td>\n",
       "      <td>93775</td>\n",
       "      <td>N</td>\n",
       "      <td>5817</td>\n",
       "      <td>102</td>\n",
       "      <td>0</td>\n",
       "      <td>1051004</td>\n",
       "    </tr>\n",
       "  </tbody>\n",
       "</table>\n",
       "<p>5 rows × 23 columns</p>\n",
       "</div>"
      ],
      "text/plain": [
       "   acqic   bacno    cano    conam  contp  csmcu ecfg  etymd flbmk flg_3dsmk  \\\n",
       "0   6881  113261   38038   513.80      5      0    N      0     N         N   \n",
       "1      0  134508   45725   465.62      5      0    N      2     N         N   \n",
       "2   6881   15408  188328   513.80      5      0    N      0     N         N   \n",
       "3   6716  157159   29967  1016.11      5     62    N      5     N         N   \n",
       "4   5975  105985   81305   713.66      5     62    N      4     N         N   \n",
       "\n",
       "   ...  iterm  locdt     loctm  mcc  mchno  ovrlt  scity  stocn stscd    txkey  \n",
       "0  ...      0     33  172652.0  457  59333      N      0    102     0   516056  \n",
       "1  ...      0      9  105114.0  451      0      N   5817    102     0     4376  \n",
       "2  ...      0      6  152458.0  457  59333      N      0    102     0   483434  \n",
       "3  ...      0      5  172946.0  247  50436      N   3281    102     0  1407164  \n",
       "4  ...      0      6  182129.0  263  93775      N   5817    102     0  1051004  \n",
       "\n",
       "[5 rows x 23 columns]"
      ]
     },
     "execution_count": 5,
     "metadata": {},
     "output_type": "execute_result"
    }
   ],
   "source": [
    "credit.head()"
   ]
  },
  {
   "cell_type": "code",
   "execution_count": 6,
   "metadata": {},
   "outputs": [
    {
     "name": "stdout",
     "output_type": "stream",
     "text": [
      "<class 'pandas.core.frame.DataFrame'>\n",
      "RangeIndex: 1521787 entries, 0 to 1521786\n",
      "Data columns (total 23 columns):\n",
      "acqic        1521787 non-null int64\n",
      "bacno        1521787 non-null int64\n",
      "cano         1521787 non-null int64\n",
      "conam        1521787 non-null float64\n",
      "contp        1521787 non-null int64\n",
      "csmcu        1521787 non-null int64\n",
      "ecfg         1521787 non-null object\n",
      "etymd        1521787 non-null int64\n",
      "flbmk        1509206 non-null object\n",
      "flg_3dsmk    1509206 non-null object\n",
      "fraud_ind    1521787 non-null int64\n",
      "hcefg        1521787 non-null int64\n",
      "insfg        1521787 non-null object\n",
      "iterm        1521787 non-null int64\n",
      "locdt        1521787 non-null int64\n",
      "loctm        1521787 non-null float64\n",
      "mcc          1521787 non-null int64\n",
      "mchno        1521787 non-null int64\n",
      "ovrlt        1521787 non-null object\n",
      "scity        1521787 non-null int64\n",
      "stocn        1521787 non-null int64\n",
      "stscd        1521787 non-null int64\n",
      "txkey        1521787 non-null int64\n",
      "dtypes: float64(2), int64(16), object(5)\n",
      "memory usage: 267.0+ MB\n"
     ]
    }
   ],
   "source": [
    "credit.info()"
   ]
  },
  {
   "cell_type": "code",
   "execution_count": null,
   "metadata": {},
   "outputs": [],
   "source": []
  },
  {
   "cell_type": "code",
   "execution_count": null,
   "metadata": {},
   "outputs": [],
   "source": []
  },
  {
   "cell_type": "markdown",
   "metadata": {},
   "source": [
    "處理空值-Start"
   ]
  },
  {
   "cell_type": "code",
   "execution_count": 7,
   "metadata": {},
   "outputs": [
    {
     "name": "stdout",
     "output_type": "stream",
     "text": [
      "12581\n",
      "1509206\n",
      "12581\n",
      "1509206\n"
     ]
    }
   ],
   "source": [
    "# drop(\"flbmk\", axis=1).drop(\"flg_3dsmk\", axis=1)\n",
    "# frame = credit.groupby(\"flbmk\")\n",
    "print(credit[\"flbmk\"].isna().sum())\n",
    "print(credit[\"flbmk\"].count())\n",
    "print(credit[\"flg_3dsmk\"].isna().sum())\n",
    "print(credit[\"flg_3dsmk\"].count())\n",
    "# groupby()"
   ]
  },
  {
   "cell_type": "code",
   "execution_count": 8,
   "metadata": {},
   "outputs": [
    {
     "data": {
      "text/plain": [
       "{'N': Int64Index([      0,       1,       2,       3,       4,       5,       6,\n",
       "                   7,       8,       9,\n",
       "             ...\n",
       "             1518236, 1518237, 1518238, 1518239, 1518240, 1518241, 1518242,\n",
       "             1518243, 1518245, 1518246],\n",
       "            dtype='int64', length=1504133),\n",
       " 'Y': Int64Index([    377,    1138,    1568,    1986,    2033,    2597,    2801,\n",
       "                3014,    3263,    3692,\n",
       "             ...\n",
       "             1515580, 1516002, 1516713, 1516922, 1517342, 1517413, 1517479,\n",
       "             1517513, 1517768, 1517839],\n",
       "            dtype='int64', length=5073)}"
      ]
     },
     "execution_count": 8,
     "metadata": {},
     "output_type": "execute_result"
    }
   ],
   "source": [
    "credit.groupby(\"flbmk\").groups"
   ]
  },
  {
   "cell_type": "code",
   "execution_count": 9,
   "metadata": {},
   "outputs": [
    {
     "data": {
      "text/plain": [
       "1509206"
      ]
     },
     "execution_count": 9,
     "metadata": {},
     "output_type": "execute_result"
    }
   ],
   "source": [
    "1504133+5073"
   ]
  },
  {
   "cell_type": "code",
   "execution_count": 10,
   "metadata": {},
   "outputs": [],
   "source": [
    "import copy"
   ]
  },
  {
   "cell_type": "code",
   "execution_count": 11,
   "metadata": {},
   "outputs": [],
   "source": [
    "temp = credit.copy()"
   ]
  },
  {
   "cell_type": "code",
   "execution_count": 12,
   "metadata": {},
   "outputs": [],
   "source": [
    "temp[\"flbmk\"] = temp[\"flbmk\"].fillna(\"NaN\")"
   ]
  },
  {
   "cell_type": "code",
   "execution_count": 13,
   "metadata": {},
   "outputs": [
    {
     "data": {
      "text/plain": [
       "{'N': Int64Index([      0,       1,       2,       3,       4,       5,       6,\n",
       "                   7,       8,       9,\n",
       "             ...\n",
       "             1518236, 1518237, 1518238, 1518239, 1518240, 1518241, 1518242,\n",
       "             1518243, 1518245, 1518246],\n",
       "            dtype='int64', length=1504133),\n",
       " 'NaN': Int64Index([   4827,    5906,    7136,    7523,   37299,  539837,  540047,\n",
       "              540050,  540052,  540055,\n",
       "             ...\n",
       "             1521777, 1521778, 1521779, 1521780, 1521781, 1521782, 1521783,\n",
       "             1521784, 1521785, 1521786],\n",
       "            dtype='int64', length=12581),\n",
       " 'Y': Int64Index([    377,    1138,    1568,    1986,    2033,    2597,    2801,\n",
       "                3014,    3263,    3692,\n",
       "             ...\n",
       "             1515580, 1516002, 1516713, 1516922, 1517342, 1517413, 1517479,\n",
       "             1517513, 1517768, 1517839],\n",
       "            dtype='int64', length=5073)}"
      ]
     },
     "execution_count": 13,
     "metadata": {},
     "output_type": "execute_result"
    }
   ],
   "source": [
    "temp.groupby(\"flbmk\").groups"
   ]
  },
  {
   "cell_type": "code",
   "execution_count": 14,
   "metadata": {},
   "outputs": [
    {
     "data": {
      "text/plain": [
       "{'N': Int64Index([      0,       1,       2,       3,       4,       5,       6,\n",
       "                   7,       8,       9,\n",
       "             ...\n",
       "             1518236, 1518237, 1518238, 1518239, 1518240, 1518241, 1518242,\n",
       "             1518243, 1518245, 1518246],\n",
       "            dtype='int64', length=1444867),\n",
       " 'NaN': Int64Index([   4827,    5906,    7136,    7523,   37299,  539837,  540047,\n",
       "              540050,  540052,  540055,\n",
       "             ...\n",
       "             1521777, 1521778, 1521779, 1521780, 1521781, 1521782, 1521783,\n",
       "             1521784, 1521785, 1521786],\n",
       "            dtype='int64', length=12581),\n",
       " 'Y': Int64Index([     48,      71,      79,     118,     132,     147,     157,\n",
       "                 171,     438,     471,\n",
       "             ...\n",
       "             1517935, 1517949, 1517974, 1517995, 1518006, 1518081, 1518083,\n",
       "             1518096, 1518151, 1518176],\n",
       "            dtype='int64', length=64339)}"
      ]
     },
     "execution_count": 14,
     "metadata": {},
     "output_type": "execute_result"
    }
   ],
   "source": [
    "temp[\"flg_3dsmk\"] = temp[\"flg_3dsmk\"].fillna(\"NaN\")\n",
    "temp.groupby(\"flg_3dsmk\").groups"
   ]
  },
  {
   "cell_type": "code",
   "execution_count": 15,
   "metadata": {},
   "outputs": [
    {
     "data": {
      "text/plain": [
       "12581"
      ]
     },
     "execution_count": 15,
     "metadata": {},
     "output_type": "execute_result"
    }
   ],
   "source": [
    "temp.groupby(\"flbmk\").get_group('NaN')[\"flbmk\"].count()"
   ]
  },
  {
   "cell_type": "code",
   "execution_count": 16,
   "metadata": {},
   "outputs": [
    {
     "data": {
      "text/plain": [
       "195"
      ]
     },
     "execution_count": 16,
     "metadata": {},
     "output_type": "execute_result"
    }
   ],
   "source": [
    "temp.groupby(\"flbmk\").get_group('NaN')[\"fraud_ind\"].sum()"
   ]
  },
  {
   "cell_type": "code",
   "execution_count": 17,
   "metadata": {},
   "outputs": [],
   "source": [
    "credit_data = credit.drop(\"ecfg\", axis=1).drop(\"ovrlt\", axis=1).drop(\"insfg\", axis=1)\n",
    "# .drop(\"flbmk\", axis=1).drop(\"flg_3dsmk\", axis=1)"
   ]
  },
  {
   "cell_type": "code",
   "execution_count": 18,
   "metadata": {},
   "outputs": [],
   "source": [
    "credit_data = credit_data.dropna()"
   ]
  },
  {
   "cell_type": "code",
   "execution_count": 19,
   "metadata": {},
   "outputs": [
    {
     "data": {
      "text/plain": [
       "0"
      ]
     },
     "execution_count": 19,
     "metadata": {},
     "output_type": "execute_result"
    }
   ],
   "source": [
    "credit_data[\"flbmk\"].isna().sum()"
   ]
  },
  {
   "cell_type": "code",
   "execution_count": 23,
   "metadata": {},
   "outputs": [],
   "source": [
    "credit_data = credit_data.drop(\"flbmk\", axis=1).drop(\"flg_3dsmk\", axis=1)"
   ]
  },
  {
   "cell_type": "code",
   "execution_count": 24,
   "metadata": {},
   "outputs": [],
   "source": [
    "X = credit_data.drop([\"fraud_ind\"], axis=1)\n",
    "y = credit_data[\"fraud_ind\"]"
   ]
  },
  {
   "cell_type": "markdown",
   "metadata": {},
   "source": [
    "處理空值-End"
   ]
  },
  {
   "cell_type": "code",
   "execution_count": null,
   "metadata": {},
   "outputs": [],
   "source": []
  },
  {
   "cell_type": "code",
   "execution_count": null,
   "metadata": {},
   "outputs": [],
   "source": []
  },
  {
   "cell_type": "code",
   "execution_count": null,
   "metadata": {},
   "outputs": [],
   "source": [
    "credit_data = credit.drop(\"ecfg\", axis=1).drop(\"ovrlt\", axis=1).drop(\"insfg\", axis=1)\\\n",
    ".drop(\"flbmk\", axis=1).drop(\"flg_3dsmk\", axis=1)"
   ]
  },
  {
   "cell_type": "code",
   "execution_count": null,
   "metadata": {},
   "outputs": [],
   "source": [
    "credit_data.info()"
   ]
  },
  {
   "cell_type": "code",
   "execution_count": null,
   "metadata": {},
   "outputs": [],
   "source": [
    "credit_data.describe()"
   ]
  },
  {
   "cell_type": "code",
   "execution_count": null,
   "metadata": {},
   "outputs": [],
   "source": [
    "X = credit_data.drop([\"fraud_ind\"], axis=1)\n",
    "y = credit_data[\"fraud_ind\"]"
   ]
  },
  {
   "cell_type": "code",
   "execution_count": null,
   "metadata": {},
   "outputs": [],
   "source": [
    "y.head()"
   ]
  },
  {
   "cell_type": "code",
   "execution_count": null,
   "metadata": {},
   "outputs": [],
   "source": [
    "X.head()"
   ]
  },
  {
   "cell_type": "markdown",
   "metadata": {},
   "source": [
    "處理分類-Start"
   ]
  },
  {
   "cell_type": "code",
   "execution_count": null,
   "metadata": {},
   "outputs": [],
   "source": [
    "from sklearn.preprocessing import LabelEncoder"
   ]
  },
  {
   "cell_type": "code",
   "execution_count": null,
   "metadata": {},
   "outputs": [],
   "source": [
    "credit[\"ecfg\"].head()"
   ]
  },
  {
   "cell_type": "code",
   "execution_count": null,
   "metadata": {},
   "outputs": [],
   "source": [
    "encoder_ecfg = LabelEncoder()\n",
    "credit_ecfg = credit[\"ecfg\"]\n",
    "credit_ecfg_encoded = encoder_ecfg.fit_transform(credit_ecfg)\n",
    "print(encoder_ecfg.classes_)\n",
    "print(type(credit_ecfg_encoded))\n",
    "print(credit_ecfg_encoded)"
   ]
  },
  {
   "cell_type": "code",
   "execution_count": null,
   "metadata": {},
   "outputs": [],
   "source": [
    "pd_ecfg = pd.DataFrame(credit_ecfg_encoded, columns=['ecfg'])\n",
    "pd_ecfg.head()"
   ]
  },
  {
   "cell_type": "code",
   "execution_count": null,
   "metadata": {},
   "outputs": [],
   "source": [
    "encoder_ovrlt = LabelEncoder()\n",
    "credit_ovrlt = credit[\"ovrlt\"]\n",
    "credit_ovrlt_encoded = encoder_ovrlt.fit_transform(credit_ovrlt)\n",
    "print(encoder_ovrlt.classes_)\n",
    "print(type(credit_ovrlt_encoded))\n",
    "print(credit_ovrlt_encoded)"
   ]
  },
  {
   "cell_type": "code",
   "execution_count": null,
   "metadata": {},
   "outputs": [],
   "source": [
    "pd_ovrlt = pd.DataFrame(credit_ovrlt_encoded, columns=['ovrlt'])\n",
    "pd_ovrlt.head()"
   ]
  },
  {
   "cell_type": "code",
   "execution_count": null,
   "metadata": {},
   "outputs": [],
   "source": [
    "encoder_insfg = LabelEncoder()\n",
    "credit_insfg  = credit[\"insfg\"]\n",
    "credit_insfg_encoded = encoder_insfg.fit_transform(credit_ovrlt)\n",
    "print(encoder_insfg.classes_)\n",
    "print(type(credit_insfg_encoded))\n",
    "print(credit_insfg_encoded)"
   ]
  },
  {
   "cell_type": "code",
   "execution_count": null,
   "metadata": {},
   "outputs": [],
   "source": [
    "pd_insfg = pd.DataFrame(credit_insfg_encoded, columns=['insfg'])\n",
    "pd_insfg.head()"
   ]
  },
  {
   "cell_type": "markdown",
   "metadata": {},
   "source": [
    "處理分類-End"
   ]
  },
  {
   "cell_type": "markdown",
   "metadata": {},
   "source": [
    "連結X跟分類後的屬性-Start"
   ]
  },
  {
   "cell_type": "code",
   "execution_count": null,
   "metadata": {},
   "outputs": [],
   "source": [
    "# X_temp = pd.concat([X, pd_ecfg], axis=1)\n",
    "# X_temp = pd.concat([X, pd_ovrlt], axis=1)\n",
    "# X_temp = pd.concat([X, pd_insfg], axis=1)\n",
    "X_temp = pd.concat([X, pd_ecfg, pd_ovrlt, pd_insfg], axis=1)"
   ]
  },
  {
   "cell_type": "markdown",
   "metadata": {},
   "source": [
    "連結X跟分類後的屬性-End"
   ]
  },
  {
   "cell_type": "markdown",
   "metadata": {},
   "source": [
    "分析類別變數-Start"
   ]
  },
  {
   "cell_type": "code",
   "execution_count": null,
   "metadata": {},
   "outputs": [],
   "source": [
    "frame = credit.groupby(\"ecfg\")\n",
    "frame.groups.get(\"N\")[-1]"
   ]
  },
  {
   "cell_type": "code",
   "execution_count": null,
   "metadata": {},
   "outputs": [],
   "source": [
    "frame = credit.groupby(\"ecfg\")\n",
    "frame.groups\n",
    "print(\"ecfg Y\", frame.get_group(\"Y\")[\"fraud_ind\"].sum())\n",
    "print(\"ecfg Y\", frame.get_group(\"Y\")[\"fraud_ind\"].sum()/ frame.groups.get(\"Y\")[-1])\n",
    "print(\"ecfg N\", frame.get_group(\"N\")[\"fraud_ind\"].sum())\n",
    "print(\"ecfg N\", frame.get_group(\"N\")[\"fraud_ind\"].sum()/ frame.groups.get(\"N\")[-1])\n",
    "frame = credit.groupby(\"ovrlt\")\n",
    "frame.groups\n",
    "print(\"ovrlt Y\", frame.get_group(\"Y\")[\"fraud_ind\"].sum())\n",
    "print(\"ovrlt Y\", frame.get_group(\"Y\")[\"fraud_ind\"].sum()/ frame.groups.get(\"Y\")[-1])\n",
    "print(\"ovrlt N\", frame.get_group(\"N\")[\"fraud_ind\"].sum())\n",
    "print(\"ovrlt N\", frame.get_group(\"N\")[\"fraud_ind\"].sum()/ frame.groups.get(\"N\")[-1])\n",
    "frame = credit.groupby(\"insfg\")\n",
    "frame.groups\n",
    "print(\"insfg Y\", frame.get_group(\"Y\")[\"fraud_ind\"].sum())\n",
    "print(\"insfg Y\", frame.get_group(\"Y\")[\"fraud_ind\"].sum()/ frame.groups.get(\"Y\")[-1])\n",
    "print(\"insfg N\", frame.get_group(\"N\")[\"fraud_ind\"].sum())\n",
    "print(\"insfg N\", frame.get_group(\"N\")[\"fraud_ind\"].sum()/ frame.groups.get(\"N\")[-1])"
   ]
  },
  {
   "cell_type": "markdown",
   "metadata": {},
   "source": [
    "分析類別變數-End"
   ]
  },
  {
   "cell_type": "code",
   "execution_count": 25,
   "metadata": {},
   "outputs": [],
   "source": [
    "# from sklearn.model_selection import train_test_split\n",
    "# X_train, X_test, y_train, y_test = train_test_split(X, y, test_size = 0.2, random_state = 0)\n",
    "# X_train = X_temp\n",
    "X_train = X\n",
    "y_train = y"
   ]
  },
  {
   "cell_type": "code",
   "execution_count": 26,
   "metadata": {},
   "outputs": [
    {
     "name": "stderr",
     "output_type": "stream",
     "text": [
      "C:\\Users\\lee\\AppData\\Local\\conda\\conda\\envs\\shu\\lib\\site-packages\\sklearn\\ensemble\\forest.py:245: FutureWarning: The default value of n_estimators will change from 10 in version 0.20 to 100 in 0.22.\n",
      "  \"10 in version 0.20 to 100 in 0.22.\", FutureWarning)\n"
     ]
    }
   ],
   "source": [
    "from sklearn.linear_model import LogisticRegression\n",
    "from sklearn.ensemble import RandomForestClassifier\n",
    "from sklearn.ensemble import GradientBoostingClassifier\n",
    "from sklearn.ensemble import AdaBoostClassifier\n",
    "import xgboost as xgb\n",
    "# import lightgbm as lgb\n",
    "# clf = LogisticRegression(random_state=0, solver='lbfgs',\n",
    "#                          multi_class='multinomial').fit(X_train, y_train)\n",
    "clf = RandomForestClassifier().fit(X_train, y_train)\n",
    "# clf = GradientBoostingClassifier().fit(X_train, y_train)\n",
    "# clf = AdaBoostClassifier().fit(X_train, y_train)\n",
    "# clf = xgb.XGBClassifier().fit(X_train, y_train)"
   ]
  },
  {
   "cell_type": "code",
   "execution_count": 27,
   "metadata": {},
   "outputs": [
    {
     "data": {
      "text/plain": [
       "array([0, 0, 0, ..., 0, 0, 0], dtype=int64)"
      ]
     },
     "execution_count": 27,
     "metadata": {},
     "output_type": "execute_result"
    }
   ],
   "source": [
    "clf.predict(X_train)"
   ]
  },
  {
   "cell_type": "code",
   "execution_count": 28,
   "metadata": {},
   "outputs": [
    {
     "data": {
      "text/plain": [
       "array([0, 0, 0, ..., 0, 0, 0], dtype=int64)"
      ]
     },
     "execution_count": 28,
     "metadata": {},
     "output_type": "execute_result"
    }
   ],
   "source": [
    "y_train.to_numpy()"
   ]
  },
  {
   "cell_type": "code",
   "execution_count": 29,
   "metadata": {},
   "outputs": [
    {
     "data": {
      "text/plain": [
       "0.9993142089284034"
      ]
     },
     "execution_count": 29,
     "metadata": {},
     "output_type": "execute_result"
    }
   ],
   "source": [
    "from sklearn.metrics import f1_score\n",
    "f1_score(y_train.to_numpy(), clf.predict(X_train), average='micro')"
   ]
  },
  {
   "cell_type": "code",
   "execution_count": 30,
   "metadata": {},
   "outputs": [],
   "source": [
    "# f1_score(y_test.to_numpy(), clf.predict(X_test), average='micro')"
   ]
  },
  {
   "cell_type": "code",
   "execution_count": 31,
   "metadata": {},
   "outputs": [],
   "source": [
    "credit_test = pd.read_csv(\"test.csv\")"
   ]
  },
  {
   "cell_type": "code",
   "execution_count": 32,
   "metadata": {},
   "outputs": [
    {
     "name": "stdout",
     "output_type": "stream",
     "text": [
      "<class 'pandas.core.frame.DataFrame'>\n",
      "Int64Index: 1509206 entries, 0 to 1518246\n",
      "Data columns (total 17 columns):\n",
      "acqic    1509206 non-null int64\n",
      "bacno    1509206 non-null int64\n",
      "cano     1509206 non-null int64\n",
      "conam    1509206 non-null float64\n",
      "contp    1509206 non-null int64\n",
      "csmcu    1509206 non-null int64\n",
      "etymd    1509206 non-null int64\n",
      "hcefg    1509206 non-null int64\n",
      "iterm    1509206 non-null int64\n",
      "locdt    1509206 non-null int64\n",
      "loctm    1509206 non-null float64\n",
      "mcc      1509206 non-null int64\n",
      "mchno    1509206 non-null int64\n",
      "scity    1509206 non-null int64\n",
      "stocn    1509206 non-null int64\n",
      "stscd    1509206 non-null int64\n",
      "txkey    1509206 non-null int64\n",
      "dtypes: float64(2), int64(15)\n",
      "memory usage: 207.3 MB\n"
     ]
    }
   ],
   "source": [
    "X.info()"
   ]
  },
  {
   "cell_type": "code",
   "execution_count": 33,
   "metadata": {
    "scrolled": true
   },
   "outputs": [
    {
     "name": "stdout",
     "output_type": "stream",
     "text": [
      "<class 'pandas.core.frame.DataFrame'>\n",
      "RangeIndex: 421665 entries, 0 to 421664\n",
      "Data columns (total 22 columns):\n",
      "acqic        421665 non-null int64\n",
      "bacno        421665 non-null int64\n",
      "cano         421665 non-null int64\n",
      "conam        421665 non-null float64\n",
      "contp        421665 non-null int64\n",
      "csmcu        421665 non-null int64\n",
      "ecfg         421665 non-null object\n",
      "etymd        421665 non-null int64\n",
      "flbmk        417950 non-null object\n",
      "flg_3dsmk    417950 non-null object\n",
      "hcefg        421665 non-null int64\n",
      "insfg        421665 non-null object\n",
      "iterm        421665 non-null int64\n",
      "locdt        421665 non-null int64\n",
      "loctm        421665 non-null float64\n",
      "mcc          421665 non-null int64\n",
      "mchno        421665 non-null int64\n",
      "ovrlt        421665 non-null object\n",
      "scity        421665 non-null int64\n",
      "stocn        421665 non-null int64\n",
      "stscd        421665 non-null int64\n",
      "txkey        421665 non-null int64\n",
      "dtypes: float64(2), int64(15), object(5)\n",
      "memory usage: 70.8+ MB\n"
     ]
    }
   ],
   "source": [
    "credit_test.info()"
   ]
  },
  {
   "cell_type": "code",
   "execution_count": 34,
   "metadata": {},
   "outputs": [],
   "source": [
    "X_test = credit_test.drop(\"ecfg\", axis=1).drop(\"flbmk\", axis=1)\\\n",
    ".drop(\"flg_3dsmk\", axis=1).drop(\"insfg\", axis=1).drop(\"ovrlt\", axis=1)"
   ]
  },
  {
   "cell_type": "code",
   "execution_count": 35,
   "metadata": {},
   "outputs": [
    {
     "name": "stdout",
     "output_type": "stream",
     "text": [
      "<class 'pandas.core.frame.DataFrame'>\n",
      "RangeIndex: 421665 entries, 0 to 421664\n",
      "Data columns (total 17 columns):\n",
      "acqic    421665 non-null int64\n",
      "bacno    421665 non-null int64\n",
      "cano     421665 non-null int64\n",
      "conam    421665 non-null float64\n",
      "contp    421665 non-null int64\n",
      "csmcu    421665 non-null int64\n",
      "etymd    421665 non-null int64\n",
      "hcefg    421665 non-null int64\n",
      "iterm    421665 non-null int64\n",
      "locdt    421665 non-null int64\n",
      "loctm    421665 non-null float64\n",
      "mcc      421665 non-null int64\n",
      "mchno    421665 non-null int64\n",
      "scity    421665 non-null int64\n",
      "stocn    421665 non-null int64\n",
      "stscd    421665 non-null int64\n",
      "txkey    421665 non-null int64\n",
      "dtypes: float64(2), int64(15)\n",
      "memory usage: 54.7 MB\n"
     ]
    }
   ],
   "source": [
    "X_test.info()"
   ]
  },
  {
   "cell_type": "markdown",
   "metadata": {},
   "source": [
    "test 補上分類的feature-Start"
   ]
  },
  {
   "cell_type": "code",
   "execution_count": 36,
   "metadata": {},
   "outputs": [
    {
     "data": {
      "text/plain": [
       "0    N\n",
       "1    N\n",
       "2    N\n",
       "3    N\n",
       "4    N\n",
       "Name: ecfg, dtype: object"
      ]
     },
     "execution_count": 36,
     "metadata": {},
     "output_type": "execute_result"
    }
   ],
   "source": [
    "credit_test[\"ecfg\"].head()"
   ]
  },
  {
   "cell_type": "code",
   "execution_count": 37,
   "metadata": {},
   "outputs": [
    {
     "ename": "NameError",
     "evalue": "name 'encoder_ecfg' is not defined",
     "output_type": "error",
     "traceback": [
      "\u001b[1;31m---------------------------------------------------------------------------\u001b[0m",
      "\u001b[1;31mNameError\u001b[0m                                 Traceback (most recent call last)",
      "\u001b[1;32m<ipython-input-37-5734f0e2275d>\u001b[0m in \u001b[0;36m<module>\u001b[1;34m\u001b[0m\n\u001b[1;32m----> 1\u001b[1;33m \u001b[0mcredit_ecfg_encoded_test\u001b[0m \u001b[1;33m=\u001b[0m \u001b[0mencoder_ecfg\u001b[0m\u001b[1;33m.\u001b[0m\u001b[0mtransform\u001b[0m\u001b[1;33m(\u001b[0m\u001b[0mcredit_test\u001b[0m\u001b[1;33m[\u001b[0m\u001b[1;34m\"ecfg\"\u001b[0m\u001b[1;33m]\u001b[0m\u001b[1;33m)\u001b[0m\u001b[1;33m\u001b[0m\u001b[1;33m\u001b[0m\u001b[0m\n\u001b[0m\u001b[0;32m      2\u001b[0m \u001b[0mpd_ecfg_test\u001b[0m \u001b[1;33m=\u001b[0m \u001b[0mpd\u001b[0m\u001b[1;33m.\u001b[0m\u001b[0mDataFrame\u001b[0m\u001b[1;33m(\u001b[0m\u001b[0mcredit_ecfg_encoded_test\u001b[0m\u001b[1;33m,\u001b[0m \u001b[0mcolumns\u001b[0m\u001b[1;33m=\u001b[0m\u001b[1;33m[\u001b[0m\u001b[1;34m'ecfg'\u001b[0m\u001b[1;33m]\u001b[0m\u001b[1;33m)\u001b[0m\u001b[1;33m\u001b[0m\u001b[1;33m\u001b[0m\u001b[0m\n\u001b[0;32m      3\u001b[0m \u001b[0mpd_ecfg_test\u001b[0m\u001b[1;33m.\u001b[0m\u001b[0mhead\u001b[0m\u001b[1;33m(\u001b[0m\u001b[1;33m)\u001b[0m\u001b[1;33m\u001b[0m\u001b[1;33m\u001b[0m\u001b[0m\n",
      "\u001b[1;31mNameError\u001b[0m: name 'encoder_ecfg' is not defined"
     ]
    }
   ],
   "source": [
    "credit_ecfg_encoded_test = encoder_ecfg.transform(credit_test[\"ecfg\"])\n",
    "pd_ecfg_test = pd.DataFrame(credit_ecfg_encoded_test, columns=['ecfg'])\n",
    "pd_ecfg_test.head()"
   ]
  },
  {
   "cell_type": "code",
   "execution_count": null,
   "metadata": {},
   "outputs": [],
   "source": [
    "credit_ovrlt_encoded_test = encoder_ovrlt.fit_transform(credit_test[\"ovrlt\"])\n",
    "pd_ovrlt_test = pd.DataFrame(credit_ovrlt_encoded_test, columns=['ovrlt'])\n",
    "pd_ovrlt_test.head()"
   ]
  },
  {
   "cell_type": "code",
   "execution_count": null,
   "metadata": {},
   "outputs": [],
   "source": [
    "credit_insfg_encoded_test = encoder_insfg.fit_transform(credit_test[\"insfg\"])\n",
    "pd_insfg_test = pd.DataFrame(credit_insfg_encoded_test, columns=['insfg'])\n",
    "pd_insfg_test.head()"
   ]
  },
  {
   "cell_type": "markdown",
   "metadata": {},
   "source": [
    "test 補上分類的feature-End"
   ]
  },
  {
   "cell_type": "code",
   "execution_count": null,
   "metadata": {},
   "outputs": [],
   "source": [
    "type(X_test)"
   ]
  },
  {
   "cell_type": "code",
   "execution_count": null,
   "metadata": {},
   "outputs": [],
   "source": [
    "type(credit_ecfg_encoded_test)"
   ]
  },
  {
   "cell_type": "code",
   "execution_count": null,
   "metadata": {},
   "outputs": [],
   "source": [
    "# X_temp_test = pd.concat([X_test, pd_ecfg_test], axis=1)\n",
    "# X_temp_test = pd.concat([X_test, pd_ovrlt_test], axis=1)\n",
    "# X_temp_test = pd.concat([X_test, pd_insfg_test], axis=1)\n",
    "X_temp_test = pd.concat([X_test, pd_ecfg_test, pd_ovrlt_test, pd_insfg_test], axis=1)"
   ]
  },
  {
   "cell_type": "code",
   "execution_count": null,
   "metadata": {},
   "outputs": [],
   "source": [
    "y_test = clf.predict(X_temp_test)"
   ]
  },
  {
   "cell_type": "code",
   "execution_count": null,
   "metadata": {},
   "outputs": [],
   "source": [
    "y_test.shape"
   ]
  },
  {
   "cell_type": "code",
   "execution_count": null,
   "metadata": {},
   "outputs": [],
   "source": [
    "X_test.head()"
   ]
  },
  {
   "cell_type": "code",
   "execution_count": null,
   "metadata": {},
   "outputs": [],
   "source": [
    "pd.DataFrame(y_test).head()"
   ]
  },
  {
   "cell_type": "code",
   "execution_count": null,
   "metadata": {},
   "outputs": [],
   "source": [
    "credit_test_submit = pd.read_csv(\"submission_test.csv\")\n",
    "type(credit_test_submit[\"fraud_ind\"])"
   ]
  },
  {
   "cell_type": "code",
   "execution_count": null,
   "metadata": {},
   "outputs": [],
   "source": [
    "type(pd.DataFrame(y_test))"
   ]
  },
  {
   "cell_type": "code",
   "execution_count": null,
   "metadata": {},
   "outputs": [],
   "source": [
    "credit_test_submit[\"fraud_ind\"] = pd.DataFrame(y_test)"
   ]
  },
  {
   "cell_type": "code",
   "execution_count": null,
   "metadata": {
    "scrolled": true
   },
   "outputs": [],
   "source": [
    "credit_test_submit.head()"
   ]
  },
  {
   "cell_type": "code",
   "execution_count": null,
   "metadata": {},
   "outputs": [],
   "source": [
    "credit_test_submit.to_csv(\"output.csv\", index=False)"
   ]
  },
  {
   "cell_type": "code",
   "execution_count": null,
   "metadata": {},
   "outputs": [],
   "source": []
  },
  {
   "cell_type": "code",
   "execution_count": null,
   "metadata": {},
   "outputs": [],
   "source": []
  }
 ],
 "metadata": {
  "kernelspec": {
   "display_name": "Python 3",
   "language": "python",
   "name": "python3"
  },
  "language_info": {
   "codemirror_mode": {
    "name": "ipython",
    "version": 3
   },
   "file_extension": ".py",
   "mimetype": "text/x-python",
   "name": "python",
   "nbconvert_exporter": "python",
   "pygments_lexer": "ipython3",
   "version": "3.6.8"
  }
 },
 "nbformat": 4,
 "nbformat_minor": 2
}
