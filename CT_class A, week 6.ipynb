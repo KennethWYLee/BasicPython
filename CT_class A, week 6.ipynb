{
 "cells": [
  {
   "cell_type": "code",
   "execution_count": 1,
   "metadata": {},
   "outputs": [],
   "source": [
    "import random"
   ]
  },
  {
   "cell_type": "code",
   "execution_count": 21,
   "metadata": {},
   "outputs": [
    {
     "data": {
      "text/plain": [
       "0.7668957514673795"
      ]
     },
     "execution_count": 21,
     "metadata": {},
     "output_type": "execute_result"
    }
   ],
   "source": [
    "random.random()"
   ]
  },
  {
   "cell_type": "code",
   "execution_count": 61,
   "metadata": {},
   "outputs": [
    {
     "name": "stdout",
     "output_type": "stream",
     "text": [
      "0 82\n",
      "1 85\n",
      "2 27\n",
      "3 39\n",
      "4 50\n",
      "5 86\n",
      "6 13\n",
      "7 93\n",
      "8 88\n",
      "9 72\n",
      "奇數: 6 偶數: 4\n"
     ]
    }
   ],
   "source": [
    "odd  = 0\n",
    "even = 0\n",
    "for i in range(0, 10):\n",
    "    print(i, random.randint(1, 100))\n",
    "    if(random.randint(1, 100)%2!=0):\n",
    "        odd = odd+1\n",
    "    elif(random.randint(1, 100)%2==0):\n",
    "        even = even+1\n",
    "print(\"奇數:\", odd, \"偶數:\", even)"
   ]
  },
  {
   "cell_type": "code",
   "execution_count": 62,
   "metadata": {},
   "outputs": [
    {
     "name": "stdout",
     "output_type": "stream",
     "text": [
      "0 91\n",
      "1 4\n",
      "2 75\n",
      "3 59\n",
      "4 32\n",
      "5 37\n",
      "6 52\n",
      "7 33\n",
      "8 96\n",
      "9 95\n",
      "奇數: 6 偶數: 4\n"
     ]
    }
   ],
   "source": [
    "odd  = 0\n",
    "even = 0\n",
    "for i in range(0, 10):\n",
    "    num = random.randint(1, 100)\n",
    "    print(i, num)\n",
    "    if(num%2!=0):\n",
    "        odd = odd+1\n",
    "    elif(num%2==0):\n",
    "        even = even+1\n",
    "print(\"奇數:\", odd, \"偶數:\", even)"
   ]
  },
  {
   "cell_type": "code",
   "execution_count": 77,
   "metadata": {},
   "outputs": [
    {
     "name": "stdout",
     "output_type": "stream",
     "text": [
      "6 不是質數. 因為 6 % 2 等於 0\n"
     ]
    }
   ],
   "source": [
    "num = 6\n",
    "sign = 0\n",
    "for i in range(2, num):\n",
    "    if(num % i == 0):\n",
    "        print(num, \"不是質數. 因為\", num, \"%\", i, \"等於 0\")\n",
    "        sign = 1\n",
    "        break\n",
    "\n",
    "if(sign==0):\n",
    "    print(num, \"是質數.\")"
   ]
  },
  {
   "cell_type": "code",
   "execution_count": 78,
   "metadata": {},
   "outputs": [
    {
     "name": "stdout",
     "output_type": "stream",
     "text": [
      "2 是質數.\n",
      "3 是質數.\n",
      "4 不是質數. 因為 4 % 2 等於 0\n",
      "5 是質數.\n",
      "6 不是質數. 因為 6 % 2 等於 0\n",
      "7 是質數.\n",
      "8 不是質數. 因為 8 % 2 等於 0\n",
      "9 不是質數. 因為 9 % 3 等於 0\n"
     ]
    }
   ],
   "source": [
    "for q in range(2, 10):\n",
    "    num = q\n",
    "    sign = 0\n",
    "    for i in range(2, num):\n",
    "        if(num % i == 0):\n",
    "            print(num, \"不是質數. 因為\", num, \"%\", i, \"等於 0\")\n",
    "            sign = 1\n",
    "            break\n",
    "\n",
    "    if(sign==0):\n",
    "        print(num, \"是質數.\")"
   ]
  },
  {
   "cell_type": "code",
   "execution_count": null,
   "metadata": {},
   "outputs": [],
   "source": []
  },
  {
   "cell_type": "code",
   "execution_count": null,
   "metadata": {},
   "outputs": [],
   "source": []
  }
 ],
 "metadata": {
  "kernelspec": {
   "display_name": "Python 3",
   "language": "python",
   "name": "python3"
  },
  "language_info": {
   "codemirror_mode": {
    "name": "ipython",
    "version": 3
   },
   "file_extension": ".py",
   "mimetype": "text/x-python",
   "name": "python",
   "nbconvert_exporter": "python",
   "pygments_lexer": "ipython3",
   "version": "3.7.3"
  }
 },
 "nbformat": 4,
 "nbformat_minor": 2
}
