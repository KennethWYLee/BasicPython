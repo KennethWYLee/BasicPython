{
 "cells": [
  {
   "cell_type": "code",
   "execution_count": 1,
   "metadata": {},
   "outputs": [],
   "source": [
    "for i in range(0, 10):\n",
    "    print(i)"
   ]
  },
  {
   "cell_type": "code",
   "execution_count": 2,
   "metadata": {},
   "outputs": [
    {
     "name": "stdout",
     "output_type": "stream",
     "text": [
      "in loop,  0\n",
      "in loop,  1\n",
      "in loop,  2\n",
      "out of the loop,  2\n"
     ]
    }
   ],
   "source": [
    "for i in range(0, 10):\n",
    "    print(\"in loop, \", i)\n",
    "    if(i >= 2):\n",
    "        break\n",
    "print(\"out of the loop, \", i)"
   ]
  },
  {
   "cell_type": "code",
   "execution_count": 3,
   "metadata": {},
   "outputs": [
    {
     "name": "stdout",
     "output_type": "stream",
     "text": [
      "in loop,  0\n",
      "in loop,  1\n",
      "out of the loop,  2\n"
     ]
    }
   ],
   "source": [
    "for i in range(0, 10):\n",
    "    if(i >= 2):\n",
    "        break\n",
    "    print(\"in loop, \", i)\n",
    "print(\"out of the loop, \", i)"
   ]
  },
  {
   "cell_type": "code",
   "execution_count": 4,
   "metadata": {},
   "outputs": [
    {
     "name": "stdout",
     "output_type": "stream",
     "text": [
      "in loop,  0\n",
      "in loop,  1\n",
      "out of the loop,  9\n"
     ]
    }
   ],
   "source": [
    "for i in range(0, 10):\n",
    "    if(i >= 2):\n",
    "        continue\n",
    "    print(\"in loop, \", i)\n",
    "print(\"out of the loop, \", i)"
   ]
  },
  {
   "cell_type": "code",
   "execution_count": null,
   "metadata": {},
   "outputs": [],
   "source": []
  },
  {
   "cell_type": "code",
   "execution_count": 5,
   "metadata": {},
   "outputs": [
    {
     "name": "stdout",
     "output_type": "stream",
     "text": [
      "4\n"
     ]
    }
   ],
   "source": [
    "total = 0\n",
    "number = 0\n",
    "while True:\n",
    "    number = number + 1\n",
    "    total  = total + number\n",
    "    if(total >= 10):\n",
    "        break\n",
    "print(number)"
   ]
  },
  {
   "cell_type": "code",
   "execution_count": 6,
   "metadata": {},
   "outputs": [
    {
     "name": "stdout",
     "output_type": "stream",
     "text": [
      "6\n"
     ]
    }
   ],
   "source": [
    "total = 0\n",
    "number = 0\n",
    "while True:\n",
    "    number = number + 2\n",
    "    total  = total + number\n",
    "    if(total >= 10):\n",
    "        break\n",
    "print(number)"
   ]
  },
  {
   "cell_type": "code",
   "execution_count": 7,
   "metadata": {},
   "outputs": [
    {
     "name": "stdout",
     "output_type": "stream",
     "text": [
      "1 1\n",
      "2 3\n",
      "3 6\n",
      "4 10\n",
      "4\n"
     ]
    }
   ],
   "source": [
    "total = 0\n",
    "number = 0\n",
    "while True:\n",
    "    number = number + 1\n",
    "    total  = total + number\n",
    "    print(number, total)\n",
    "    if(total >= 10):\n",
    "        break\n",
    "print(number)"
   ]
  },
  {
   "cell_type": "code",
   "execution_count": 8,
   "metadata": {},
   "outputs": [
    {
     "name": "stdout",
     "output_type": "stream",
     "text": [
      "2 2\n",
      "4 6\n",
      "6 12\n",
      "6\n"
     ]
    }
   ],
   "source": [
    "total = 0\n",
    "number = 0\n",
    "while True:\n",
    "    number = number + 1\n",
    "    if(number%2!=0):\n",
    "        continue\n",
    "    total  = total + number\n",
    "    print(number, total)\n",
    "    if(total >= 10):\n",
    "        break\n",
    "print(number)"
   ]
  },
  {
   "cell_type": "code",
   "execution_count": 9,
   "metadata": {},
   "outputs": [
    {
     "name": "stdout",
     "output_type": "stream",
     "text": [
      "1 1\n",
      "3 4\n",
      "5 9\n",
      "7 16\n",
      "7\n"
     ]
    }
   ],
   "source": [
    "total = 0\n",
    "number = 0\n",
    "while True:\n",
    "    number = number + 1\n",
    "    if(number%2==0):\n",
    "        continue\n",
    "    total  = total + number\n",
    "    print(number, total)\n",
    "    if(total >= 10):\n",
    "        break\n",
    "print(number)"
   ]
  },
  {
   "cell_type": "code",
   "execution_count": null,
   "metadata": {},
   "outputs": [],
   "source": []
  },
  {
   "cell_type": "code",
   "execution_count": 10,
   "metadata": {},
   "outputs": [],
   "source": [
    "import random"
   ]
  },
  {
   "cell_type": "code",
   "execution_count": 11,
   "metadata": {},
   "outputs": [
    {
     "data": {
      "text/plain": [
       "0.11143829258672644"
      ]
     },
     "execution_count": 11,
     "metadata": {},
     "output_type": "execute_result"
    }
   ],
   "source": [
    "random.random()"
   ]
  },
  {
   "cell_type": "code",
   "execution_count": 12,
   "metadata": {},
   "outputs": [
    {
     "name": "stdout",
     "output_type": "stream",
     "text": [
      "0 1\n",
      "1 3\n",
      "2 3\n",
      "3 2\n",
      "4 4\n",
      "5 4\n",
      "6 4\n",
      "7 3\n",
      "8 3\n",
      "9 4\n"
     ]
    }
   ],
   "source": [
    "for i in range(0, 10):\n",
    "    print(i, random.randint(1, 4))"
   ]
  },
  {
   "cell_type": "code",
   "execution_count": 13,
   "metadata": {},
   "outputs": [
    {
     "data": {
      "text/plain": [
       "1"
      ]
     },
     "execution_count": 13,
     "metadata": {},
     "output_type": "execute_result"
    }
   ],
   "source": [
    "random.randint(1, 4)"
   ]
  },
  {
   "cell_type": "code",
   "execution_count": 14,
   "metadata": {},
   "outputs": [
    {
     "name": "stdout",
     "output_type": "stream",
     "text": [
      "3\n",
      "3\n",
      "3\n",
      "2\n",
      "2\n",
      "3\n",
      "2\n",
      "2\n",
      "1\n",
      "4\n",
      "odd:  5\n",
      "even: 5\n"
     ]
    }
   ],
   "source": [
    "odd  = 0\n",
    "even = 0\n",
    "for i in range(0, 10):\n",
    "    num = random.randint(1, 4)\n",
    "    print(num)\n",
    "    if(num%2==0):\n",
    "        even = even + 1\n",
    "    else:\n",
    "        odd = odd + 1\n",
    "print(\"odd: \", odd)\n",
    "print(\"even:\", even)"
   ]
  },
  {
   "cell_type": "code",
   "execution_count": 15,
   "metadata": {},
   "outputs": [
    {
     "name": "stdout",
     "output_type": "stream",
     "text": [
      "2 是質數\n"
     ]
    }
   ],
   "source": [
    "num = 2\n",
    "sign = 0\n",
    "for i in range(2, num):\n",
    "    if(num%i == 0):\n",
    "        print(num, \"不是質數\")\n",
    "        sign = 1\n",
    "        break\n",
    "if(sign == 0 ):\n",
    "    print(num, \"是質數\")"
   ]
  },
  {
   "cell_type": "code",
   "execution_count": 16,
   "metadata": {},
   "outputs": [
    {
     "name": "stdout",
     "output_type": "stream",
     "text": [
      "2 是質數\n",
      "3 是質數\n",
      "4 不是質數\n",
      "5 是質數\n",
      "6 不是質數\n",
      "7 是質數\n",
      "8 不是質數\n",
      "9 不是質數\n",
      "10 不是質數\n"
     ]
    }
   ],
   "source": [
    "for num in range(2, 11):\n",
    "    sign = 0\n",
    "    for i in range(2, num):\n",
    "        if(num%i == 0):\n",
    "            print(num, \"不是質數\")\n",
    "            sign = 1\n",
    "            break\n",
    "    if(sign == 0 ):\n",
    "        print(num, \"是質數\")"
   ]
  },
  {
   "cell_type": "code",
   "execution_count": 17,
   "metadata": {},
   "outputs": [
    {
     "name": "stdout",
     "output_type": "stream",
     "text": [
      "2 是質數\n",
      "3 是質數\n",
      "4 不是質數\n",
      "5 是質數\n",
      "6 不是質數\n",
      "7 是質數\n",
      "8 不是質數\n",
      "9 不是質數\n",
      "10 不是質數\n"
     ]
    }
   ],
   "source": [
    "for j in range(2, 11):\n",
    "    num = j\n",
    "    sign = 0\n",
    "    for i in range(2, num):\n",
    "        if(num%i == 0):\n",
    "            print(num, \"不是質數\")\n",
    "            sign = 1\n",
    "            break\n",
    "    if(sign == 0 ):\n",
    "        print(num, \"是質數\")"
   ]
  },
  {
   "cell_type": "code",
   "execution_count": null,
   "metadata": {},
   "outputs": [],
   "source": []
  }
 ],
 "metadata": {
  "kernelspec": {
   "display_name": "Python 3",
   "language": "python",
   "name": "python3"
  },
  "language_info": {
   "codemirror_mode": {
    "name": "ipython",
    "version": 3
   },
   "file_extension": ".py",
   "mimetype": "text/x-python",
   "name": "python",
   "nbconvert_exporter": "python",
   "pygments_lexer": "ipython3",
   "version": "3.7.3"
  }
 },
 "nbformat": 4,
 "nbformat_minor": 2
}
